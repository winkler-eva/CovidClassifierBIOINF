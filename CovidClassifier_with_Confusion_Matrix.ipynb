{
  "nbformat": 4,
  "nbformat_minor": 0,
  "metadata": {
    "colab": {
      "name": "CovidClassifier.ipynb",
      "provenance": [],
      "collapsed_sections": [],
      "mount_file_id": "1-EbQiqwtj5tkyCshX1LUBV8yGyyKNOFX",
      "authorship_tag": "ABX9TyNlNPHZEwpEAwvWmqsPdRfj",
      "include_colab_link": true
    },
    "kernelspec": {
      "name": "python3",
      "display_name": "Python 3"
    },
    "language_info": {
      "name": "python"
    },
    "accelerator": "GPU",
    "widgets": {
      "application/vnd.jupyter.widget-state+json": {
        "b1297c365abb4c679e4315aa1b01a569": {
          "model_module": "@jupyter-widgets/controls",
          "model_name": "HBoxModel",
          "state": {
            "_view_name": "HBoxView",
            "_dom_classes": [],
            "_model_name": "HBoxModel",
            "_view_module": "@jupyter-widgets/controls",
            "_model_module_version": "1.5.0",
            "_view_count": null,
            "_view_module_version": "1.5.0",
            "box_style": "",
            "layout": "IPY_MODEL_262a655404a146169c1c7d8da1441f78",
            "_model_module": "@jupyter-widgets/controls",
            "children": [
              "IPY_MODEL_2142082ac5c24110ba380ca6b9369d58",
              "IPY_MODEL_5e6ff1048de34c4996b000ea31b9375b"
            ]
          }
        },
        "262a655404a146169c1c7d8da1441f78": {
          "model_module": "@jupyter-widgets/base",
          "model_name": "LayoutModel",
          "state": {
            "_view_name": "LayoutView",
            "grid_template_rows": null,
            "right": null,
            "justify_content": null,
            "_view_module": "@jupyter-widgets/base",
            "overflow": null,
            "_model_module_version": "1.2.0",
            "_view_count": null,
            "flex_flow": null,
            "width": null,
            "min_width": null,
            "border": null,
            "align_items": null,
            "bottom": null,
            "_model_module": "@jupyter-widgets/base",
            "top": null,
            "grid_column": null,
            "overflow_y": null,
            "overflow_x": null,
            "grid_auto_flow": null,
            "grid_area": null,
            "grid_template_columns": null,
            "flex": null,
            "_model_name": "LayoutModel",
            "justify_items": null,
            "grid_row": null,
            "max_height": null,
            "align_content": null,
            "visibility": null,
            "align_self": null,
            "height": null,
            "min_height": null,
            "padding": null,
            "grid_auto_rows": null,
            "grid_gap": null,
            "max_width": null,
            "order": null,
            "_view_module_version": "1.2.0",
            "grid_template_areas": null,
            "object_position": null,
            "object_fit": null,
            "grid_auto_columns": null,
            "margin": null,
            "display": null,
            "left": null
          }
        },
        "2142082ac5c24110ba380ca6b9369d58": {
          "model_module": "@jupyter-widgets/controls",
          "model_name": "FloatProgressModel",
          "state": {
            "_view_name": "ProgressView",
            "style": "IPY_MODEL_0ffad26fbefc42c29c4a892e36d9074e",
            "_dom_classes": [],
            "description": "100%",
            "_model_name": "FloatProgressModel",
            "bar_style": "success",
            "max": 46827520,
            "_view_module": "@jupyter-widgets/controls",
            "_model_module_version": "1.5.0",
            "value": 46827520,
            "_view_count": null,
            "_view_module_version": "1.5.0",
            "orientation": "horizontal",
            "min": 0,
            "description_tooltip": null,
            "_model_module": "@jupyter-widgets/controls",
            "layout": "IPY_MODEL_05cf053a817f49af888a61486dbb5714"
          }
        },
        "5e6ff1048de34c4996b000ea31b9375b": {
          "model_module": "@jupyter-widgets/controls",
          "model_name": "HTMLModel",
          "state": {
            "_view_name": "HTMLView",
            "style": "IPY_MODEL_ba9d6248a562407d921bc49e2b89de90",
            "_dom_classes": [],
            "description": "",
            "_model_name": "HTMLModel",
            "placeholder": "​",
            "_view_module": "@jupyter-widgets/controls",
            "_model_module_version": "1.5.0",
            "value": " 44.7M/44.7M [00:00&lt;00:00, 152MB/s]",
            "_view_count": null,
            "_view_module_version": "1.5.0",
            "description_tooltip": null,
            "_model_module": "@jupyter-widgets/controls",
            "layout": "IPY_MODEL_6ec94eeecd6b49839e0059209e34794d"
          }
        },
        "0ffad26fbefc42c29c4a892e36d9074e": {
          "model_module": "@jupyter-widgets/controls",
          "model_name": "ProgressStyleModel",
          "state": {
            "_view_name": "StyleView",
            "_model_name": "ProgressStyleModel",
            "description_width": "initial",
            "_view_module": "@jupyter-widgets/base",
            "_model_module_version": "1.5.0",
            "_view_count": null,
            "_view_module_version": "1.2.0",
            "bar_color": null,
            "_model_module": "@jupyter-widgets/controls"
          }
        },
        "05cf053a817f49af888a61486dbb5714": {
          "model_module": "@jupyter-widgets/base",
          "model_name": "LayoutModel",
          "state": {
            "_view_name": "LayoutView",
            "grid_template_rows": null,
            "right": null,
            "justify_content": null,
            "_view_module": "@jupyter-widgets/base",
            "overflow": null,
            "_model_module_version": "1.2.0",
            "_view_count": null,
            "flex_flow": null,
            "width": null,
            "min_width": null,
            "border": null,
            "align_items": null,
            "bottom": null,
            "_model_module": "@jupyter-widgets/base",
            "top": null,
            "grid_column": null,
            "overflow_y": null,
            "overflow_x": null,
            "grid_auto_flow": null,
            "grid_area": null,
            "grid_template_columns": null,
            "flex": null,
            "_model_name": "LayoutModel",
            "justify_items": null,
            "grid_row": null,
            "max_height": null,
            "align_content": null,
            "visibility": null,
            "align_self": null,
            "height": null,
            "min_height": null,
            "padding": null,
            "grid_auto_rows": null,
            "grid_gap": null,
            "max_width": null,
            "order": null,
            "_view_module_version": "1.2.0",
            "grid_template_areas": null,
            "object_position": null,
            "object_fit": null,
            "grid_auto_columns": null,
            "margin": null,
            "display": null,
            "left": null
          }
        },
        "ba9d6248a562407d921bc49e2b89de90": {
          "model_module": "@jupyter-widgets/controls",
          "model_name": "DescriptionStyleModel",
          "state": {
            "_view_name": "StyleView",
            "_model_name": "DescriptionStyleModel",
            "description_width": "",
            "_view_module": "@jupyter-widgets/base",
            "_model_module_version": "1.5.0",
            "_view_count": null,
            "_view_module_version": "1.2.0",
            "_model_module": "@jupyter-widgets/controls"
          }
        },
        "6ec94eeecd6b49839e0059209e34794d": {
          "model_module": "@jupyter-widgets/base",
          "model_name": "LayoutModel",
          "state": {
            "_view_name": "LayoutView",
            "grid_template_rows": null,
            "right": null,
            "justify_content": null,
            "_view_module": "@jupyter-widgets/base",
            "overflow": null,
            "_model_module_version": "1.2.0",
            "_view_count": null,
            "flex_flow": null,
            "width": null,
            "min_width": null,
            "border": null,
            "align_items": null,
            "bottom": null,
            "_model_module": "@jupyter-widgets/base",
            "top": null,
            "grid_column": null,
            "overflow_y": null,
            "overflow_x": null,
            "grid_auto_flow": null,
            "grid_area": null,
            "grid_template_columns": null,
            "flex": null,
            "_model_name": "LayoutModel",
            "justify_items": null,
            "grid_row": null,
            "max_height": null,
            "align_content": null,
            "visibility": null,
            "align_self": null,
            "height": null,
            "min_height": null,
            "padding": null,
            "grid_auto_rows": null,
            "grid_gap": null,
            "max_width": null,
            "order": null,
            "_view_module_version": "1.2.0",
            "grid_template_areas": null,
            "object_position": null,
            "object_fit": null,
            "grid_auto_columns": null,
            "margin": null,
            "display": null,
            "left": null
          }
        },
        "2da59a0849a3484ca96463c44effed79": {
          "model_module": "@jupyter-widgets/controls",
          "model_name": "FileUploadModel",
          "state": {
            "_view_name": "FileUploadView",
            "_counter": 1,
            "style": "IPY_MODEL_83db2d4f4d1c4c429c5981e20ce501eb",
            "_dom_classes": [],
            "description": "Upload",
            "multiple": false,
            "_model_name": "FileUploadModel",
            "data": [
              null
            ],
            "button_style": "",
            "_view_module": "@jupyter-widgets/controls",
            "_model_module_version": "1.5.0",
            "accept": "",
            "_view_count": null,
            "disabled": false,
            "_view_module_version": "1.5.0",
            "error": "",
            "description_tooltip": null,
            "metadata": [
              {
                "name": "Covid_Case_1.jpeg",
                "type": "image/jpeg",
                "size": 53232,
                "lastModified": 1617819777809
              }
            ],
            "_model_module": "@jupyter-widgets/controls",
            "layout": "IPY_MODEL_3e7702c2c1084457a1965bb470d37b61",
            "icon": "upload"
          }
        },
        "83db2d4f4d1c4c429c5981e20ce501eb": {
          "model_module": "@jupyter-widgets/controls",
          "model_name": "ButtonStyleModel",
          "state": {
            "_view_name": "StyleView",
            "_model_name": "ButtonStyleModel",
            "_view_module": "@jupyter-widgets/base",
            "_model_module_version": "1.5.0",
            "_view_count": null,
            "button_color": null,
            "font_weight": "",
            "_view_module_version": "1.2.0",
            "_model_module": "@jupyter-widgets/controls"
          }
        },
        "3e7702c2c1084457a1965bb470d37b61": {
          "model_module": "@jupyter-widgets/base",
          "model_name": "LayoutModel",
          "state": {
            "_view_name": "LayoutView",
            "grid_template_rows": null,
            "right": null,
            "justify_content": null,
            "_view_module": "@jupyter-widgets/base",
            "overflow": null,
            "_model_module_version": "1.2.0",
            "_view_count": null,
            "flex_flow": null,
            "width": null,
            "min_width": null,
            "border": null,
            "align_items": null,
            "bottom": null,
            "_model_module": "@jupyter-widgets/base",
            "top": null,
            "grid_column": null,
            "overflow_y": null,
            "overflow_x": null,
            "grid_auto_flow": null,
            "grid_area": null,
            "grid_template_columns": null,
            "flex": null,
            "_model_name": "LayoutModel",
            "justify_items": null,
            "grid_row": null,
            "max_height": null,
            "align_content": null,
            "visibility": null,
            "align_self": null,
            "height": null,
            "min_height": null,
            "padding": null,
            "grid_auto_rows": null,
            "grid_gap": null,
            "max_width": null,
            "order": null,
            "_view_module_version": "1.2.0",
            "grid_template_areas": null,
            "object_position": null,
            "object_fit": null,
            "grid_auto_columns": null,
            "margin": null,
            "display": null,
            "left": null
          }
        },
        "d8297738a26a47008b400807be3ebfa4": {
          "model_module": "@jupyter-widgets/output",
          "model_name": "OutputModel",
          "state": {
            "_view_name": "OutputView",
            "msg_id": "",
            "_dom_classes": [],
            "_model_name": "OutputModel",
            "outputs": [
              {
                "output_type": "display_data",
                "metadata": {
                  "tags": []
                },
                "image/png": "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\n",
                "text/plain": "<PIL.Image.Image image mode=L size=128x96 at 0x7FA2CC752110>"
              }
            ],
            "_view_module": "@jupyter-widgets/output",
            "_model_module_version": "1.0.0",
            "_view_count": null,
            "_view_module_version": "1.0.0",
            "layout": "IPY_MODEL_4c44b648875e4509b55fd2e5d501a8a4",
            "_model_module": "@jupyter-widgets/output"
          }
        },
        "4c44b648875e4509b55fd2e5d501a8a4": {
          "model_module": "@jupyter-widgets/base",
          "model_name": "LayoutModel",
          "state": {
            "_view_name": "LayoutView",
            "grid_template_rows": null,
            "right": null,
            "justify_content": null,
            "_view_module": "@jupyter-widgets/base",
            "overflow": null,
            "_model_module_version": "1.2.0",
            "_view_count": null,
            "flex_flow": null,
            "width": null,
            "min_width": null,
            "border": null,
            "align_items": null,
            "bottom": null,
            "_model_module": "@jupyter-widgets/base",
            "top": null,
            "grid_column": null,
            "overflow_y": null,
            "overflow_x": null,
            "grid_auto_flow": null,
            "grid_area": null,
            "grid_template_columns": null,
            "flex": null,
            "_model_name": "LayoutModel",
            "justify_items": null,
            "grid_row": null,
            "max_height": null,
            "align_content": null,
            "visibility": null,
            "align_self": null,
            "height": null,
            "min_height": null,
            "padding": null,
            "grid_auto_rows": null,
            "grid_gap": null,
            "max_width": null,
            "order": null,
            "_view_module_version": "1.2.0",
            "grid_template_areas": null,
            "object_position": null,
            "object_fit": null,
            "grid_auto_columns": null,
            "margin": null,
            "display": null,
            "left": null
          }
        },
        "fd1e0cbe52934eec968d2f3a17cc72ac": {
          "model_module": "@jupyter-widgets/controls",
          "model_name": "LabelModel",
          "state": {
            "_view_name": "LabelView",
            "style": "IPY_MODEL_ae9f92f0f8e94240bff4d0aff87a6970",
            "_dom_classes": [],
            "description": "",
            "_model_name": "LabelModel",
            "placeholder": "​",
            "_view_module": "@jupyter-widgets/controls",
            "_model_module_version": "1.5.0",
            "value": "Prediction: covid; Probability: 0.8644",
            "_view_count": null,
            "_view_module_version": "1.5.0",
            "description_tooltip": null,
            "_model_module": "@jupyter-widgets/controls",
            "layout": "IPY_MODEL_7539f41d45c9443d84e405a37b393f6d"
          }
        },
        "ae9f92f0f8e94240bff4d0aff87a6970": {
          "model_module": "@jupyter-widgets/controls",
          "model_name": "DescriptionStyleModel",
          "state": {
            "_view_name": "StyleView",
            "_model_name": "DescriptionStyleModel",
            "description_width": "",
            "_view_module": "@jupyter-widgets/base",
            "_model_module_version": "1.5.0",
            "_view_count": null,
            "_view_module_version": "1.2.0",
            "_model_module": "@jupyter-widgets/controls"
          }
        },
        "7539f41d45c9443d84e405a37b393f6d": {
          "model_module": "@jupyter-widgets/base",
          "model_name": "LayoutModel",
          "state": {
            "_view_name": "LayoutView",
            "grid_template_rows": null,
            "right": null,
            "justify_content": null,
            "_view_module": "@jupyter-widgets/base",
            "overflow": null,
            "_model_module_version": "1.2.0",
            "_view_count": null,
            "flex_flow": null,
            "width": null,
            "min_width": null,
            "border": null,
            "align_items": null,
            "bottom": null,
            "_model_module": "@jupyter-widgets/base",
            "top": null,
            "grid_column": null,
            "overflow_y": null,
            "overflow_x": null,
            "grid_auto_flow": null,
            "grid_area": null,
            "grid_template_columns": null,
            "flex": null,
            "_model_name": "LayoutModel",
            "justify_items": null,
            "grid_row": null,
            "max_height": null,
            "align_content": null,
            "visibility": null,
            "align_self": null,
            "height": null,
            "min_height": null,
            "padding": null,
            "grid_auto_rows": null,
            "grid_gap": null,
            "max_width": null,
            "order": null,
            "_view_module_version": "1.2.0",
            "grid_template_areas": null,
            "object_position": null,
            "object_fit": null,
            "grid_auto_columns": null,
            "margin": null,
            "display": null,
            "left": null
          }
        },
        "a2c29c7878c64868951043e69a359be8": {
          "model_module": "@jupyter-widgets/controls",
          "model_name": "ButtonModel",
          "state": {
            "_view_name": "ButtonView",
            "style": "IPY_MODEL_b1ebae2f38ff45e19e548340a08ca097",
            "_dom_classes": [],
            "description": "Classify Covid",
            "_model_name": "ButtonModel",
            "button_style": "",
            "_view_module": "@jupyter-widgets/controls",
            "_model_module_version": "1.5.0",
            "tooltip": "",
            "_view_count": null,
            "disabled": false,
            "_view_module_version": "1.5.0",
            "layout": "IPY_MODEL_dc45a8b9fabd44fd89e753a962bf7df7",
            "_model_module": "@jupyter-widgets/controls",
            "icon": ""
          }
        },
        "b1ebae2f38ff45e19e548340a08ca097": {
          "model_module": "@jupyter-widgets/controls",
          "model_name": "ButtonStyleModel",
          "state": {
            "_view_name": "StyleView",
            "_model_name": "ButtonStyleModel",
            "_view_module": "@jupyter-widgets/base",
            "_model_module_version": "1.5.0",
            "_view_count": null,
            "button_color": null,
            "font_weight": "",
            "_view_module_version": "1.2.0",
            "_model_module": "@jupyter-widgets/controls"
          }
        },
        "dc45a8b9fabd44fd89e753a962bf7df7": {
          "model_module": "@jupyter-widgets/base",
          "model_name": "LayoutModel",
          "state": {
            "_view_name": "LayoutView",
            "grid_template_rows": null,
            "right": null,
            "justify_content": null,
            "_view_module": "@jupyter-widgets/base",
            "overflow": null,
            "_model_module_version": "1.2.0",
            "_view_count": null,
            "flex_flow": null,
            "width": null,
            "min_width": null,
            "border": null,
            "align_items": null,
            "bottom": null,
            "_model_module": "@jupyter-widgets/base",
            "top": null,
            "grid_column": null,
            "overflow_y": null,
            "overflow_x": null,
            "grid_auto_flow": null,
            "grid_area": null,
            "grid_template_columns": null,
            "flex": null,
            "_model_name": "LayoutModel",
            "justify_items": null,
            "grid_row": null,
            "max_height": null,
            "align_content": null,
            "visibility": null,
            "align_self": null,
            "height": null,
            "min_height": null,
            "padding": null,
            "grid_auto_rows": null,
            "grid_gap": null,
            "max_width": null,
            "order": null,
            "_view_module_version": "1.2.0",
            "grid_template_areas": null,
            "object_position": null,
            "object_fit": null,
            "grid_auto_columns": null,
            "margin": null,
            "display": null,
            "left": null
          }
        },
        "5ef5a1d06df04e49941900b12bb9007b": {
          "model_module": "@jupyter-widgets/controls",
          "model_name": "VBoxModel",
          "state": {
            "_view_name": "VBoxView",
            "_dom_classes": [],
            "_model_name": "VBoxModel",
            "_view_module": "@jupyter-widgets/controls",
            "_model_module_version": "1.5.0",
            "_view_count": null,
            "_view_module_version": "1.5.0",
            "box_style": "",
            "layout": "IPY_MODEL_d4c46ae67a814fcfbfc1519ad75c8b5f",
            "_model_module": "@jupyter-widgets/controls",
            "children": [
              "IPY_MODEL_803488e7abd640b5b985201777f5b30e",
              "IPY_MODEL_c1876b4b2b9c4a5eae5c831d643e2203",
              "IPY_MODEL_a2c29c7878c64868951043e69a359be8",
              "IPY_MODEL_d8297738a26a47008b400807be3ebfa4",
              "IPY_MODEL_fd1e0cbe52934eec968d2f3a17cc72ac"
            ]
          }
        },
        "d4c46ae67a814fcfbfc1519ad75c8b5f": {
          "model_module": "@jupyter-widgets/base",
          "model_name": "LayoutModel",
          "state": {
            "_view_name": "LayoutView",
            "grid_template_rows": null,
            "right": null,
            "justify_content": null,
            "_view_module": "@jupyter-widgets/base",
            "overflow": null,
            "_model_module_version": "1.2.0",
            "_view_count": null,
            "flex_flow": null,
            "width": null,
            "min_width": null,
            "border": null,
            "align_items": null,
            "bottom": null,
            "_model_module": "@jupyter-widgets/base",
            "top": null,
            "grid_column": null,
            "overflow_y": null,
            "overflow_x": null,
            "grid_auto_flow": null,
            "grid_area": null,
            "grid_template_columns": null,
            "flex": null,
            "_model_name": "LayoutModel",
            "justify_items": null,
            "grid_row": null,
            "max_height": null,
            "align_content": null,
            "visibility": null,
            "align_self": null,
            "height": null,
            "min_height": null,
            "padding": null,
            "grid_auto_rows": null,
            "grid_gap": null,
            "max_width": null,
            "order": null,
            "_view_module_version": "1.2.0",
            "grid_template_areas": null,
            "object_position": null,
            "object_fit": null,
            "grid_auto_columns": null,
            "margin": null,
            "display": null,
            "left": null
          }
        },
        "803488e7abd640b5b985201777f5b30e": {
          "model_module": "@jupyter-widgets/controls",
          "model_name": "LabelModel",
          "state": {
            "_view_name": "LabelView",
            "style": "IPY_MODEL_c3f9c9bec3e04e2aad22a6d33ae7da1c",
            "_dom_classes": [],
            "description": "",
            "_model_name": "LabelModel",
            "placeholder": "​",
            "_view_module": "@jupyter-widgets/controls",
            "_model_module_version": "1.5.0",
            "value": "Select lung CT:",
            "_view_count": null,
            "_view_module_version": "1.5.0",
            "description_tooltip": null,
            "_model_module": "@jupyter-widgets/controls",
            "layout": "IPY_MODEL_01b5d7282b70411a92af0808b1147fe6"
          }
        },
        "c1876b4b2b9c4a5eae5c831d643e2203": {
          "model_module": "@jupyter-widgets/controls",
          "model_name": "FileUploadModel",
          "state": {
            "_view_name": "FileUploadView",
            "_counter": 0,
            "style": "IPY_MODEL_1c22e6f3235e4b71907276cde02a7eca",
            "_dom_classes": [],
            "description": "Upload",
            "multiple": false,
            "_model_name": "FileUploadModel",
            "data": [],
            "button_style": "",
            "_view_module": "@jupyter-widgets/controls",
            "_model_module_version": "1.5.0",
            "accept": "",
            "_view_count": null,
            "disabled": false,
            "_view_module_version": "1.5.0",
            "error": "",
            "description_tooltip": null,
            "metadata": [],
            "_model_module": "@jupyter-widgets/controls",
            "layout": "IPY_MODEL_19f6225289de4aa78e0e71b166c0b704",
            "icon": "upload"
          }
        },
        "c3f9c9bec3e04e2aad22a6d33ae7da1c": {
          "model_module": "@jupyter-widgets/controls",
          "model_name": "DescriptionStyleModel",
          "state": {
            "_view_name": "StyleView",
            "_model_name": "DescriptionStyleModel",
            "description_width": "",
            "_view_module": "@jupyter-widgets/base",
            "_model_module_version": "1.5.0",
            "_view_count": null,
            "_view_module_version": "1.2.0",
            "_model_module": "@jupyter-widgets/controls"
          }
        },
        "01b5d7282b70411a92af0808b1147fe6": {
          "model_module": "@jupyter-widgets/base",
          "model_name": "LayoutModel",
          "state": {
            "_view_name": "LayoutView",
            "grid_template_rows": null,
            "right": null,
            "justify_content": null,
            "_view_module": "@jupyter-widgets/base",
            "overflow": null,
            "_model_module_version": "1.2.0",
            "_view_count": null,
            "flex_flow": null,
            "width": null,
            "min_width": null,
            "border": null,
            "align_items": null,
            "bottom": null,
            "_model_module": "@jupyter-widgets/base",
            "top": null,
            "grid_column": null,
            "overflow_y": null,
            "overflow_x": null,
            "grid_auto_flow": null,
            "grid_area": null,
            "grid_template_columns": null,
            "flex": null,
            "_model_name": "LayoutModel",
            "justify_items": null,
            "grid_row": null,
            "max_height": null,
            "align_content": null,
            "visibility": null,
            "align_self": null,
            "height": null,
            "min_height": null,
            "padding": null,
            "grid_auto_rows": null,
            "grid_gap": null,
            "max_width": null,
            "order": null,
            "_view_module_version": "1.2.0",
            "grid_template_areas": null,
            "object_position": null,
            "object_fit": null,
            "grid_auto_columns": null,
            "margin": null,
            "display": null,
            "left": null
          }
        },
        "1c22e6f3235e4b71907276cde02a7eca": {
          "model_module": "@jupyter-widgets/controls",
          "model_name": "ButtonStyleModel",
          "state": {
            "_view_name": "StyleView",
            "_model_name": "ButtonStyleModel",
            "_view_module": "@jupyter-widgets/base",
            "_model_module_version": "1.5.0",
            "_view_count": null,
            "button_color": null,
            "font_weight": "",
            "_view_module_version": "1.2.0",
            "_model_module": "@jupyter-widgets/controls"
          }
        },
        "19f6225289de4aa78e0e71b166c0b704": {
          "model_module": "@jupyter-widgets/base",
          "model_name": "LayoutModel",
          "state": {
            "_view_name": "LayoutView",
            "grid_template_rows": null,
            "right": null,
            "justify_content": null,
            "_view_module": "@jupyter-widgets/base",
            "overflow": null,
            "_model_module_version": "1.2.0",
            "_view_count": null,
            "flex_flow": null,
            "width": null,
            "min_width": null,
            "border": null,
            "align_items": null,
            "bottom": null,
            "_model_module": "@jupyter-widgets/base",
            "top": null,
            "grid_column": null,
            "overflow_y": null,
            "overflow_x": null,
            "grid_auto_flow": null,
            "grid_area": null,
            "grid_template_columns": null,
            "flex": null,
            "_model_name": "LayoutModel",
            "justify_items": null,
            "grid_row": null,
            "max_height": null,
            "align_content": null,
            "visibility": null,
            "align_self": null,
            "height": null,
            "min_height": null,
            "padding": null,
            "grid_auto_rows": null,
            "grid_gap": null,
            "max_width": null,
            "order": null,
            "_view_module_version": "1.2.0",
            "grid_template_areas": null,
            "object_position": null,
            "object_fit": null,
            "grid_auto_columns": null,
            "margin": null,
            "display": null,
            "left": null
          }
        }
      }
    }
  },
  "cells": [
    {
      "cell_type": "markdown",
      "metadata": {
        "id": "view-in-github",
        "colab_type": "text"
      },
      "source": [
        "<a href=\"https://colab.research.google.com/github/winkler-eva/CovidClassifierBIOINF/blob/main/CovidClassifier_with_Confusion_Matrix.ipynb\" target=\"_parent\"><img src=\"https://colab.research.google.com/assets/colab-badge.svg\" alt=\"Open In Colab\"/></a>"
      ]
    },
    {
      "cell_type": "markdown",
      "metadata": {
        "id": "PP_JAqBkz2Uy"
      },
      "source": [
        "<h1><strong>Covid-Classifier</strong></h1>"
      ]
    },
    {
      "cell_type": "code",
      "metadata": {
        "id": "z9q_Qqv_zq1o",
        "colab": {
          "base_uri": "https://localhost:8080/"
        },
        "outputId": "4b354d69-e12b-4fe1-930e-deff7778f4fe"
      },
      "source": [
        "!pip install fastai --upgrade -q"
      ],
      "execution_count": 1,
      "outputs": [
        {
          "output_type": "stream",
          "text": [
            "\u001b[K     |████████████████████████████████| 194kB 7.8MB/s \n",
            "\u001b[K     |████████████████████████████████| 12.8MB 225kB/s \n",
            "\u001b[K     |████████████████████████████████| 776.8MB 23kB/s \n",
            "\u001b[K     |████████████████████████████████| 61kB 7.2MB/s \n",
            "\u001b[31mERROR: torchtext 0.9.1 has requirement torch==1.8.1, but you'll have torch 1.7.1 which is incompatible.\u001b[0m\n",
            "\u001b[?25h"
          ],
          "name": "stdout"
        }
      ]
    },
    {
      "cell_type": "code",
      "metadata": {
        "colab": {
          "base_uri": "https://localhost:8080/"
        },
        "id": "UhLeeuKp0Hum",
        "outputId": "c057e098-159f-4b17-f6ea-0364ede05731"
      },
      "source": [
        "import fastai\n",
        "print(fastai.__version__)"
      ],
      "execution_count": 2,
      "outputs": [
        {
          "output_type": "stream",
          "text": [
            "2.3.0\n"
          ],
          "name": "stdout"
        }
      ]
    },
    {
      "cell_type": "code",
      "metadata": {
        "id": "yQ9k_Avm0qzW",
        "colab": {
          "base_uri": "https://localhost:8080/",
          "height": 17
        },
        "outputId": "f03fe36c-f13e-40db-aca4-90a8ecc89d2d"
      },
      "source": [
        "import os\n",
        "from fastai.vision.all import *\n",
        "path = untar_data(URLs.IMAGENETTE)"
      ],
      "execution_count": 3,
      "outputs": [
        {
          "output_type": "display_data",
          "data": {
            "text/html": [
              ""
            ],
            "text/plain": [
              "<IPython.core.display.HTML object>"
            ]
          },
          "metadata": {
            "tags": []
          }
        }
      ]
    },
    {
      "cell_type": "markdown",
      "metadata": {
        "id": "2xV7rWhL00An"
      },
      "source": [
        "<h2>Save images permanently in google drive</h2>"
      ]
    },
    {
      "cell_type": "code",
      "metadata": {
        "colab": {
          "base_uri": "https://localhost:8080/"
        },
        "id": "w5HypWVa0vKg",
        "outputId": "ba3eecd8-61fb-4a0a-e71f-3f4ceb9fff9c"
      },
      "source": [
        "# data was downloaded from the website kaggle.com\n",
        "#kein zweites mal ausführen, sonst wird's überschrieben!\n",
        "#!tar -czvf covid_images.tar.gz covid_data "
      ],
      "execution_count": 19,
      "outputs": [
        {
          "output_type": "stream",
          "text": [
            "covid_data/\n",
            "covid_data/non_covid/\n",
            "covid_data/non_covid/4%1.jpg\n",
            "covid_data/non_covid/18%1.jpg\n",
            "covid_data/non_covid/15%1.jpg\n",
            "covid_data/non_covid/7.jpg\n",
            "covid_data/non_covid/5%0.jpg\n",
            "covid_data/non_covid/10%1.jpg\n",
            "covid_data/non_covid/17%1.jpg\n",
            "covid_data/non_covid/8.jpg\n",
            "covid_data/non_covid/14%2.jpg\n",
            "covid_data/non_covid/31.jpg\n",
            "covid_data/non_covid/33.png\n",
            "covid_data/non_covid/18%2.jpg\n",
            "covid_data/non_covid/38%0.jpg\n",
            "covid_data/non_covid/5%1.jpg\n",
            "covid_data/non_covid/6%0.jpg\n",
            "covid_data/non_covid/26%0.jpg\n",
            "covid_data/non_covid/36%1.jpg\n",
            "covid_data/non_covid/10%0.jpg\n",
            "covid_data/non_covid/30%2.jpg\n",
            "covid_data/non_covid/43.png\n",
            "covid_data/non_covid/39%3.jpg\n",
            "covid_data/non_covid/23.png\n",
            "covid_data/non_covid/30%3.jpg\n",
            "covid_data/non_covid/29%1.jpg\n",
            "covid_data/non_covid/37%4.jpg\n",
            "covid_data/non_covid/22%1.jpg\n",
            "covid_data/non_covid/6%1.jpg\n",
            "covid_data/non_covid/5%7.jpg\n",
            "covid_data/non_covid/6%3.jpg\n",
            "covid_data/non_covid/15%3.jpg\n",
            "covid_data/non_covid/32%0.jpg\n",
            "covid_data/non_covid/25%0.jpg\n",
            "covid_data/non_covid/37%0.jpg\n",
            "covid_data/non_covid/1%0.jpg\n",
            "covid_data/non_covid/26.png\n",
            "covid_data/non_covid/19%1.jpg\n",
            "covid_data/non_covid/21%0.jpg\n",
            "covid_data/non_covid/41.jpg\n",
            "covid_data/non_covid/33%0.jpg\n",
            "covid_data/non_covid/14%0.jpg\n",
            "covid_data/non_covid/5%3.jpg\n",
            "covid_data/non_covid/17%0.jpg\n",
            "covid_data/non_covid/29%2.jpg\n",
            "covid_data/non_covid/22%0.jpg\n",
            "covid_data/non_covid/25%3.jpg\n",
            "covid_data/non_covid/30%0.jpg\n",
            "covid_data/non_covid/11%1.jpg\n",
            "covid_data/non_covid/10%2.jpg\n",
            "covid_data/non_covid/12.jpg\n",
            "covid_data/non_covid/25.png\n",
            "covid_data/non_covid/37%2.jpg\n",
            "covid_data/non_covid/5%5.jpg\n",
            "covid_data/non_covid/6%2.jpg\n",
            "covid_data/non_covid/28.jpg\n",
            "covid_data/non_covid/5%2.jpg\n",
            "covid_data/non_covid/4%5.jpg\n",
            "covid_data/non_covid/39%2.jpg\n",
            "covid_data/non_covid/15%0.jpg\n",
            "covid_data/non_covid/15.png\n",
            "covid_data/non_covid/29%3.jpg\n",
            "covid_data/non_covid/2%0.jpg\n",
            "covid_data/non_covid/35%0.jpg\n",
            "covid_data/non_covid/39%4.jpg\n",
            "covid_data/non_covid/39%5.jpg\n",
            "covid_data/non_covid/39%7.jpg\n",
            "covid_data/non_covid/30%5.jpg\n",
            "covid_data/non_covid/40%1.jpg\n",
            "covid_data/non_covid/3.jpg\n",
            "covid_data/non_covid/20.jpg\n",
            "covid_data/non_covid/39%1.jpg\n",
            "covid_data/non_covid/38%1.jpg\n",
            "covid_data/non_covid/39%6.jpg\n",
            "covid_data/non_covid/30%4.jpg\n",
            "covid_data/non_covid/2%2.jpg\n",
            "covid_data/non_covid/13.jpg\n",
            "covid_data/non_covid/19%0.jpg\n",
            "covid_data/non_covid/40%0.jpg\n",
            "covid_data/non_covid/0.jpg\n",
            "covid_data/non_covid/2%1.jpg\n",
            "covid_data/non_covid/4%7.jpg\n",
            "covid_data/non_covid/36%0.jpg\n",
            "covid_data/non_covid/29%0.jpg\n",
            "covid_data/non_covid/37%3.jpg\n",
            "covid_data/non_covid/11%0.jpg\n",
            "covid_data/non_covid/9.jpg\n",
            "covid_data/non_covid/30%1.jpg\n",
            "covid_data/non_covid/1%1.jpg\n",
            "covid_data/non_covid/26%2.jpg\n",
            "covid_data/non_covid/34.jpg\n",
            "covid_data/non_covid/16.jpg\n",
            "covid_data/non_covid/18%3.jpg\n",
            "covid_data/non_covid/18%0.jpg\n",
            "covid_data/non_covid/25%2.jpg\n",
            "covid_data/non_covid/24.png\n",
            "covid_data/non_covid/32%1.jpg\n",
            "covid_data/non_covid/27.jpg\n",
            "covid_data/non_covid/42.jpg\n",
            "covid_data/non_covid/11%2.jpg\n",
            "covid_data/non_covid/4%3.jpg\n",
            "covid_data/non_covid/15%2.jpg\n",
            "covid_data/non_covid/2%3.jpg\n",
            "covid_data/non_covid/39%0.jpg\n",
            "covid_data/non_covid/21%1.jpg\n",
            "covid_data/non_covid/14%1.jpg\n",
            "covid_data/non_covid/14.png\n",
            "covid_data/non_covid/25%1.jpg\n",
            "covid_data/non_covid/26%3.jpg\n",
            "covid_data/non_covid/5%4.jpg\n",
            "covid_data/non_covid/39%8.jpg\n",
            "covid_data/non_covid/33%1.jpg\n",
            "covid_data/non_covid/5%6.jpg\n",
            "covid_data/non_covid/37%1.jpg\n",
            "covid_data/non_covid/1%2.jpg\n",
            "covid_data/non_covid/26%1.jpg\n",
            "covid_data/non_covid/38%2.jpg\n",
            "covid_data/non_covid/35%2.jpg\n",
            "covid_data/non_covid/35%1.jpg\n",
            "covid_data/non_covid/14%3.jpg\n",
            "covid_data/.ipynb_checkpoints/\n",
            "covid_data/covid/\n",
            "covid_data/covid/2020.02.26.20026989-p34-114_2%1.png\n",
            "covid_data/covid/2020.02.17.20024018-p17-61%1.png\n",
            "covid_data/covid/2020.02.22.20024927-p18-66%0.png\n",
            "covid_data/covid/2020.03.03.20030775-p11-91.png\n",
            "covid_data/covid/2020.02.23.20026856-p17-115%2.png\n",
            "covid_data/covid/2020.02.25.20021568-p24-111%7.png\n",
            "covid_data/covid/2020.02.25.20021568-p23-108%11.png\n",
            "covid_data/covid/2020.02.24.20027052-p8-73%3.png\n",
            "covid_data/covid/2020.02.13.20022673-p13-77%1.png\n",
            "covid_data/covid/2020.02.25.20027763-p15-53%1.png\n",
            "covid_data/covid/2020.02.25.20021568-p23-108%7.png\n",
            "covid_data/covid/2020.02.22.20024927-p19-68%1.png\n",
            "covid_data/covid/2020.02.25.20021568-p23-108%9.png\n",
            "covid_data/covid/2020.03.01.20029769-p21-73_1%2.png\n",
            "covid_data/covid/2020.03.03.20030775-p10-88%0.png\n",
            "covid_data/covid/2020.02.25.20021568-p23-108%6.png\n",
            "covid_data/covid/2019-novel-Coronavirus-severe-adult-respiratory-dist_2020_International-Jour-p3-91.png\n",
            "covid_data/covid/2020.02.17.20024018-p17-61%3.png\n",
            "covid_data/covid/2020.02.25.20021568-p23-108%14.png\n",
            "covid_data/covid/2020.02.25.20021568-p23-108%1.png\n",
            "covid_data/covid/2020.02.25.20021568-p24-111%9.png\n",
            "covid_data/covid/2020.02.23.20026856-p17-115%1.png\n",
            "covid_data/covid/2020.02.26.20027938-p6-80_3%0.png\n",
            "covid_data/covid/2020.03.04.20030395-p27-108%0.png\n",
            "covid_data/covid/2020.02.17.20024018-p17-61%0.png\n",
            "covid_data/covid/2020.02.22.20024927-p20-70%1.png\n",
            "covid_data/covid/2020.02.24.20027201-p19-669.png\n",
            "covid_data/covid/2020.03.04.20026005-p12-1946%5.png\n",
            "covid_data/covid/2020.02.11.20022053-p12-67%0.png\n",
            "covid_data/covid/2020.02.25.20021568-p24-111%8.png\n",
            "covid_data/covid/2020.02.22.20024927-p19-68%3.png\n",
            "covid_data/covid/2020.03.03.20030775-p12-93%1.png\n",
            "covid_data/covid/2020.03.01.20029769-p21-73_4.png\n",
            "covid_data/covid/2020.03.03.20030775-p10-88%1.png\n",
            "covid_data/covid/2020.02.25.20021568-p24-111%4.png\n",
            "covid_data/covid/2020.02.10.20021584-p6-52%12.png\n",
            "covid_data/covid/2020.03.01.20029769-p21-73_2%2.png\n",
            "covid_data/covid/2020.02.25.20021568-p23-108%0.png\n",
            "covid_data/covid/2020.02.25.20021568-p23-108%12.png\n",
            "covid_data/covid/2020.02.25.20021568-p23-108%2.png\n",
            "covid_data/covid/2020.02.23.20026856-p17-115%0.png\n",
            "covid_data/covid/2020.02.19.20025023-p20-93%3.png\n",
            "covid_data/covid/2020.02.26.20026989-p34-114_2%0.png\n",
            "covid_data/covid/2020.02.10.20021584-p6-52%13.png\n",
            "covid_data/covid/2020.02.25.20021568-p24-111%2.png\n",
            "covid_data/covid/2020.02.27.20027557-p25-137%0.png\n",
            "covid_data/covid/2020.02.26.20026989-p34-114_1%1.png\n",
            "covid_data/covid/2020.02.10.20021584-p6-52%14.png\n",
            "covid_data/covid/2020.02.22.20024927-p19-68%2.png\n",
            "covid_data/covid/2020.02.25.20021568-p23-108%8.png\n",
            "covid_data/covid/2020.02.11.20022053-p12-67%2.png\n",
            "covid_data/covid/2020.02.22.20024927-p19-68%4.png\n",
            "covid_data/covid/2020.02.25.20021568-p23-108%10.png\n",
            "covid_data/covid/2020.02.13.20022673-p13-77%2.png\n",
            "covid_data/covid/2020.03.01.20029769-p21-73_1%1.png\n",
            "covid_data/covid/2020.02.24.20027052-p8-73%0.png\n",
            "covid_data/covid/2020.02.22.20024927-p20-70%2.png\n",
            "covid_data/covid/2020.02.27.20027557-p25-137%4.png\n",
            "covid_data/covid/2020.02.11.20021493-p16-109%1.png\n",
            "covid_data/covid/2020.02.23.20026856-p17-115%3.png\n",
            "covid_data/covid/2020.02.25.20021568-p23-108%3.png\n",
            "covid_data/covid/2020.02.10.20021584-p6-52%8.png\n",
            "covid_data/covid/2020.03.04.20026005-p12-1946%1.png\n",
            "covid_data/covid/2020.02.10.20021584-p6-52%11.png\n",
            "covid_data/covid/2020.02.25.20021568-p24-111%6.png\n",
            "covid_data/covid/2020.02.10.20021584-p6-52%10.png\n",
            "covid_data/covid/2020.02.10.20021584-p6-52%9.png\n",
            "covid_data/covid/2020.02.13.20022673-p13-77%0.png\n",
            "covid_data/covid/2020.03.01.20029769-p21-73_2%1.png\n",
            "covid_data/covid/2020.01.24.919183-p27-134.png\n",
            "covid_data/covid/2020.02.26.20027938-p6-80_1%1.png\n",
            "covid_data/covid/2020.03.04.20026005-p12-1946%0.png\n",
            "covid_data/covid/2020.02.28.20029025-p23-183.png\n",
            "covid_data/covid/2020.02.11.20022053-p12-67%3.png\n",
            "covid_data/covid/2020.02.10.20021584-p6-52%4.png\n",
            "covid_data/covid/2020.02.25.20021568-p24-111%1.png\n",
            "covid_data/covid/2020.02.22.20024927-p18-66%1.png\n",
            "covid_data/covid/2020.02.11.20022053-p12-67%1.png\n",
            "covid_data/covid/2020.02.25.20027763-p15-53%0.png\n",
            "covid_data/covid/2020.02.26.20027938-p6-80_1%0.png\n",
            "covid_data/covid/2020.02.10.20021584-p6-52%15.png\n",
            "covid_data/covid/2020.02.22.20024927-p20-70%0.png\n",
            "covid_data/covid/2020.02.24.20027052-p8-73%2.png\n",
            "covid_data/covid/2020.02.11.20021493-p16-109%0.png\n",
            "covid_data/covid/2020.02.24.20027201-p19-670.png\n",
            "covid_data/covid/2020.02.25.20021568-p23-108%15.png\n",
            "covid_data/covid/2020.02.19.20025023-p20-93%0.png\n",
            "covid_data/covid/2019-novel-Coronavirus-severe-adult-respiratory-dist_2020_International-Jour-p3-89%1.png\n",
            "covid_data/covid/2020.02.25.20021568-p23-108%13.png\n",
            "covid_data/covid/2019-novel-Coronavirus-severe-adult-respiratory-dist_2020_International-Jour-p3-89%0.png\n",
            "covid_data/covid/2020.03.04.20026005-p12-1946%3.png\n",
            "covid_data/covid/2020.02.10.20021584-p6-52%2.png\n",
            "covid_data/covid/2020.02.10.20021584-p6-52%3.png\n",
            "covid_data/covid/2020.03.03.20030353-p17-106%0.png\n",
            "covid_data/covid/2020.02.26.20027938-p6-80_2%0.png\n",
            "covid_data/covid/2020.03.01.20029769-p21-73_1%0.png\n",
            "covid_data/covid/2020.02.25.20021568-p23-108%4.png\n",
            "covid_data/covid/2020.02.17.20024018-p17-61%2.png\n",
            "covid_data/covid/2020.02.25.20021568-p24-111%3.png\n",
            "covid_data/covid/2020.02.10.20021584-p6-52%6.png\n",
            "covid_data/covid/2020.02.22.20024927-p18-66%2.png\n",
            "covid_data/covid/2020.02.25.20021568-p24-111%5.png\n",
            "covid_data/covid/2020.02.24.20027052-p8-73%1.png\n",
            "covid_data/covid/2020.02.25.20021568-p24-111%0.png\n",
            "covid_data/covid/2020.03.01.20029769-p21-73_2%0.png\n",
            "covid_data/covid/2020.02.10.20021584-p6-52%5.png\n",
            "covid_data/covid/2020.03.04.20026005-p12-1946%4.png\n",
            "covid_data/covid/2020.03.03.20030775-p12-93%0.png\n",
            "covid_data/covid/2020.02.10.20021584-p6-52%7.png\n",
            "covid_data/covid/2020.03.03.20030353-p17-106%2.png\n",
            "covid_data/covid/2020.02.22.20024927-p19-68%5.png\n",
            "covid_data/covid/2020.02.19.20025023-p20-93%2.png\n",
            "covid_data/covid/2020.02.11.20021493-p16-109%2.png\n",
            "covid_data/covid/2020.02.23.20026856-p17-115%5.png\n",
            "covid_data/covid/2020.02.10.20021584-p6-52%1.png\n",
            "covid_data/covid/2020.02.27.20027557-p25-137%3.png\n",
            "covid_data/covid/2020.03.03.20030353-p17-106%1.png\n",
            "covid_data/covid/2020.02.17.20024018-p17-61%4.png\n",
            "covid_data/covid/2020.02.19.20025023-p20-93%1.png\n",
            "covid_data/covid/2020.02.25.20021568-p23-108%5.png\n",
            "covid_data/covid/2020.03.04.20026005-p12-1946%2.png\n",
            "covid_data/covid/2020.02.22.20024927-p20-70%3.png\n",
            "covid_data/covid/2020.03.01.20029769-p21-73_3.png\n",
            "covid_data/covid/2020.02.28.20029025-p23-182.png\n",
            "covid_data/covid/2020.01.24.919183-p27-133.png\n",
            "covid_data/covid/2020.02.27.20027557-p25-137%1.png\n",
            "covid_data/covid/2020.02.22.20024927-p19-68%0.png\n",
            "covid_data/covid/2020.02.26.20027938-p6-80_3%1.png\n",
            "covid_data/covid/2020.02.26.20026989-p34-114_1%0.png\n",
            "covid_data/covid/2020.02.26.20027938-p6-80_2%1.png\n",
            "covid_data/covid/2020.02.23.20026856-p17-115%4.png\n",
            "covid_data/covid/2020.02.10.20021584-p6-52%0.png\n",
            "covid_data/covid/2020.02.27.20027557-p25-137%2.png\n",
            "covid_data/covid/2020.01.24.919183-p27-135.png\n"
          ],
          "name": "stdout"
        }
      ]
    },
    {
      "cell_type": "code",
      "metadata": {
        "colab": {
          "base_uri": "https://localhost:8080/"
        },
        "id": "AFErloo411Pm",
        "outputId": "be46b9d4-e28a-4fb0-9a4e-f5cccfce28fd"
      },
      "source": [
        "# kein zweites mal ausführen, sonst wird's überschrieben!\n",
        "#!cp -av covid_images.tar.gz /content/drive/My\\ Drive/BIOINF "
      ],
      "execution_count": 20,
      "outputs": [
        {
          "output_type": "stream",
          "text": [
            "'covid_images.tar.gz' -> '/content/drive/My Drive/BIOINF/covid_images.tar.gz'\n"
          ],
          "name": "stdout"
        }
      ]
    },
    {
      "cell_type": "code",
      "metadata": {
        "id": "fHc9Z-8k4ITM"
      },
      "source": [
        "!cp /content/drive/My\\ Drive/BIOINF/covid_images.tar.gz covid_project/"
      ],
      "execution_count": 4,
      "outputs": []
    },
    {
      "cell_type": "code",
      "metadata": {
        "id": "p40Fx8Np4eO-"
      },
      "source": [
        "!tar -xf covid_project/covid_images.tar.gz -C covid_project/"
      ],
      "execution_count": 5,
      "outputs": []
    },
    {
      "cell_type": "markdown",
      "metadata": {
        "id": "xvh2sHXx5gS2"
      },
      "source": [
        "<h2>Dataloader</h2>"
      ]
    },
    {
      "cell_type": "code",
      "metadata": {
        "id": "8D2tFM-f7sP-"
      },
      "source": [
        "path = Path('covid_project')\n",
        "failed = verify_images(get_image_files(path))\n",
        "failed.map(Path.unlink);"
      ],
      "execution_count": 6,
      "outputs": []
    },
    {
      "cell_type": "code",
      "metadata": {
        "id": "ijgZziQGBNu8"
      },
      "source": [
        "covid = DataBlock(\n",
        "    blocks = (ImageBlock, CategoryBlock),\n",
        "    get_items = get_image_files,\n",
        "    # splitter = RandomSplitter(valid_pct=0.2, seed=42),\n",
        "    get_y = parent_label,\n",
        "    item_tfms = Resize(460),\n",
        "    batch_tfms = aug_transforms(size=224, min_scale=0.75)\n",
        ") "
      ],
      "execution_count": 7,
      "outputs": []
    },
    {
      "cell_type": "code",
      "metadata": {
        "id": "4oQ3_B1KDakx"
      },
      "source": [
        "dls = covid.dataloaders(path, bs=64)"
      ],
      "execution_count": 8,
      "outputs": []
    },
    {
      "cell_type": "markdown",
      "metadata": {
        "id": "KKPa-c_RfaWI"
      },
      "source": [
        "<h2>Normalize trainings dataset</h2>"
      ]
    },
    {
      "cell_type": "code",
      "metadata": {
        "id": "4mUFcIshfg0E",
        "colab": {
          "base_uri": "https://localhost:8080/"
        },
        "outputId": "72805783-1499-4b87-835c-ba9a72a1f62e"
      },
      "source": [
        "x,y = dls.one_batch()\n",
        "x.mean(dim=[0,2,3]),x.std(dim=[0,2,3])"
      ],
      "execution_count": 9,
      "outputs": [
        {
          "output_type": "execute_result",
          "data": {
            "text/plain": [
              "(TensorImage([0.6672, 0.6671, 0.6676], device='cuda:0'),\n",
              " TensorImage([0.2935, 0.2939, 0.2938], device='cuda:0'))"
            ]
          },
          "metadata": {
            "tags": []
          },
          "execution_count": 9
        }
      ]
    },
    {
      "cell_type": "code",
      "metadata": {
        "id": "yor5D0lhf7l_"
      },
      "source": [
        "def get_dls(bs, size):\n",
        "  covid = DataBlock(\n",
        "    blocks = (ImageBlock, CategoryBlock),\n",
        "    get_items = get_image_files,\n",
        "    # splitter = RandomSplitter(valid_pct=0.2, seed=42),\n",
        "    get_y = parent_label,\n",
        "    item_tfms = Resize(460),\n",
        "    batch_tfms = [*aug_transforms(size=224, min_scale=0.75),\n",
        "                                Normalize.from_stats(*imagenet_stats)])\n",
        "  return covid.dataloaders(path, bs=bs)"
      ],
      "execution_count": 10,
      "outputs": []
    },
    {
      "cell_type": "code",
      "metadata": {
        "id": "1qF9p47TgyQ-"
      },
      "source": [
        "dls = get_dls(64, 224)"
      ],
      "execution_count": 11,
      "outputs": []
    },
    {
      "cell_type": "code",
      "metadata": {
        "id": "JSdEGHotg8Ug",
        "colab": {
          "base_uri": "https://localhost:8080/"
        },
        "outputId": "a8660111-5248-4ca3-aa1a-11fa191ad9b3"
      },
      "source": [
        "x,y = dls.one_batch()\n",
        "x.mean(dim=[0,2,3]),x.std(dim=[0,2,3])"
      ],
      "execution_count": 12,
      "outputs": [
        {
          "output_type": "execute_result",
          "data": {
            "text/plain": [
              "(TensorImage([0.7445, 0.8888, 1.1079], device='cuda:0'),\n",
              " TensorImage([1.3439, 1.3758, 1.3699], device='cuda:0'))"
            ]
          },
          "metadata": {
            "tags": []
          },
          "execution_count": 12
        }
      ]
    },
    {
      "cell_type": "code",
      "metadata": {
        "id": "S9RMG4YlhfUs",
        "colab": {
          "base_uri": "https://localhost:8080/",
          "height": 204
        },
        "outputId": "47700399-438d-416a-85f9-e1967a3c72c2"
      },
      "source": [
        "model = xresnet50()\n",
        "learn = Learner(dls, model, loss_func=CrossEntropyLossFlat(), metrics=accuracy)\n",
        "learn.fit_one_cycle(5, 3e-3)"
      ],
      "execution_count": 13,
      "outputs": [
        {
          "output_type": "display_data",
          "data": {
            "text/html": [
              "<table border=\"1\" class=\"dataframe\">\n",
              "  <thead>\n",
              "    <tr style=\"text-align: left;\">\n",
              "      <th>epoch</th>\n",
              "      <th>train_loss</th>\n",
              "      <th>valid_loss</th>\n",
              "      <th>accuracy</th>\n",
              "      <th>time</th>\n",
              "    </tr>\n",
              "  </thead>\n",
              "  <tbody>\n",
              "    <tr>\n",
              "      <td>0</td>\n",
              "      <td>6.343591</td>\n",
              "      <td>7.928845</td>\n",
              "      <td>0.020000</td>\n",
              "      <td>00:07</td>\n",
              "    </tr>\n",
              "    <tr>\n",
              "      <td>1</td>\n",
              "      <td>4.255968</td>\n",
              "      <td>1.374622</td>\n",
              "      <td>0.500000</td>\n",
              "      <td>00:03</td>\n",
              "    </tr>\n",
              "    <tr>\n",
              "      <td>2</td>\n",
              "      <td>3.182541</td>\n",
              "      <td>0.938274</td>\n",
              "      <td>0.520000</td>\n",
              "      <td>00:03</td>\n",
              "    </tr>\n",
              "    <tr>\n",
              "      <td>3</td>\n",
              "      <td>2.524809</td>\n",
              "      <td>0.702785</td>\n",
              "      <td>0.520000</td>\n",
              "      <td>00:04</td>\n",
              "    </tr>\n",
              "    <tr>\n",
              "      <td>4</td>\n",
              "      <td>2.092222</td>\n",
              "      <td>0.734085</td>\n",
              "      <td>0.600000</td>\n",
              "      <td>00:04</td>\n",
              "    </tr>\n",
              "  </tbody>\n",
              "</table>"
            ],
            "text/plain": [
              "<IPython.core.display.HTML object>"
            ]
          },
          "metadata": {
            "tags": []
          }
        }
      ]
    },
    {
      "cell_type": "markdown",
      "metadata": {
        "id": "u32O01Pejh3k"
      },
      "source": [
        "<h2>Progressive Resizing</h2>\n",
        "\n"
      ]
    },
    {
      "cell_type": "code",
      "metadata": {
        "id": "ZidhHUIxjmGD"
      },
      "source": [
        "# Hat nicht funktioniert - Problem mit der GPU\n",
        "# dls = get_dls(128, 128)\n",
        "# learn = Learner(dls, xresnet50(), loss_func=CrossEntropyLossFlat(), metrics=accuracy)\n",
        "# learn.fit_one_cycle(4, 3e-3)"
      ],
      "execution_count": null,
      "outputs": []
    },
    {
      "cell_type": "code",
      "metadata": {
        "id": "UguvHX7Apq_n"
      },
      "source": [
        "# learn.dls = get_dls(64, 224)\n",
        "# learn.fine_tune(5, 5e-3)"
      ],
      "execution_count": null,
      "outputs": []
    },
    {
      "cell_type": "markdown",
      "metadata": {
        "id": "bvDkRB4_s0wz"
      },
      "source": [
        "<h2>Test-Time Augumentation</h2>"
      ]
    },
    {
      "cell_type": "code",
      "metadata": {
        "id": "yAR9u5YMs5ko",
        "colab": {
          "base_uri": "https://localhost:8080/",
          "height": 54
        },
        "outputId": "4b789606-39f0-47dc-b02b-152096733681"
      },
      "source": [
        "preds, targs = learn.tta()\n",
        "accuracy(preds, targs).item()"
      ],
      "execution_count": 14,
      "outputs": [
        {
          "output_type": "display_data",
          "data": {
            "text/html": [
              "\n",
              "    <div>\n",
              "        <style>\n",
              "            /* Turns off some styling */\n",
              "            progress {\n",
              "                /* gets rid of default border in Firefox and Opera. */\n",
              "                border: none;\n",
              "                /* Needs to be in here for Safari polyfill so background images work as expected. */\n",
              "                background-size: auto;\n",
              "            }\n",
              "            .progress-bar-interrupted, .progress-bar-interrupted::-webkit-progress-bar {\n",
              "                background: #F44336;\n",
              "            }\n",
              "        </style>\n",
              "      <progress value='0' class='' max='5' style='width:300px; height:20px; vertical-align: middle;'></progress>\n",
              "      \n",
              "    </div>\n",
              "    \n"
            ],
            "text/plain": [
              "<IPython.core.display.HTML object>"
            ]
          },
          "metadata": {
            "tags": []
          }
        },
        {
          "output_type": "display_data",
          "data": {
            "text/html": [
              ""
            ],
            "text/plain": [
              "<IPython.core.display.HTML object>"
            ]
          },
          "metadata": {
            "tags": []
          }
        },
        {
          "output_type": "execute_result",
          "data": {
            "text/plain": [
              "0.5400000214576721"
            ]
          },
          "metadata": {
            "tags": []
          },
          "execution_count": 14
        }
      ]
    },
    {
      "cell_type": "markdown",
      "metadata": {
        "id": "CWnKh3rwvkns"
      },
      "source": [
        "<h2>Label Smoothing</h2>"
      ]
    },
    {
      "cell_type": "code",
      "metadata": {
        "id": "pv3yjBPovppM",
        "colab": {
          "base_uri": "https://localhost:8080/",
          "height": 204
        },
        "outputId": "492f8feb-fa02-4c74-b374-210614094e41"
      },
      "source": [
        "model = xresnet50()\n",
        "learn = Learner(dls, model, loss_func=LabelSmoothingCrossEntropyFlat(), metrics=accuracy)\n",
        "learn.fit_one_cycle(5, 3e-3)"
      ],
      "execution_count": 15,
      "outputs": [
        {
          "output_type": "display_data",
          "data": {
            "text/html": [
              "<table border=\"1\" class=\"dataframe\">\n",
              "  <thead>\n",
              "    <tr style=\"text-align: left;\">\n",
              "      <th>epoch</th>\n",
              "      <th>train_loss</th>\n",
              "      <th>valid_loss</th>\n",
              "      <th>accuracy</th>\n",
              "      <th>time</th>\n",
              "    </tr>\n",
              "  </thead>\n",
              "  <tbody>\n",
              "    <tr>\n",
              "      <td>0</td>\n",
              "      <td>6.840226</td>\n",
              "      <td>7.862442</td>\n",
              "      <td>0.000000</td>\n",
              "      <td>00:03</td>\n",
              "    </tr>\n",
              "    <tr>\n",
              "      <td>1</td>\n",
              "      <td>4.987080</td>\n",
              "      <td>5.111762</td>\n",
              "      <td>0.460000</td>\n",
              "      <td>00:04</td>\n",
              "    </tr>\n",
              "    <tr>\n",
              "      <td>2</td>\n",
              "      <td>4.004160</td>\n",
              "      <td>9.881581</td>\n",
              "      <td>0.480000</td>\n",
              "      <td>00:04</td>\n",
              "    </tr>\n",
              "    <tr>\n",
              "      <td>3</td>\n",
              "      <td>3.487746</td>\n",
              "      <td>5.215366</td>\n",
              "      <td>0.520000</td>\n",
              "      <td>00:04</td>\n",
              "    </tr>\n",
              "    <tr>\n",
              "      <td>4</td>\n",
              "      <td>3.157596</td>\n",
              "      <td>3.941422</td>\n",
              "      <td>0.500000</td>\n",
              "      <td>00:04</td>\n",
              "    </tr>\n",
              "  </tbody>\n",
              "</table>"
            ],
            "text/plain": [
              "<IPython.core.display.HTML object>"
            ]
          },
          "metadata": {
            "tags": []
          }
        }
      ]
    },
    {
      "cell_type": "code",
      "metadata": {
        "id": "GFms0JQ4EUF-",
        "colab": {
          "base_uri": "https://localhost:8080/",
          "height": 370
        },
        "outputId": "a690f48a-9ee0-411b-d0a7-d6486432183d"
      },
      "source": [
        "dls.show_batch(max_n=8, nrows=2)"
      ],
      "execution_count": 16,
      "outputs": [
        {
          "output_type": "display_data",
          "data": {
            "image/png": "[encoded data removed]",
            "text/plain": [
              "<Figure size 864x432 with 8 Axes>"
            ]
          },
          "metadata": {
            "tags": [],
            "needs_background": "light"
          }
        }
      ]
    },
    {
      "cell_type": "markdown",
      "metadata": {
        "id": "hyxRRiLJGQ-9"
      },
      "source": [
        "<h2>Train learner</h2>"
      ]
    },
    {
      "cell_type": "code",
      "metadata": {
        "id": "TO5Ym2kZGYB_",
        "colab": {
          "base_uri": "https://localhost:8080/",
          "height": 508,
          "referenced_widgets": [
            "b1297c365abb4c679e4315aa1b01a569",
            "262a655404a146169c1c7d8da1441f78",
            "2142082ac5c24110ba380ca6b9369d58",
            "5e6ff1048de34c4996b000ea31b9375b",
            "0ffad26fbefc42c29c4a892e36d9074e",
            "05cf053a817f49af888a61486dbb5714",
            "ba9d6248a562407d921bc49e2b89de90",
            "6ec94eeecd6b49839e0059209e34794d"
          ]
        },
        "outputId": "2cac3272-58df-4da8-abcd-5d372d690f8b"
      },
      "source": [
        "learn = cnn_learner(dls, resnet18, metrics=error_rate)\n",
        "learn.fine_tune(10)"
      ],
      "execution_count": 17,
      "outputs": [
        {
          "output_type": "stream",
          "text": [
            "Downloading: \"https://download.pytorch.org/models/resnet18-5c106cde.pth\" to /root/.cache/torch/hub/checkpoints/resnet18-5c106cde.pth\n"
          ],
          "name": "stderr"
        },
        {
          "output_type": "display_data",
          "data": {
            "application/vnd.jupyter.widget-view+json": {
              "model_id": "b1297c365abb4c679e4315aa1b01a569",
              "version_minor": 0,
              "version_major": 2
            },
            "text/plain": [
              "HBox(children=(FloatProgress(value=0.0, max=46827520.0), HTML(value='')))"
            ]
          },
          "metadata": {
            "tags": []
          }
        },
        {
          "output_type": "stream",
          "text": [
            "\n"
          ],
          "name": "stdout"
        },
        {
          "output_type": "display_data",
          "data": {
            "text/html": [
              "<table border=\"1\" class=\"dataframe\">\n",
              "  <thead>\n",
              "    <tr style=\"text-align: left;\">\n",
              "      <th>epoch</th>\n",
              "      <th>train_loss</th>\n",
              "      <th>valid_loss</th>\n",
              "      <th>error_rate</th>\n",
              "      <th>time</th>\n",
              "    </tr>\n",
              "  </thead>\n",
              "  <tbody>\n",
              "    <tr>\n",
              "      <td>0</td>\n",
              "      <td>1.445547</td>\n",
              "      <td>1.989856</td>\n",
              "      <td>0.480000</td>\n",
              "      <td>00:02</td>\n",
              "    </tr>\n",
              "  </tbody>\n",
              "</table>"
            ],
            "text/plain": [
              "<IPython.core.display.HTML object>"
            ]
          },
          "metadata": {
            "tags": []
          }
        },
        {
          "output_type": "display_data",
          "data": {
            "text/html": [
              "<table border=\"1\" class=\"dataframe\">\n",
              "  <thead>\n",
              "    <tr style=\"text-align: left;\">\n",
              "      <th>epoch</th>\n",
              "      <th>train_loss</th>\n",
              "      <th>valid_loss</th>\n",
              "      <th>error_rate</th>\n",
              "      <th>time</th>\n",
              "    </tr>\n",
              "  </thead>\n",
              "  <tbody>\n",
              "    <tr>\n",
              "      <td>0</td>\n",
              "      <td>0.925540</td>\n",
              "      <td>1.352665</td>\n",
              "      <td>0.500000</td>\n",
              "      <td>00:02</td>\n",
              "    </tr>\n",
              "    <tr>\n",
              "      <td>1</td>\n",
              "      <td>0.920115</td>\n",
              "      <td>1.249701</td>\n",
              "      <td>0.460000</td>\n",
              "      <td>00:02</td>\n",
              "    </tr>\n",
              "    <tr>\n",
              "      <td>2</td>\n",
              "      <td>0.869694</td>\n",
              "      <td>1.178472</td>\n",
              "      <td>0.400000</td>\n",
              "      <td>00:02</td>\n",
              "    </tr>\n",
              "    <tr>\n",
              "      <td>3</td>\n",
              "      <td>0.790366</td>\n",
              "      <td>1.174079</td>\n",
              "      <td>0.300000</td>\n",
              "      <td>00:02</td>\n",
              "    </tr>\n",
              "    <tr>\n",
              "      <td>4</td>\n",
              "      <td>0.685684</td>\n",
              "      <td>1.068255</td>\n",
              "      <td>0.280000</td>\n",
              "      <td>00:02</td>\n",
              "    </tr>\n",
              "    <tr>\n",
              "      <td>5</td>\n",
              "      <td>0.620534</td>\n",
              "      <td>0.974386</td>\n",
              "      <td>0.260000</td>\n",
              "      <td>00:02</td>\n",
              "    </tr>\n",
              "    <tr>\n",
              "      <td>6</td>\n",
              "      <td>0.571447</td>\n",
              "      <td>0.918525</td>\n",
              "      <td>0.260000</td>\n",
              "      <td>00:02</td>\n",
              "    </tr>\n",
              "    <tr>\n",
              "      <td>7</td>\n",
              "      <td>0.525574</td>\n",
              "      <td>0.892466</td>\n",
              "      <td>0.260000</td>\n",
              "      <td>00:02</td>\n",
              "    </tr>\n",
              "    <tr>\n",
              "      <td>8</td>\n",
              "      <td>0.484091</td>\n",
              "      <td>0.835357</td>\n",
              "      <td>0.240000</td>\n",
              "      <td>00:02</td>\n",
              "    </tr>\n",
              "    <tr>\n",
              "      <td>9</td>\n",
              "      <td>0.463742</td>\n",
              "      <td>0.800106</td>\n",
              "      <td>0.260000</td>\n",
              "      <td>00:02</td>\n",
              "    </tr>\n",
              "  </tbody>\n",
              "</table>"
            ],
            "text/plain": [
              "<IPython.core.display.HTML object>"
            ]
          },
          "metadata": {
            "tags": []
          }
        }
      ]
    },
    {
      "cell_type": "markdown",
      "metadata": {
        "id": "uneggKhQIgfK"
      },
      "source": [
        "<h2>Export learner</h2>"
      ]
    },
    {
      "cell_type": "code",
      "metadata": {
        "id": "bMuTkxyOIgDN"
      },
      "source": [
        "learn.export('covid_classifier.pkl')"
      ],
      "execution_count": 18,
      "outputs": []
    },
    {
      "cell_type": "code",
      "metadata": {
        "id": "OZZbT2Z8JJ_4",
        "colab": {
          "base_uri": "https://localhost:8080/"
        },
        "outputId": "acdaee74-ffc6-4ffc-cb9d-214422ececff"
      },
      "source": [
        "# Check if path exists\n",
        "path = Path()\n",
        "path.ls(file_exts='.pkl')"
      ],
      "execution_count": 19,
      "outputs": [
        {
          "output_type": "execute_result",
          "data": {
            "text/plain": [
              "(#1) [Path('covid_classifier.pkl')]"
            ]
          },
          "metadata": {
            "tags": []
          },
          "execution_count": 19
        }
      ]
    },
    {
      "cell_type": "code",
      "metadata": {
        "id": "u8bvhWsSJUFV"
      },
      "source": [
        "# Save covid_classifier.pkl on google drive\n",
        "# !cp /content/covid_classifier.pkl /content/drive/My\\ Drive/BIOINF/covid_classifier.pkl"
      ],
      "execution_count": 37,
      "outputs": []
    },
    {
      "cell_type": "markdown",
      "metadata": {
        "id": "11fFabQTJ9om"
      },
      "source": [
        "<h2>Import learner + inference</h2>"
      ]
    },
    {
      "cell_type": "code",
      "metadata": {
        "id": "6aZ9NbMjJw5M"
      },
      "source": [
        "# Uncomment line to copy learner from google drive\n",
        "!cp /content/drive/My\\ Drive/BIOINF/covid_classifier.pkl ./ "
      ],
      "execution_count": 20,
      "outputs": []
    },
    {
      "cell_type": "code",
      "metadata": {
        "id": "gnrggmX9KW8M"
      },
      "source": [
        "inference = load_learner(path/'covid_classifier.pkl')"
      ],
      "execution_count": 21,
      "outputs": []
    },
    {
      "cell_type": "code",
      "metadata": {
        "id": "CSq4kYe6K9ii"
      },
      "source": [
        "# Save test image on google drive\n",
        "# !cp /content/Testbild.jpeg /content/drive/My\\ Drive/BIOINF/\n",
        "!cp /content/drive/My\\ Drive/BIOINF/Testbild.jpeg ./"
      ],
      "execution_count": 22,
      "outputs": []
    },
    {
      "cell_type": "code",
      "metadata": {
        "id": "rMvsJ5s2MOnq",
        "colab": {
          "base_uri": "https://localhost:8080/",
          "height": 113
        },
        "outputId": "1974945f-6959-4aed-ea06-86699f45e98f"
      },
      "source": [
        "img = Image.open('Testbild.jpeg')\n",
        "img.to_thumb(128,128)"
      ],
      "execution_count": 23,
      "outputs": [
        {
          "output_type": "execute_result",
          "data": {
            "image/png": "[encoded data removed]",
            "text/plain": [
              "<PIL.Image.Image image mode=L size=128x96 at 0x7FA2CC946710>"
            ]
          },
          "metadata": {
            "tags": []
          },
          "execution_count": 23
        }
      ]
    },
    {
      "cell_type": "code",
      "metadata": {
        "id": "UKCdTuB9MyRp",
        "colab": {
          "base_uri": "https://localhost:8080/",
          "height": 34
        },
        "outputId": "fa37bb84-6ba0-4169-8aac-e4de6657a77c"
      },
      "source": [
        "inference.predict('Testbild.jpeg')\n",
        "# inference.predict('Testbild_gesund.jpg')"
      ],
      "execution_count": 24,
      "outputs": [
        {
          "output_type": "display_data",
          "data": {
            "text/html": [
              ""
            ],
            "text/plain": [
              "<IPython.core.display.HTML object>"
            ]
          },
          "metadata": {
            "tags": []
          }
        },
        {
          "output_type": "execute_result",
          "data": {
            "text/plain": [
              "('non_covid', tensor(1), tensor([0.0110, 0.9890]))"
            ]
          },
          "metadata": {
            "tags": []
          },
          "execution_count": 24
        }
      ]
    },
    {
      "cell_type": "code",
      "metadata": {
        "id": "H4mPa0U0M7Xa",
        "colab": {
          "base_uri": "https://localhost:8080/"
        },
        "outputId": "110823ec-b665-47db-b496-c6972cb7975c"
      },
      "source": [
        "inference.dls.vocab"
      ],
      "execution_count": 25,
      "outputs": [
        {
          "output_type": "execute_result",
          "data": {
            "text/plain": [
              "['covid', 'non_covid']"
            ]
          },
          "metadata": {
            "tags": []
          },
          "execution_count": 25
        }
      ]
    },
    {
      "cell_type": "markdown",
      "metadata": {
        "id": "J7Wg48oLPFbr"
      },
      "source": [
        "<h2>User Interface</h2>"
      ]
    },
    {
      "cell_type": "code",
      "metadata": {
        "id": "OgtIfJoDNhix"
      },
      "source": [
        "import ipywidgets as widgets"
      ],
      "execution_count": 26,
      "outputs": []
    },
    {
      "cell_type": "code",
      "metadata": {
        "id": "MCmm25BPPQA6",
        "colab": {
          "base_uri": "https://localhost:8080/",
          "height": 49,
          "referenced_widgets": [
            "2da59a0849a3484ca96463c44effed79",
            "83db2d4f4d1c4c429c5981e20ce501eb",
            "3e7702c2c1084457a1965bb470d37b61"
          ]
        },
        "outputId": "1b95927b-134c-4b50-a3e9-0f790f30ee79"
      },
      "source": [
        "btn_upload = widgets.FileUpload()\n",
        "btn_upload"
      ],
      "execution_count": 27,
      "outputs": [
        {
          "output_type": "display_data",
          "data": {
            "application/vnd.jupyter.widget-view+json": {
              "model_id": "2da59a0849a3484ca96463c44effed79",
              "version_minor": 0,
              "version_major": 2
            },
            "text/plain": [
              "FileUpload(value={}, description='Upload')"
            ]
          },
          "metadata": {
            "tags": []
          }
        }
      ]
    },
    {
      "cell_type": "code",
      "metadata": {
        "id": "3NNH6xC1PVJb",
        "colab": {
          "base_uri": "https://localhost:8080/",
          "height": 113,
          "referenced_widgets": [
            "d8297738a26a47008b400807be3ebfa4",
            "4c44b648875e4509b55fd2e5d501a8a4"
          ]
        },
        "outputId": "99e981de-5624-4c4c-c855-92e30610f6f5"
      },
      "source": [
        "out_pl = widgets.Output()\n",
        "out_pl.clear_output()\n",
        "with out_pl: display(img.to_thumb(128,128))\n",
        "out_pl"
      ],
      "execution_count": 28,
      "outputs": [
        {
          "output_type": "display_data",
          "data": {
            "application/vnd.jupyter.widget-view+json": {
              "model_id": "d8297738a26a47008b400807be3ebfa4",
              "version_minor": 0,
              "version_major": 2
            },
            "text/plain": [
              "Output()"
            ]
          },
          "metadata": {
            "tags": []
          }
        }
      ]
    },
    {
      "cell_type": "code",
      "metadata": {
        "id": "B9u7cwMCPofg"
      },
      "source": [
        "img = PILImage.create(btn_upload.data[-1])"
      ],
      "execution_count": 29,
      "outputs": []
    },
    {
      "cell_type": "code",
      "metadata": {
        "id": "H_IH5vxnPxPx",
        "colab": {
          "base_uri": "https://localhost:8080/",
          "height": 17
        },
        "outputId": "903c3d93-e6a3-4cff-d448-09e6843d7319"
      },
      "source": [
        "pred, pred_idx, probs = inference.predict(img)"
      ],
      "execution_count": 30,
      "outputs": [
        {
          "output_type": "display_data",
          "data": {
            "text/html": [
              ""
            ],
            "text/plain": [
              "<IPython.core.display.HTML object>"
            ]
          },
          "metadata": {
            "tags": []
          }
        }
      ]
    },
    {
      "cell_type": "code",
      "metadata": {
        "id": "_NJdkCTbQGNz",
        "colab": {
          "base_uri": "https://localhost:8080/",
          "height": 49,
          "referenced_widgets": [
            "fd1e0cbe52934eec968d2f3a17cc72ac",
            "ae9f92f0f8e94240bff4d0aff87a6970",
            "7539f41d45c9443d84e405a37b393f6d"
          ]
        },
        "outputId": "374f9044-5762-42d5-c54a-1983f54df5e5"
      },
      "source": [
        "lbl_pred = widgets.Label()\n",
        "lbl_pred.value = f'Prediction: {pred}; Probability: {probs[pred_idx]:.04f}'\n",
        "lbl_pred"
      ],
      "execution_count": 31,
      "outputs": [
        {
          "output_type": "display_data",
          "data": {
            "application/vnd.jupyter.widget-view+json": {
              "model_id": "fd1e0cbe52934eec968d2f3a17cc72ac",
              "version_minor": 0,
              "version_major": 2
            },
            "text/plain": [
              "Label(value='Prediction: covid; Probability: 0.8644')"
            ]
          },
          "metadata": {
            "tags": []
          }
        }
      ]
    },
    {
      "cell_type": "code",
      "metadata": {
        "id": "Eu4IYEJ3QbD6",
        "colab": {
          "base_uri": "https://localhost:8080/",
          "height": 49,
          "referenced_widgets": [
            "a2c29c7878c64868951043e69a359be8",
            "b1ebae2f38ff45e19e548340a08ca097",
            "dc45a8b9fabd44fd89e753a962bf7df7"
          ]
        },
        "outputId": "eff38ddd-9ccb-4ccb-8419-70b3b3c48380"
      },
      "source": [
        "btn_run = widgets.Button(description='Classify Covid')\n",
        "btn_run"
      ],
      "execution_count": 32,
      "outputs": [
        {
          "output_type": "display_data",
          "data": {
            "application/vnd.jupyter.widget-view+json": {
              "model_id": "a2c29c7878c64868951043e69a359be8",
              "version_minor": 0,
              "version_major": 2
            },
            "text/plain": [
              "Button(description='Classify Covid', style=ButtonStyle())"
            ]
          },
          "metadata": {
            "tags": []
          }
        }
      ]
    },
    {
      "cell_type": "code",
      "metadata": {
        "id": "fvVXgqZuQ1Mi"
      },
      "source": [
        "def on_click_classify(change):\n",
        "  img = PILImage.create(btn_upload.data[-1])\n",
        "  out_pl.clear_output()\n",
        "  with out_pl: display(img.to_thumb(128,128))\n",
        "  pred, pred_idx, probs = inference.predict(img)\n",
        "  lbl_pred.value = f'Prediction: {pred}; Probability: {probs[pred_idx]:.04f}'\n",
        "\n",
        "btn_run.on_click(on_click_classify)"
      ],
      "execution_count": 33,
      "outputs": []
    },
    {
      "cell_type": "code",
      "metadata": {
        "id": "_TCxMjV3RXbq",
        "colab": {
          "base_uri": "https://localhost:8080/",
          "height": 241,
          "referenced_widgets": [
            "5ef5a1d06df04e49941900b12bb9007b",
            "d4c46ae67a814fcfbfc1519ad75c8b5f",
            "803488e7abd640b5b985201777f5b30e",
            "c1876b4b2b9c4a5eae5c831d643e2203",
            "a2c29c7878c64868951043e69a359be8",
            "d8297738a26a47008b400807be3ebfa4",
            "fd1e0cbe52934eec968d2f3a17cc72ac",
            "c3f9c9bec3e04e2aad22a6d33ae7da1c",
            "01b5d7282b70411a92af0808b1147fe6",
            "1c22e6f3235e4b71907276cde02a7eca",
            "19f6225289de4aa78e0e71b166c0b704",
            "b1ebae2f38ff45e19e548340a08ca097",
            "dc45a8b9fabd44fd89e753a962bf7df7",
            "ae9f92f0f8e94240bff4d0aff87a6970",
            "7539f41d45c9443d84e405a37b393f6d",
            "4c44b648875e4509b55fd2e5d501a8a4"
          ]
        },
        "outputId": "05e14d0c-ff78-4325-82e4-874c1009244f"
      },
      "source": [
        "btn_upload = widgets.FileUpload()\n",
        "widgets.VBox([widgets.Label(\"Select lung CT:\"),\n",
        "             btn_upload, btn_run, out_pl, lbl_pred])"
      ],
      "execution_count": 34,
      "outputs": [
        {
          "output_type": "display_data",
          "data": {
            "application/vnd.jupyter.widget-view+json": {
              "model_id": "5ef5a1d06df04e49941900b12bb9007b",
              "version_minor": 0,
              "version_major": 2
            },
            "text/plain": [
              "VBox(children=(Label(value='Select lung CT:'), FileUpload(value={}, description='Upload'), Button(description=…"
            ]
          },
          "metadata": {
            "tags": []
          }
        }
      ]
    },
    {
      "cell_type": "markdown",
      "metadata": {
        "id": "rE2gKHizjwKU"
      },
      "source": [
        "\n",
        "<h2>Confusion Matrix</h2>\n",
        "\n"
      ]
    },
    {
      "cell_type": "code",
      "metadata": {
        "id": "b92O9Hvqj3OP",
        "colab": {
          "base_uri": "https://localhost:8080/",
          "height": 311
        },
        "outputId": "4d128f88-07e1-401f-ec18-6de6ee548503"
      },
      "source": [
        "interpret = ClassificationInterpretation.from_learner(learn)\n",
        "interpret.plot_confusion_matrix()"
      ],
      "execution_count": 35,
      "outputs": [
        {
          "output_type": "display_data",
          "data": {
            "text/html": [
              ""
            ],
            "text/plain": [
              "<IPython.core.display.HTML object>"
            ]
          },
          "metadata": {
            "tags": []
          }
        },
        {
          "output_type": "display_data",
          "data": {
            "image/png": "[encoded data removed]",
            "text/plain": [
              "<Figure size 432x288 with 1 Axes>"
            ]
          },
          "metadata": {
            "tags": [],
            "needs_background": "light"
          }
        }
      ]
    }
  ]
}