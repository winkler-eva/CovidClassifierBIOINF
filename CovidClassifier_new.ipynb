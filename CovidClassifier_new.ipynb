{
  "nbformat": 4,
  "nbformat_minor": 0,
  "metadata": {
    "colab": {
      "name": "CovidClassifier.ipynb",
      "provenance": [],
      "collapsed_sections": [],
      "mount_file_id": "1-EbQiqwtj5tkyCshX1LUBV8yGyyKNOFX",
      "authorship_tag": "ABX9TyOK5Btq2TGhRFmBSIxkzo0u",
      "include_colab_link": true
    },
    "kernelspec": {
      "name": "python3",
      "display_name": "Python 3"
    },
    "language_info": {
      "name": "python"
    },
    "accelerator": "GPU",
    "widgets": {
      "application/vnd.jupyter.widget-state+json": {
        "8ebab554173743159d171b55c0cbcce7": {
          "model_module": "@jupyter-widgets/controls",
          "model_name": "FileUploadModel",
          "state": {
            "_view_name": "FileUploadView",
            "_counter": 1,
            "style": "IPY_MODEL_6f2eafaad8b74b2fa6148c46ea133e12",
            "_dom_classes": [],
            "description": "Upload",
            "multiple": false,
            "_model_name": "FileUploadModel",
            "data": [
              null
            ],
            "button_style": "",
            "_view_module": "@jupyter-widgets/controls",
            "_model_module_version": "1.5.0",
            "accept": "",
            "_view_count": null,
            "disabled": false,
            "_view_module_version": "1.5.0",
            "error": "",
            "description_tooltip": null,
            "metadata": [
              {
                "name": "Testbild.jpeg",
                "type": "image/jpeg",
                "size": 21779,
                "lastModified": 1617175672436
              }
            ],
            "_model_module": "@jupyter-widgets/controls",
            "layout": "IPY_MODEL_6d7bb63e836c4a289cd1738850179749",
            "icon": "upload"
          }
        },
        "6f2eafaad8b74b2fa6148c46ea133e12": {
          "model_module": "@jupyter-widgets/controls",
          "model_name": "ButtonStyleModel",
          "state": {
            "_view_name": "StyleView",
            "_model_name": "ButtonStyleModel",
            "_view_module": "@jupyter-widgets/base",
            "_model_module_version": "1.5.0",
            "_view_count": null,
            "button_color": null,
            "font_weight": "",
            "_view_module_version": "1.2.0",
            "_model_module": "@jupyter-widgets/controls"
          }
        },
        "6d7bb63e836c4a289cd1738850179749": {
          "model_module": "@jupyter-widgets/base",
          "model_name": "LayoutModel",
          "state": {
            "_view_name": "LayoutView",
            "grid_template_rows": null,
            "right": null,
            "justify_content": null,
            "_view_module": "@jupyter-widgets/base",
            "overflow": null,
            "_model_module_version": "1.2.0",
            "_view_count": null,
            "flex_flow": null,
            "width": null,
            "min_width": null,
            "border": null,
            "align_items": null,
            "bottom": null,
            "_model_module": "@jupyter-widgets/base",
            "top": null,
            "grid_column": null,
            "overflow_y": null,
            "overflow_x": null,
            "grid_auto_flow": null,
            "grid_area": null,
            "grid_template_columns": null,
            "flex": null,
            "_model_name": "LayoutModel",
            "justify_items": null,
            "grid_row": null,
            "max_height": null,
            "align_content": null,
            "visibility": null,
            "align_self": null,
            "height": null,
            "min_height": null,
            "padding": null,
            "grid_auto_rows": null,
            "grid_gap": null,
            "max_width": null,
            "order": null,
            "_view_module_version": "1.2.0",
            "grid_template_areas": null,
            "object_position": null,
            "object_fit": null,
            "grid_auto_columns": null,
            "margin": null,
            "display": null,
            "left": null
          }
        },
        "836adc2f164e41d680197a0d2e53d35a": {
          "model_module": "@jupyter-widgets/output",
          "model_name": "OutputModel",
          "state": {
            "_view_name": "OutputView",
            "msg_id": "",
            "_dom_classes": [],
            "_model_name": "OutputModel",
            "outputs": [
              {
                "output_type": "display_data",
                "metadata": {
                  "tags": []
                },
                "image/png": "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\n",
                "text/plain": "<PIL.Image.Image image mode=L size=128x96 at 0x7F2766286110>"
              }
            ],
            "_view_module": "@jupyter-widgets/output",
            "_model_module_version": "1.0.0",
            "_view_count": null,
            "_view_module_version": "1.0.0",
            "layout": "IPY_MODEL_ae41374a4f3948f3bdf45b290334582e",
            "_model_module": "@jupyter-widgets/output"
          }
        },
        "ae41374a4f3948f3bdf45b290334582e": {
          "model_module": "@jupyter-widgets/base",
          "model_name": "LayoutModel",
          "state": {
            "_view_name": "LayoutView",
            "grid_template_rows": null,
            "right": null,
            "justify_content": null,
            "_view_module": "@jupyter-widgets/base",
            "overflow": null,
            "_model_module_version": "1.2.0",
            "_view_count": null,
            "flex_flow": null,
            "width": null,
            "min_width": null,
            "border": null,
            "align_items": null,
            "bottom": null,
            "_model_module": "@jupyter-widgets/base",
            "top": null,
            "grid_column": null,
            "overflow_y": null,
            "overflow_x": null,
            "grid_auto_flow": null,
            "grid_area": null,
            "grid_template_columns": null,
            "flex": null,
            "_model_name": "LayoutModel",
            "justify_items": null,
            "grid_row": null,
            "max_height": null,
            "align_content": null,
            "visibility": null,
            "align_self": null,
            "height": null,
            "min_height": null,
            "padding": null,
            "grid_auto_rows": null,
            "grid_gap": null,
            "max_width": null,
            "order": null,
            "_view_module_version": "1.2.0",
            "grid_template_areas": null,
            "object_position": null,
            "object_fit": null,
            "grid_auto_columns": null,
            "margin": null,
            "display": null,
            "left": null
          }
        },
        "df9edd834c3b40eaa7709eb164d2f842": {
          "model_module": "@jupyter-widgets/controls",
          "model_name": "LabelModel",
          "state": {
            "_view_name": "LabelView",
            "style": "IPY_MODEL_36eb533e32054defb6ed44400fd969d7",
            "_dom_classes": [],
            "description": "",
            "_model_name": "LabelModel",
            "placeholder": "​",
            "_view_module": "@jupyter-widgets/controls",
            "_model_module_version": "1.5.0",
            "value": "Prediction: covid; Probability: 0.9529",
            "_view_count": null,
            "_view_module_version": "1.5.0",
            "description_tooltip": null,
            "_model_module": "@jupyter-widgets/controls",
            "layout": "IPY_MODEL_d776a96fe18f4e55952e670edcd4cd2b"
          }
        },
        "36eb533e32054defb6ed44400fd969d7": {
          "model_module": "@jupyter-widgets/controls",
          "model_name": "DescriptionStyleModel",
          "state": {
            "_view_name": "StyleView",
            "_model_name": "DescriptionStyleModel",
            "description_width": "",
            "_view_module": "@jupyter-widgets/base",
            "_model_module_version": "1.5.0",
            "_view_count": null,
            "_view_module_version": "1.2.0",
            "_model_module": "@jupyter-widgets/controls"
          }
        },
        "d776a96fe18f4e55952e670edcd4cd2b": {
          "model_module": "@jupyter-widgets/base",
          "model_name": "LayoutModel",
          "state": {
            "_view_name": "LayoutView",
            "grid_template_rows": null,
            "right": null,
            "justify_content": null,
            "_view_module": "@jupyter-widgets/base",
            "overflow": null,
            "_model_module_version": "1.2.0",
            "_view_count": null,
            "flex_flow": null,
            "width": null,
            "min_width": null,
            "border": null,
            "align_items": null,
            "bottom": null,
            "_model_module": "@jupyter-widgets/base",
            "top": null,
            "grid_column": null,
            "overflow_y": null,
            "overflow_x": null,
            "grid_auto_flow": null,
            "grid_area": null,
            "grid_template_columns": null,
            "flex": null,
            "_model_name": "LayoutModel",
            "justify_items": null,
            "grid_row": null,
            "max_height": null,
            "align_content": null,
            "visibility": null,
            "align_self": null,
            "height": null,
            "min_height": null,
            "padding": null,
            "grid_auto_rows": null,
            "grid_gap": null,
            "max_width": null,
            "order": null,
            "_view_module_version": "1.2.0",
            "grid_template_areas": null,
            "object_position": null,
            "object_fit": null,
            "grid_auto_columns": null,
            "margin": null,
            "display": null,
            "left": null
          }
        },
        "b1d8755a7c944f8686a497282bbd6ac4": {
          "model_module": "@jupyter-widgets/controls",
          "model_name": "ButtonModel",
          "state": {
            "_view_name": "ButtonView",
            "style": "IPY_MODEL_c237c112c9ac4875bf5f07898999d438",
            "_dom_classes": [],
            "description": "Classify Covid",
            "_model_name": "ButtonModel",
            "button_style": "",
            "_view_module": "@jupyter-widgets/controls",
            "_model_module_version": "1.5.0",
            "tooltip": "",
            "_view_count": null,
            "disabled": false,
            "_view_module_version": "1.5.0",
            "layout": "IPY_MODEL_6d3a84ad1b9f430987f56a76d95d6405",
            "_model_module": "@jupyter-widgets/controls",
            "icon": ""
          }
        },
        "c237c112c9ac4875bf5f07898999d438": {
          "model_module": "@jupyter-widgets/controls",
          "model_name": "ButtonStyleModel",
          "state": {
            "_view_name": "StyleView",
            "_model_name": "ButtonStyleModel",
            "_view_module": "@jupyter-widgets/base",
            "_model_module_version": "1.5.0",
            "_view_count": null,
            "button_color": null,
            "font_weight": "",
            "_view_module_version": "1.2.0",
            "_model_module": "@jupyter-widgets/controls"
          }
        },
        "6d3a84ad1b9f430987f56a76d95d6405": {
          "model_module": "@jupyter-widgets/base",
          "model_name": "LayoutModel",
          "state": {
            "_view_name": "LayoutView",
            "grid_template_rows": null,
            "right": null,
            "justify_content": null,
            "_view_module": "@jupyter-widgets/base",
            "overflow": null,
            "_model_module_version": "1.2.0",
            "_view_count": null,
            "flex_flow": null,
            "width": null,
            "min_width": null,
            "border": null,
            "align_items": null,
            "bottom": null,
            "_model_module": "@jupyter-widgets/base",
            "top": null,
            "grid_column": null,
            "overflow_y": null,
            "overflow_x": null,
            "grid_auto_flow": null,
            "grid_area": null,
            "grid_template_columns": null,
            "flex": null,
            "_model_name": "LayoutModel",
            "justify_items": null,
            "grid_row": null,
            "max_height": null,
            "align_content": null,
            "visibility": null,
            "align_self": null,
            "height": null,
            "min_height": null,
            "padding": null,
            "grid_auto_rows": null,
            "grid_gap": null,
            "max_width": null,
            "order": null,
            "_view_module_version": "1.2.0",
            "grid_template_areas": null,
            "object_position": null,
            "object_fit": null,
            "grid_auto_columns": null,
            "margin": null,
            "display": null,
            "left": null
          }
        },
        "98124ab0b0a64e2f819fe188f2eda68d": {
          "model_module": "@jupyter-widgets/controls",
          "model_name": "VBoxModel",
          "state": {
            "_view_name": "VBoxView",
            "_dom_classes": [],
            "_model_name": "VBoxModel",
            "_view_module": "@jupyter-widgets/controls",
            "_model_module_version": "1.5.0",
            "_view_count": null,
            "_view_module_version": "1.5.0",
            "box_style": "",
            "layout": "IPY_MODEL_78a17cd385b04ed8ba13016ae8772890",
            "_model_module": "@jupyter-widgets/controls",
            "children": [
              "IPY_MODEL_80f37b7cf362479aac4ddc3721933100",
              "IPY_MODEL_91ff7212f66a4747861d160770c5fb8b",
              "IPY_MODEL_b1d8755a7c944f8686a497282bbd6ac4",
              "IPY_MODEL_836adc2f164e41d680197a0d2e53d35a",
              "IPY_MODEL_df9edd834c3b40eaa7709eb164d2f842"
            ]
          }
        },
        "78a17cd385b04ed8ba13016ae8772890": {
          "model_module": "@jupyter-widgets/base",
          "model_name": "LayoutModel",
          "state": {
            "_view_name": "LayoutView",
            "grid_template_rows": null,
            "right": null,
            "justify_content": null,
            "_view_module": "@jupyter-widgets/base",
            "overflow": null,
            "_model_module_version": "1.2.0",
            "_view_count": null,
            "flex_flow": null,
            "width": null,
            "min_width": null,
            "border": null,
            "align_items": null,
            "bottom": null,
            "_model_module": "@jupyter-widgets/base",
            "top": null,
            "grid_column": null,
            "overflow_y": null,
            "overflow_x": null,
            "grid_auto_flow": null,
            "grid_area": null,
            "grid_template_columns": null,
            "flex": null,
            "_model_name": "LayoutModel",
            "justify_items": null,
            "grid_row": null,
            "max_height": null,
            "align_content": null,
            "visibility": null,
            "align_self": null,
            "height": null,
            "min_height": null,
            "padding": null,
            "grid_auto_rows": null,
            "grid_gap": null,
            "max_width": null,
            "order": null,
            "_view_module_version": "1.2.0",
            "grid_template_areas": null,
            "object_position": null,
            "object_fit": null,
            "grid_auto_columns": null,
            "margin": null,
            "display": null,
            "left": null
          }
        },
        "80f37b7cf362479aac4ddc3721933100": {
          "model_module": "@jupyter-widgets/controls",
          "model_name": "LabelModel",
          "state": {
            "_view_name": "LabelView",
            "style": "IPY_MODEL_ca8ccdf6c4da4791ac7ed32df03bc63b",
            "_dom_classes": [],
            "description": "",
            "_model_name": "LabelModel",
            "placeholder": "​",
            "_view_module": "@jupyter-widgets/controls",
            "_model_module_version": "1.5.0",
            "value": "Select lung CT:",
            "_view_count": null,
            "_view_module_version": "1.5.0",
            "description_tooltip": null,
            "_model_module": "@jupyter-widgets/controls",
            "layout": "IPY_MODEL_e75bbc82e665433bb2610bec256abaac"
          }
        },
        "91ff7212f66a4747861d160770c5fb8b": {
          "model_module": "@jupyter-widgets/controls",
          "model_name": "FileUploadModel",
          "state": {
            "_view_name": "FileUploadView",
            "_counter": 0,
            "style": "IPY_MODEL_c84d9ab1471a42ff994291a54d76ea66",
            "_dom_classes": [],
            "description": "Upload",
            "multiple": false,
            "_model_name": "FileUploadModel",
            "data": [],
            "button_style": "",
            "_view_module": "@jupyter-widgets/controls",
            "_model_module_version": "1.5.0",
            "accept": "",
            "_view_count": null,
            "disabled": false,
            "_view_module_version": "1.5.0",
            "error": "",
            "description_tooltip": null,
            "metadata": [],
            "_model_module": "@jupyter-widgets/controls",
            "layout": "IPY_MODEL_736f0d6f5cb945f89ce47a0105139bc7",
            "icon": "upload"
          }
        },
        "ca8ccdf6c4da4791ac7ed32df03bc63b": {
          "model_module": "@jupyter-widgets/controls",
          "model_name": "DescriptionStyleModel",
          "state": {
            "_view_name": "StyleView",
            "_model_name": "DescriptionStyleModel",
            "description_width": "",
            "_view_module": "@jupyter-widgets/base",
            "_model_module_version": "1.5.0",
            "_view_count": null,
            "_view_module_version": "1.2.0",
            "_model_module": "@jupyter-widgets/controls"
          }
        },
        "e75bbc82e665433bb2610bec256abaac": {
          "model_module": "@jupyter-widgets/base",
          "model_name": "LayoutModel",
          "state": {
            "_view_name": "LayoutView",
            "grid_template_rows": null,
            "right": null,
            "justify_content": null,
            "_view_module": "@jupyter-widgets/base",
            "overflow": null,
            "_model_module_version": "1.2.0",
            "_view_count": null,
            "flex_flow": null,
            "width": null,
            "min_width": null,
            "border": null,
            "align_items": null,
            "bottom": null,
            "_model_module": "@jupyter-widgets/base",
            "top": null,
            "grid_column": null,
            "overflow_y": null,
            "overflow_x": null,
            "grid_auto_flow": null,
            "grid_area": null,
            "grid_template_columns": null,
            "flex": null,
            "_model_name": "LayoutModel",
            "justify_items": null,
            "grid_row": null,
            "max_height": null,
            "align_content": null,
            "visibility": null,
            "align_self": null,
            "height": null,
            "min_height": null,
            "padding": null,
            "grid_auto_rows": null,
            "grid_gap": null,
            "max_width": null,
            "order": null,
            "_view_module_version": "1.2.0",
            "grid_template_areas": null,
            "object_position": null,
            "object_fit": null,
            "grid_auto_columns": null,
            "margin": null,
            "display": null,
            "left": null
          }
        },
        "c84d9ab1471a42ff994291a54d76ea66": {
          "model_module": "@jupyter-widgets/controls",
          "model_name": "ButtonStyleModel",
          "state": {
            "_view_name": "StyleView",
            "_model_name": "ButtonStyleModel",
            "_view_module": "@jupyter-widgets/base",
            "_model_module_version": "1.5.0",
            "_view_count": null,
            "button_color": null,
            "font_weight": "",
            "_view_module_version": "1.2.0",
            "_model_module": "@jupyter-widgets/controls"
          }
        },
        "736f0d6f5cb945f89ce47a0105139bc7": {
          "model_module": "@jupyter-widgets/base",
          "model_name": "LayoutModel",
          "state": {
            "_view_name": "LayoutView",
            "grid_template_rows": null,
            "right": null,
            "justify_content": null,
            "_view_module": "@jupyter-widgets/base",
            "overflow": null,
            "_model_module_version": "1.2.0",
            "_view_count": null,
            "flex_flow": null,
            "width": null,
            "min_width": null,
            "border": null,
            "align_items": null,
            "bottom": null,
            "_model_module": "@jupyter-widgets/base",
            "top": null,
            "grid_column": null,
            "overflow_y": null,
            "overflow_x": null,
            "grid_auto_flow": null,
            "grid_area": null,
            "grid_template_columns": null,
            "flex": null,
            "_model_name": "LayoutModel",
            "justify_items": null,
            "grid_row": null,
            "max_height": null,
            "align_content": null,
            "visibility": null,
            "align_self": null,
            "height": null,
            "min_height": null,
            "padding": null,
            "grid_auto_rows": null,
            "grid_gap": null,
            "max_width": null,
            "order": null,
            "_view_module_version": "1.2.0",
            "grid_template_areas": null,
            "object_position": null,
            "object_fit": null,
            "grid_auto_columns": null,
            "margin": null,
            "display": null,
            "left": null
          }
        }
      }
    }
  },
  "cells": [
    {
      "cell_type": "markdown",
      "metadata": {
        "id": "view-in-github",
        "colab_type": "text"
      },
      "source": [
        "<a href=\"https://colab.research.google.com/github/winkler-eva/CovidClassifierBIOINF/blob/main/CovidClassifier_new.ipynb\" target=\"_parent\"><img src=\"https://colab.research.google.com/assets/colab-badge.svg\" alt=\"Open In Colab\"/></a>"
      ]
    },
    {
      "cell_type": "markdown",
      "metadata": {
        "id": "PP_JAqBkz2Uy"
      },
      "source": [
        "<h1><strong>Covid-Classifier</strong></h1>"
      ]
    },
    {
      "cell_type": "code",
      "metadata": {
        "id": "z9q_Qqv_zq1o"
      },
      "source": [
        "!pip install fastai --upgrade -q"
      ],
      "execution_count": 1,
      "outputs": []
    },
    {
      "cell_type": "code",
      "metadata": {
        "colab": {
          "base_uri": "https://localhost:8080/"
        },
        "id": "UhLeeuKp0Hum",
        "outputId": "de84445a-6ccc-4653-9ec7-12e60100c8bd"
      },
      "source": [
        "import fastai\n",
        "print(fastai.__version__)"
      ],
      "execution_count": 2,
      "outputs": [
        {
          "output_type": "stream",
          "text": [
            "2.3.0\n"
          ],
          "name": "stdout"
        }
      ]
    },
    {
      "cell_type": "code",
      "metadata": {
        "id": "yQ9k_Avm0qzW"
      },
      "source": [
        "import os\n",
        "from fastai.vision.all import *\n",
        "path = untar_data(URLs.IMAGENETTE)"
      ],
      "execution_count": 3,
      "outputs": []
    },
    {
      "cell_type": "markdown",
      "metadata": {
        "id": "2xV7rWhL00An"
      },
      "source": [
        "<h2>Save images permanently in google drive</h2>"
      ]
    },
    {
      "cell_type": "code",
      "metadata": {
        "colab": {
          "base_uri": "https://localhost:8080/"
        },
        "id": "w5HypWVa0vKg",
        "outputId": "9aa8403c-992c-46da-f5a5-d04a125f0147"
      },
      "source": [
        "# data was downloaded from the website kaggle.com\n",
        "!tar -czvf covid_images.tar.gz covid_data"
      ],
      "execution_count": 4,
      "outputs": [
        {
          "output_type": "stream",
          "text": [
            "tar: covid_data: Cannot stat: No such file or directory\n",
            "tar: Exiting with failure status due to previous errors\n"
          ],
          "name": "stdout"
        }
      ]
    },
    {
      "cell_type": "code",
      "metadata": {
        "colab": {
          "base_uri": "https://localhost:8080/"
        },
        "id": "AFErloo411Pm",
        "outputId": "0dc9e70e-3b98-456e-aabe-84190b5ca44d"
      },
      "source": [
        "!cp -av covid_images.tar.gz /content/drive/My\\ Drive/BIOINF"
      ],
      "execution_count": 5,
      "outputs": [
        {
          "output_type": "stream",
          "text": [
            "'covid_images.tar.gz' -> '/content/drive/My Drive/BIOINF/covid_images.tar.gz'\n"
          ],
          "name": "stdout"
        }
      ]
    },
    {
      "cell_type": "code",
      "metadata": {
        "id": "fHc9Z-8k4ITM"
      },
      "source": [
        "!cp /content/drive/My\\ Drive/BIOINF/covid_images.tar.gz covid_project/ # replace 'test' with real folder name "
      ],
      "execution_count": 6,
      "outputs": []
    },
    {
      "cell_type": "code",
      "metadata": {
        "id": "p40Fx8Np4eO-"
      },
      "source": [
        "!tar -xf covid_project/covid_images.tar.gz -C covid_project/ # replace 'test' with real folder name "
      ],
      "execution_count": 7,
      "outputs": []
    },
    {
      "cell_type": "markdown",
      "metadata": {
        "id": "xvh2sHXx5gS2"
      },
      "source": [
        "<h2>Dataloader</h2>"
      ]
    },
    {
      "cell_type": "code",
      "metadata": {
        "id": "8D2tFM-f7sP-"
      },
      "source": [
        "path = Path('covid_project')\n",
        "failed = verify_images(get_image_files(path))\n",
        "failed.map(Path.unlink);"
      ],
      "execution_count": 8,
      "outputs": []
    },
    {
      "cell_type": "code",
      "metadata": {
        "id": "ijgZziQGBNu8"
      },
      "source": [
        "covid = DataBlock(\n",
        "    blocks = (ImageBlock, CategoryBlock),\n",
        "    get_items = get_image_files,\n",
        "    # splitter = RandomSplitter(valid_pct=0.2, seed=42),\n",
        "    get_y = parent_label,\n",
        "    item_tfms = Resize(460),\n",
        "    batch_tfms = aug_transforms(size=224, min_scale=0.75)\n",
        ") "
      ],
      "execution_count": 9,
      "outputs": []
    },
    {
      "cell_type": "code",
      "metadata": {
        "id": "4oQ3_B1KDakx"
      },
      "source": [
        "dls = covid.dataloaders(path, bs=64)"
      ],
      "execution_count": 10,
      "outputs": []
    },
    {
      "cell_type": "markdown",
      "metadata": {
        "id": "KKPa-c_RfaWI"
      },
      "source": [
        "<h2>Normalize trainings dataset</h2>"
      ]
    },
    {
      "cell_type": "code",
      "metadata": {
        "colab": {
          "base_uri": "https://localhost:8080/"
        },
        "id": "4mUFcIshfg0E",
        "outputId": "6b9474ea-4b9a-4656-9992-afc865ce6dc7"
      },
      "source": [
        "x,y = dls.one_batch()\n",
        "x.mean(dim=[0,2,3]),x.std(dim=[0,2,3])"
      ],
      "execution_count": 11,
      "outputs": [
        {
          "output_type": "execute_result",
          "data": {
            "text/plain": [
              "(TensorImage([0.6650, 0.6649, 0.6650], device='cuda:0'),\n",
              " TensorImage([0.3131, 0.3134, 0.3133], device='cuda:0'))"
            ]
          },
          "metadata": {
            "tags": []
          },
          "execution_count": 11
        }
      ]
    },
    {
      "cell_type": "code",
      "metadata": {
        "id": "yor5D0lhf7l_"
      },
      "source": [
        "def get_dls(bs, size):\n",
        "  covid = DataBlock(\n",
        "    blocks = (ImageBlock, CategoryBlock),\n",
        "    get_items = get_image_files,\n",
        "    # splitter = RandomSplitter(valid_pct=0.2, seed=42),\n",
        "    get_y = parent_label,\n",
        "    item_tfms = Resize(460),\n",
        "    batch_tfms = [*aug_transforms(size=224, min_scale=0.75),\n",
        "                                Normalize.from_stats(*imagenet_stats)])\n",
        "  return covid.dataloaders(path, bs=bs)"
      ],
      "execution_count": 12,
      "outputs": []
    },
    {
      "cell_type": "code",
      "metadata": {
        "id": "1qF9p47TgyQ-"
      },
      "source": [
        "dls = get_dls(64, 224)"
      ],
      "execution_count": 13,
      "outputs": []
    },
    {
      "cell_type": "code",
      "metadata": {
        "colab": {
          "base_uri": "https://localhost:8080/"
        },
        "id": "JSdEGHotg8Ug",
        "outputId": "a3fe6157-48b2-4de9-9acb-241accd9e932"
      },
      "source": [
        "x,y = dls.one_batch()\n",
        "x.mean(dim=[0,2,3]),x.std(dim=[0,2,3])"
      ],
      "execution_count": 14,
      "outputs": [
        {
          "output_type": "execute_result",
          "data": {
            "text/plain": [
              "(TensorImage([0.6039, 0.7447, 0.9632], device='cuda:0'),\n",
              " TensorImage([1.3961, 1.4277, 1.4208], device='cuda:0'))"
            ]
          },
          "metadata": {
            "tags": []
          },
          "execution_count": 14
        }
      ]
    },
    {
      "cell_type": "code",
      "metadata": {
        "colab": {
          "base_uri": "https://localhost:8080/",
          "height": 204
        },
        "id": "S9RMG4YlhfUs",
        "outputId": "4994fbe7-b8a9-4011-bbca-274eb39d14e1"
      },
      "source": [
        "model = xresnet50()\n",
        "learn = Learner(dls, model, loss_func=CrossEntropyLossFlat(), metrics=accuracy)\n",
        "learn.fit_one_cycle(5, 3e-3)"
      ],
      "execution_count": 15,
      "outputs": [
        {
          "output_type": "display_data",
          "data": {
            "text/html": [
              "<table border=\"1\" class=\"dataframe\">\n",
              "  <thead>\n",
              "    <tr style=\"text-align: left;\">\n",
              "      <th>epoch</th>\n",
              "      <th>train_loss</th>\n",
              "      <th>valid_loss</th>\n",
              "      <th>accuracy</th>\n",
              "      <th>time</th>\n",
              "    </tr>\n",
              "  </thead>\n",
              "  <tbody>\n",
              "    <tr>\n",
              "      <td>0</td>\n",
              "      <td>6.013574</td>\n",
              "      <td>4.409195</td>\n",
              "      <td>0.741935</td>\n",
              "      <td>00:09</td>\n",
              "    </tr>\n",
              "    <tr>\n",
              "      <td>1</td>\n",
              "      <td>3.451161</td>\n",
              "      <td>1.807554</td>\n",
              "      <td>0.741935</td>\n",
              "      <td>00:06</td>\n",
              "    </tr>\n",
              "    <tr>\n",
              "      <td>2</td>\n",
              "      <td>2.387230</td>\n",
              "      <td>1.114708</td>\n",
              "      <td>0.741935</td>\n",
              "      <td>00:06</td>\n",
              "    </tr>\n",
              "    <tr>\n",
              "      <td>3</td>\n",
              "      <td>1.836942</td>\n",
              "      <td>0.830640</td>\n",
              "      <td>0.763441</td>\n",
              "      <td>00:06</td>\n",
              "    </tr>\n",
              "    <tr>\n",
              "      <td>4</td>\n",
              "      <td>1.499126</td>\n",
              "      <td>0.597587</td>\n",
              "      <td>0.741935</td>\n",
              "      <td>00:06</td>\n",
              "    </tr>\n",
              "  </tbody>\n",
              "</table>"
            ],
            "text/plain": [
              "<IPython.core.display.HTML object>"
            ]
          },
          "metadata": {
            "tags": []
          }
        }
      ]
    },
    {
      "cell_type": "markdown",
      "metadata": {
        "id": "u32O01Pejh3k"
      },
      "source": [
        "<h2>Progressive Resizing</h2>\n",
        "\n"
      ]
    },
    {
      "cell_type": "code",
      "metadata": {
        "id": "ZidhHUIxjmGD"
      },
      "source": [
        "# dls = get_dls(128, 128)\n",
        "# learn = Learner(dls, xresnet50(), loss_func=CrossEntropyLossFlat(), metrics=accuracy)\n",
        "# learn.fit_one_cycle(4, 3e-3)"
      ],
      "execution_count": 16,
      "outputs": []
    },
    {
      "cell_type": "code",
      "metadata": {
        "id": "UguvHX7Apq_n"
      },
      "source": [
        "# learn.dls = get_dls(64, 224)\n",
        "# learn.fine_tune(5, 5e-3)"
      ],
      "execution_count": 17,
      "outputs": []
    },
    {
      "cell_type": "markdown",
      "metadata": {
        "id": "bvDkRB4_s0wz"
      },
      "source": [
        "<h2>Test-Time Augumentation</h2>"
      ]
    },
    {
      "cell_type": "code",
      "metadata": {
        "colab": {
          "base_uri": "https://localhost:8080/",
          "height": 54
        },
        "id": "yAR9u5YMs5ko",
        "outputId": "00da85f5-a115-4c44-fd13-aa6692bcce99"
      },
      "source": [
        "preds, targs = learn.tta()\n",
        "accuracy(preds, targs).item()"
      ],
      "execution_count": 42,
      "outputs": [
        {
          "output_type": "display_data",
          "data": {
            "text/html": [
              "\n",
              "    <div>\n",
              "        <style>\n",
              "            /* Turns off some styling */\n",
              "            progress {\n",
              "                /* gets rid of default border in Firefox and Opera. */\n",
              "                border: none;\n",
              "                /* Needs to be in here for Safari polyfill so background images work as expected. */\n",
              "                background-size: auto;\n",
              "            }\n",
              "            .progress-bar-interrupted, .progress-bar-interrupted::-webkit-progress-bar {\n",
              "                background: #F44336;\n",
              "            }\n",
              "        </style>\n",
              "      <progress value='0' class='' max='10' style='width:300px; height:20px; vertical-align: middle;'></progress>\n",
              "      \n",
              "    </div>\n",
              "    \n"
            ],
            "text/plain": [
              "<IPython.core.display.HTML object>"
            ]
          },
          "metadata": {
            "tags": []
          }
        },
        {
          "output_type": "display_data",
          "data": {
            "text/html": [
              ""
            ],
            "text/plain": [
              "<IPython.core.display.HTML object>"
            ]
          },
          "metadata": {
            "tags": []
          }
        },
        {
          "output_type": "execute_result",
          "data": {
            "text/plain": [
              "0.7956989407539368"
            ]
          },
          "metadata": {
            "tags": []
          },
          "execution_count": 42
        }
      ]
    },
    {
      "cell_type": "markdown",
      "metadata": {
        "id": "CWnKh3rwvkns"
      },
      "source": [
        "<h2>Label Smoothing</h2>"
      ]
    },
    {
      "cell_type": "code",
      "metadata": {
        "colab": {
          "base_uri": "https://localhost:8080/",
          "height": 204
        },
        "id": "pv3yjBPovppM",
        "outputId": "45b820aa-2f20-45e2-ab98-4826d22fd1ed"
      },
      "source": [
        "model = xresnet50()\n",
        "learn = Learner(dls, model, loss_func=LabelSmoothingCrossEntropyFlat(), metrics=accuracy)\n",
        "learn.fit_one_cycle(5, 3e-3)"
      ],
      "execution_count": 43,
      "outputs": [
        {
          "output_type": "display_data",
          "data": {
            "text/html": [
              "<table border=\"1\" class=\"dataframe\">\n",
              "  <thead>\n",
              "    <tr style=\"text-align: left;\">\n",
              "      <th>epoch</th>\n",
              "      <th>train_loss</th>\n",
              "      <th>valid_loss</th>\n",
              "      <th>accuracy</th>\n",
              "      <th>time</th>\n",
              "    </tr>\n",
              "  </thead>\n",
              "  <tbody>\n",
              "    <tr>\n",
              "      <td>0</td>\n",
              "      <td>5.472291</td>\n",
              "      <td>4.273188</td>\n",
              "      <td>0.419355</td>\n",
              "      <td>00:06</td>\n",
              "    </tr>\n",
              "    <tr>\n",
              "      <td>1</td>\n",
              "      <td>3.669651</td>\n",
              "      <td>4.790896</td>\n",
              "      <td>0.741935</td>\n",
              "      <td>00:06</td>\n",
              "    </tr>\n",
              "    <tr>\n",
              "      <td>2</td>\n",
              "      <td>2.980974</td>\n",
              "      <td>7.881727</td>\n",
              "      <td>0.623656</td>\n",
              "      <td>00:06</td>\n",
              "    </tr>\n",
              "    <tr>\n",
              "      <td>3</td>\n",
              "      <td>2.612469</td>\n",
              "      <td>5.846934</td>\n",
              "      <td>0.537634</td>\n",
              "      <td>00:06</td>\n",
              "    </tr>\n",
              "    <tr>\n",
              "      <td>4</td>\n",
              "      <td>2.363651</td>\n",
              "      <td>2.226375</td>\n",
              "      <td>0.741935</td>\n",
              "      <td>00:06</td>\n",
              "    </tr>\n",
              "  </tbody>\n",
              "</table>"
            ],
            "text/plain": [
              "<IPython.core.display.HTML object>"
            ]
          },
          "metadata": {
            "tags": []
          }
        }
      ]
    },
    {
      "cell_type": "code",
      "metadata": {
        "colab": {
          "base_uri": "https://localhost:8080/",
          "height": 370
        },
        "id": "GFms0JQ4EUF-",
        "outputId": "75332272-ae21-4d67-962c-cbc6429ea3d7"
      },
      "source": [
        "dls.show_batch(max_n=8, nrows=2)"
      ],
      "execution_count": 18,
      "outputs": [
        {
          "output_type": "display_data",
          "data": {
            "image/png": "[encoded data removed]",
            "text/plain": [
              "<Figure size 864x432 with 8 Axes>"
            ]
          },
          "metadata": {
            "tags": [],
            "needs_background": "light"
          }
        }
      ]
    },
    {
      "cell_type": "markdown",
      "metadata": {
        "id": "hyxRRiLJGQ-9"
      },
      "source": [
        "<h2>Train learner</h2>"
      ]
    },
    {
      "cell_type": "code",
      "metadata": {
        "colab": {
          "base_uri": "https://localhost:8080/",
          "height": 422
        },
        "id": "TO5Ym2kZGYB_",
        "outputId": "980d2cba-64b1-4ec8-83e9-ef0356f773f9"
      },
      "source": [
        "learn = cnn_learner(dls, resnet18, metrics=error_rate)\n",
        "learn.fine_tune(10)"
      ],
      "execution_count": 19,
      "outputs": [
        {
          "output_type": "display_data",
          "data": {
            "text/html": [
              "<table border=\"1\" class=\"dataframe\">\n",
              "  <thead>\n",
              "    <tr style=\"text-align: left;\">\n",
              "      <th>epoch</th>\n",
              "      <th>train_loss</th>\n",
              "      <th>valid_loss</th>\n",
              "      <th>error_rate</th>\n",
              "      <th>time</th>\n",
              "    </tr>\n",
              "  </thead>\n",
              "  <tbody>\n",
              "    <tr>\n",
              "      <td>0</td>\n",
              "      <td>1.334134</td>\n",
              "      <td>0.729737</td>\n",
              "      <td>0.344086</td>\n",
              "      <td>00:04</td>\n",
              "    </tr>\n",
              "  </tbody>\n",
              "</table>"
            ],
            "text/plain": [
              "<IPython.core.display.HTML object>"
            ]
          },
          "metadata": {
            "tags": []
          }
        },
        {
          "output_type": "display_data",
          "data": {
            "text/html": [
              "<table border=\"1\" class=\"dataframe\">\n",
              "  <thead>\n",
              "    <tr style=\"text-align: left;\">\n",
              "      <th>epoch</th>\n",
              "      <th>train_loss</th>\n",
              "      <th>valid_loss</th>\n",
              "      <th>error_rate</th>\n",
              "      <th>time</th>\n",
              "    </tr>\n",
              "  </thead>\n",
              "  <tbody>\n",
              "    <tr>\n",
              "      <td>0</td>\n",
              "      <td>0.952397</td>\n",
              "      <td>1.267365</td>\n",
              "      <td>0.548387</td>\n",
              "      <td>00:04</td>\n",
              "    </tr>\n",
              "    <tr>\n",
              "      <td>1</td>\n",
              "      <td>0.969773</td>\n",
              "      <td>1.207077</td>\n",
              "      <td>0.548387</td>\n",
              "      <td>00:04</td>\n",
              "    </tr>\n",
              "    <tr>\n",
              "      <td>2</td>\n",
              "      <td>0.911632</td>\n",
              "      <td>1.015747</td>\n",
              "      <td>0.397849</td>\n",
              "      <td>00:04</td>\n",
              "    </tr>\n",
              "    <tr>\n",
              "      <td>3</td>\n",
              "      <td>0.824475</td>\n",
              "      <td>1.057777</td>\n",
              "      <td>0.354839</td>\n",
              "      <td>00:04</td>\n",
              "    </tr>\n",
              "    <tr>\n",
              "      <td>4</td>\n",
              "      <td>0.773297</td>\n",
              "      <td>1.068132</td>\n",
              "      <td>0.376344</td>\n",
              "      <td>00:04</td>\n",
              "    </tr>\n",
              "    <tr>\n",
              "      <td>5</td>\n",
              "      <td>0.729707</td>\n",
              "      <td>0.911876</td>\n",
              "      <td>0.301075</td>\n",
              "      <td>00:04</td>\n",
              "    </tr>\n",
              "    <tr>\n",
              "      <td>6</td>\n",
              "      <td>0.663782</td>\n",
              "      <td>0.828521</td>\n",
              "      <td>0.311828</td>\n",
              "      <td>00:04</td>\n",
              "    </tr>\n",
              "    <tr>\n",
              "      <td>7</td>\n",
              "      <td>0.631708</td>\n",
              "      <td>0.776342</td>\n",
              "      <td>0.301075</td>\n",
              "      <td>00:04</td>\n",
              "    </tr>\n",
              "    <tr>\n",
              "      <td>8</td>\n",
              "      <td>0.578621</td>\n",
              "      <td>0.733080</td>\n",
              "      <td>0.290323</td>\n",
              "      <td>00:04</td>\n",
              "    </tr>\n",
              "    <tr>\n",
              "      <td>9</td>\n",
              "      <td>0.546969</td>\n",
              "      <td>0.719441</td>\n",
              "      <td>0.258065</td>\n",
              "      <td>00:04</td>\n",
              "    </tr>\n",
              "  </tbody>\n",
              "</table>"
            ],
            "text/plain": [
              "<IPython.core.display.HTML object>"
            ]
          },
          "metadata": {
            "tags": []
          }
        }
      ]
    },
    {
      "cell_type": "markdown",
      "metadata": {
        "id": "uneggKhQIgfK"
      },
      "source": [
        "<h2>Export learner</h2>"
      ]
    },
    {
      "cell_type": "code",
      "metadata": {
        "id": "bMuTkxyOIgDN"
      },
      "source": [
        "learn.export('covid_classifier.pkl')"
      ],
      "execution_count": 20,
      "outputs": []
    },
    {
      "cell_type": "code",
      "metadata": {
        "colab": {
          "base_uri": "https://localhost:8080/"
        },
        "id": "OZZbT2Z8JJ_4",
        "outputId": "b648688e-b49a-43a1-f88a-cdce56154b45"
      },
      "source": [
        "# Check if path exists\n",
        "path = Path()\n",
        "path.ls(file_exts='.pkl')"
      ],
      "execution_count": 21,
      "outputs": [
        {
          "output_type": "execute_result",
          "data": {
            "text/plain": [
              "(#1) [Path('covid_classifier.pkl')]"
            ]
          },
          "metadata": {
            "tags": []
          },
          "execution_count": 21
        }
      ]
    },
    {
      "cell_type": "code",
      "metadata": {
        "id": "u8bvhWsSJUFV"
      },
      "source": [
        "# Save covid_classifier.pkl on google drive\n",
        "# !cp /content/covid_classifier.pkl /content/drive/My\\ Drive/BIOINF/covid_classifier.pkl"
      ],
      "execution_count": 22,
      "outputs": []
    },
    {
      "cell_type": "markdown",
      "metadata": {
        "id": "11fFabQTJ9om"
      },
      "source": [
        "<h2>Import learner + inference</h2>"
      ]
    },
    {
      "cell_type": "code",
      "metadata": {
        "id": "6aZ9NbMjJw5M"
      },
      "source": [
        "# Uncomment line to copy learner from google drive\n",
        "# !cp /content/drive/My\\ Drive/BIOINF/covid_classifier.pkl ./ "
      ],
      "execution_count": 23,
      "outputs": []
    },
    {
      "cell_type": "code",
      "metadata": {
        "id": "gnrggmX9KW8M"
      },
      "source": [
        "inference = load_learner(path/'covid_classifier.pkl')"
      ],
      "execution_count": 24,
      "outputs": []
    },
    {
      "cell_type": "code",
      "metadata": {
        "id": "CSq4kYe6K9ii"
      },
      "source": [
        "# Save test image on google drive\n",
        "# !cp /content/Testbild.jpeg /content/drive/My\\ Drive/BIOINF/\n",
        "!cp /content/drive/My\\ Drive/BIOINF/Testbild.jpeg ./"
      ],
      "execution_count": 25,
      "outputs": []
    },
    {
      "cell_type": "code",
      "metadata": {
        "colab": {
          "base_uri": "https://localhost:8080/",
          "height": 113
        },
        "id": "rMvsJ5s2MOnq",
        "outputId": "649f9a2f-9e82-4e2f-9a3b-7465df7578f5"
      },
      "source": [
        "img = Image.open('Testbild.jpeg')\n",
        "img.to_thumb(128,128)"
      ],
      "execution_count": 26,
      "outputs": [
        {
          "output_type": "execute_result",
          "data": {
            "image/png": "[encoded data removed]",
            "text/plain": [
              "<PIL.Image.Image image mode=L size=128x96 at 0x7F2766370190>"
            ]
          },
          "metadata": {
            "tags": []
          },
          "execution_count": 26
        }
      ]
    },
    {
      "cell_type": "code",
      "metadata": {
        "id": "UKCdTuB9MyRp"
      },
      "source": [
        "# inference.predict('Testbild.jpeg')\n",
        "# inference.predict('Testbild_gesund.jpg')"
      ],
      "execution_count": 28,
      "outputs": []
    },
    {
      "cell_type": "code",
      "metadata": {
        "colab": {
          "base_uri": "https://localhost:8080/"
        },
        "id": "H4mPa0U0M7Xa",
        "outputId": "ee3b3157-ce99-474d-ade8-501b0da96306"
      },
      "source": [
        "inference.dls.vocab"
      ],
      "execution_count": 29,
      "outputs": [
        {
          "output_type": "execute_result",
          "data": {
            "text/plain": [
              "['covid', 'non_covid']"
            ]
          },
          "metadata": {
            "tags": []
          },
          "execution_count": 29
        }
      ]
    },
    {
      "cell_type": "markdown",
      "metadata": {
        "id": "J7Wg48oLPFbr"
      },
      "source": [
        "<h2>User Interface</h2>"
      ]
    },
    {
      "cell_type": "code",
      "metadata": {
        "id": "OgtIfJoDNhix"
      },
      "source": [
        "import ipywidgets as widgets"
      ],
      "execution_count": 31,
      "outputs": []
    },
    {
      "cell_type": "code",
      "metadata": {
        "colab": {
          "base_uri": "https://localhost:8080/",
          "height": 49,
          "referenced_widgets": [
            "8ebab554173743159d171b55c0cbcce7",
            "6f2eafaad8b74b2fa6148c46ea133e12",
            "6d7bb63e836c4a289cd1738850179749"
          ]
        },
        "id": "MCmm25BPPQA6",
        "outputId": "fc75a829-18cd-4ddc-b312-114f7ee36537"
      },
      "source": [
        "btn_upload = widgets.FileUpload()\n",
        "btn_upload"
      ],
      "execution_count": 32,
      "outputs": [
        {
          "output_type": "display_data",
          "data": {
            "application/vnd.jupyter.widget-view+json": {
              "model_id": "8ebab554173743159d171b55c0cbcce7",
              "version_minor": 0,
              "version_major": 2
            },
            "text/plain": [
              "FileUpload(value={}, description='Upload')"
            ]
          },
          "metadata": {
            "tags": []
          }
        }
      ]
    },
    {
      "cell_type": "code",
      "metadata": {
        "colab": {
          "base_uri": "https://localhost:8080/",
          "height": 113,
          "referenced_widgets": [
            "836adc2f164e41d680197a0d2e53d35a",
            "ae41374a4f3948f3bdf45b290334582e"
          ]
        },
        "id": "3NNH6xC1PVJb",
        "outputId": "7ab8f360-8bb9-43be-fe8d-37ed8175c491"
      },
      "source": [
        "out_pl = widgets.Output()\n",
        "out_pl.clear_output()\n",
        "with out_pl: display(img.to_thumb(128,128))\n",
        "out_pl"
      ],
      "execution_count": 33,
      "outputs": [
        {
          "output_type": "display_data",
          "data": {
            "application/vnd.jupyter.widget-view+json": {
              "model_id": "836adc2f164e41d680197a0d2e53d35a",
              "version_minor": 0,
              "version_major": 2
            },
            "text/plain": [
              "Output()"
            ]
          },
          "metadata": {
            "tags": []
          }
        }
      ]
    },
    {
      "cell_type": "code",
      "metadata": {
        "id": "B9u7cwMCPofg"
      },
      "source": [
        "img = PILImage.create(btn_upload.data[-1])"
      ],
      "execution_count": 36,
      "outputs": []
    },
    {
      "cell_type": "code",
      "metadata": {
        "colab": {
          "base_uri": "https://localhost:8080/",
          "height": 17
        },
        "id": "H_IH5vxnPxPx",
        "outputId": "c3887663-d57e-4697-8360-31f50d99e6c8"
      },
      "source": [
        "pred, pred_idx, probs = inference.predict(img)"
      ],
      "execution_count": 37,
      "outputs": [
        {
          "output_type": "display_data",
          "data": {
            "text/html": [
              ""
            ],
            "text/plain": [
              "<IPython.core.display.HTML object>"
            ]
          },
          "metadata": {
            "tags": []
          }
        }
      ]
    },
    {
      "cell_type": "code",
      "metadata": {
        "colab": {
          "base_uri": "https://localhost:8080/",
          "height": 49,
          "referenced_widgets": [
            "df9edd834c3b40eaa7709eb164d2f842",
            "36eb533e32054defb6ed44400fd969d7",
            "d776a96fe18f4e55952e670edcd4cd2b"
          ]
        },
        "id": "_NJdkCTbQGNz",
        "outputId": "a02384dc-ca53-4c64-e290-e752c053b9c3"
      },
      "source": [
        "lbl_pred = widgets.Label()\n",
        "lbl_pred.value = f'Prediction: {pred}; Probability: {probs[pred_idx]:.04f}'\n",
        "lbl_pred"
      ],
      "execution_count": 38,
      "outputs": [
        {
          "output_type": "display_data",
          "data": {
            "application/vnd.jupyter.widget-view+json": {
              "model_id": "df9edd834c3b40eaa7709eb164d2f842",
              "version_minor": 0,
              "version_major": 2
            },
            "text/plain": [
              "Label(value='Prediction: covid; Probability: 0.9529')"
            ]
          },
          "metadata": {
            "tags": []
          }
        }
      ]
    },
    {
      "cell_type": "code",
      "metadata": {
        "colab": {
          "base_uri": "https://localhost:8080/",
          "height": 49,
          "referenced_widgets": [
            "b1d8755a7c944f8686a497282bbd6ac4",
            "c237c112c9ac4875bf5f07898999d438",
            "6d3a84ad1b9f430987f56a76d95d6405"
          ]
        },
        "id": "Eu4IYEJ3QbD6",
        "outputId": "ef17a0c7-41b8-4e44-f4ea-b3e8211831a1"
      },
      "source": [
        "btn_run = widgets.Button(description='Classify Covid')\n",
        "btn_run"
      ],
      "execution_count": 39,
      "outputs": [
        {
          "output_type": "display_data",
          "data": {
            "application/vnd.jupyter.widget-view+json": {
              "model_id": "b1d8755a7c944f8686a497282bbd6ac4",
              "version_minor": 0,
              "version_major": 2
            },
            "text/plain": [
              "Button(description='Classify Covid', style=ButtonStyle())"
            ]
          },
          "metadata": {
            "tags": []
          }
        }
      ]
    },
    {
      "cell_type": "code",
      "metadata": {
        "id": "fvVXgqZuQ1Mi"
      },
      "source": [
        "def on_click_classify(change):\n",
        "  img = PILImage.create(btn_upload.data[-1])\n",
        "  out_pl.clear_output()\n",
        "  with out_pl: display(img.to_thumb(128,128))\n",
        "  pred, pred_idx, probs = inference.predict(img)\n",
        "  lbl_pred.value = f'Prediction: {pred}; Probability: {probs[pred_idx]:.04f}'\n",
        "\n",
        "btn_run.on_click(on_click_classify)"
      ],
      "execution_count": 40,
      "outputs": []
    },
    {
      "cell_type": "code",
      "metadata": {
        "colab": {
          "base_uri": "https://localhost:8080/",
          "height": 241,
          "referenced_widgets": [
            "98124ab0b0a64e2f819fe188f2eda68d",
            "78a17cd385b04ed8ba13016ae8772890",
            "80f37b7cf362479aac4ddc3721933100",
            "91ff7212f66a4747861d160770c5fb8b",
            "b1d8755a7c944f8686a497282bbd6ac4",
            "836adc2f164e41d680197a0d2e53d35a",
            "df9edd834c3b40eaa7709eb164d2f842",
            "ca8ccdf6c4da4791ac7ed32df03bc63b",
            "e75bbc82e665433bb2610bec256abaac",
            "c84d9ab1471a42ff994291a54d76ea66",
            "736f0d6f5cb945f89ce47a0105139bc7",
            "c237c112c9ac4875bf5f07898999d438",
            "6d3a84ad1b9f430987f56a76d95d6405",
            "36eb533e32054defb6ed44400fd969d7",
            "d776a96fe18f4e55952e670edcd4cd2b",
            "ae41374a4f3948f3bdf45b290334582e"
          ]
        },
        "id": "_TCxMjV3RXbq",
        "outputId": "741e4d50-4d96-4def-b0fb-6c6cd2be75b3"
      },
      "source": [
        "btn_upload = widgets.FileUpload()\n",
        "widgets.VBox([widgets.Label(\"Select lung CT:\"),\n",
        "             btn_upload, btn_run, out_pl, lbl_pred])"
      ],
      "execution_count": 41,
      "outputs": [
        {
          "output_type": "display_data",
          "data": {
            "application/vnd.jupyter.widget-view+json": {
              "model_id": "98124ab0b0a64e2f819fe188f2eda68d",
              "version_minor": 0,
              "version_major": 2
            },
            "text/plain": [
              "VBox(children=(Label(value='Select lung CT:'), FileUpload(value={}, description='Upload'), Button(description=…"
            ]
          },
          "metadata": {
            "tags": []
          }
        }
      ]
    },
    {
      "cell_type": "code",
      "metadata": {
        "id": "QpHKDYmRsWPK"
      },
      "source": [
        ""
      ],
      "execution_count": null,
      "outputs": []
    }
  ]
}