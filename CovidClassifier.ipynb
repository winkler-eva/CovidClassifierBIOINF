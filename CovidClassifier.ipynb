{
  "nbformat": 4,
  "nbformat_minor": 0,
  "metadata": {
    "colab": {
      "name": "CovidClassifier.ipynb",
      "provenance": [],
      "collapsed_sections": [],
      "mount_file_id": "1-EbQiqwtj5tkyCshX1LUBV8yGyyKNOFX",
      "authorship_tag": "ABX9TyOao9wKTJC2L21PuTWFpWL0",
      "include_colab_link": true
    },
    "kernelspec": {
      "name": "python3",
      "display_name": "Python 3"
    },
    "language_info": {
      "name": "python"
    },
    "accelerator": "GPU",
    "widgets": {
      "application/vnd.jupyter.widget-state+json": {
        "e3fb6dfd8bae4ae495402f76950a0767": {
          "model_module": "@jupyter-widgets/controls",
          "model_name": "FileUploadModel",
          "state": {
            "_view_name": "FileUploadView",
            "_counter": 1,
            "style": "IPY_MODEL_42704506015b49abaa870a7f1d647615",
            "_dom_classes": [],
            "description": "Upload",
            "multiple": false,
            "_model_name": "FileUploadModel",
            "data": [
              null
            ],
            "button_style": "",
            "_view_module": "@jupyter-widgets/controls",
            "_model_module_version": "1.5.0",
            "accept": "",
            "_view_count": null,
            "disabled": false,
            "_view_module_version": "1.5.0",
            "error": "",
            "description_tooltip": null,
            "metadata": [
              {
                "name": "Testbild.jpeg",
                "type": "image/jpeg",
                "size": 21779,
                "lastModified": 1617175672436
              }
            ],
            "_model_module": "@jupyter-widgets/controls",
            "layout": "IPY_MODEL_20a77a72176f476285c93426e2f899c0",
            "icon": "upload"
          }
        },
        "42704506015b49abaa870a7f1d647615": {
          "model_module": "@jupyter-widgets/controls",
          "model_name": "ButtonStyleModel",
          "state": {
            "_view_name": "StyleView",
            "_model_name": "ButtonStyleModel",
            "_view_module": "@jupyter-widgets/base",
            "_model_module_version": "1.5.0",
            "_view_count": null,
            "button_color": null,
            "font_weight": "",
            "_view_module_version": "1.2.0",
            "_model_module": "@jupyter-widgets/controls"
          }
        },
        "20a77a72176f476285c93426e2f899c0": {
          "model_module": "@jupyter-widgets/base",
          "model_name": "LayoutModel",
          "state": {
            "_view_name": "LayoutView",
            "grid_template_rows": null,
            "right": null,
            "justify_content": null,
            "_view_module": "@jupyter-widgets/base",
            "overflow": null,
            "_model_module_version": "1.2.0",
            "_view_count": null,
            "flex_flow": null,
            "width": null,
            "min_width": null,
            "border": null,
            "align_items": null,
            "bottom": null,
            "_model_module": "@jupyter-widgets/base",
            "top": null,
            "grid_column": null,
            "overflow_y": null,
            "overflow_x": null,
            "grid_auto_flow": null,
            "grid_area": null,
            "grid_template_columns": null,
            "flex": null,
            "_model_name": "LayoutModel",
            "justify_items": null,
            "grid_row": null,
            "max_height": null,
            "align_content": null,
            "visibility": null,
            "align_self": null,
            "height": null,
            "min_height": null,
            "padding": null,
            "grid_auto_rows": null,
            "grid_gap": null,
            "max_width": null,
            "order": null,
            "_view_module_version": "1.2.0",
            "grid_template_areas": null,
            "object_position": null,
            "object_fit": null,
            "grid_auto_columns": null,
            "margin": null,
            "display": null,
            "left": null
          }
        },
        "8651ec921c0a4fd993bc7a57426780e1": {
          "model_module": "@jupyter-widgets/output",
          "model_name": "OutputModel",
          "state": {
            "_view_name": "OutputView",
            "msg_id": "",
            "_dom_classes": [],
            "_model_name": "OutputModel",
            "outputs": [
              {
                "output_type": "display_data",
                "metadata": {
                  "tags": []
                },
                "image/png": "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\n",
                "text/plain": "<PIL.Image.Image image mode=RGB size=128x96 at 0x7F58D344C690>"
              }
            ],
            "_view_module": "@jupyter-widgets/output",
            "_model_module_version": "1.0.0",
            "_view_count": null,
            "_view_module_version": "1.0.0",
            "layout": "IPY_MODEL_cc50ca01df8b461fa7b9d8dd3f0c5019",
            "_model_module": "@jupyter-widgets/output"
          }
        },
        "cc50ca01df8b461fa7b9d8dd3f0c5019": {
          "model_module": "@jupyter-widgets/base",
          "model_name": "LayoutModel",
          "state": {
            "_view_name": "LayoutView",
            "grid_template_rows": null,
            "right": null,
            "justify_content": null,
            "_view_module": "@jupyter-widgets/base",
            "overflow": null,
            "_model_module_version": "1.2.0",
            "_view_count": null,
            "flex_flow": null,
            "width": null,
            "min_width": null,
            "border": null,
            "align_items": null,
            "bottom": null,
            "_model_module": "@jupyter-widgets/base",
            "top": null,
            "grid_column": null,
            "overflow_y": null,
            "overflow_x": null,
            "grid_auto_flow": null,
            "grid_area": null,
            "grid_template_columns": null,
            "flex": null,
            "_model_name": "LayoutModel",
            "justify_items": null,
            "grid_row": null,
            "max_height": null,
            "align_content": null,
            "visibility": null,
            "align_self": null,
            "height": null,
            "min_height": null,
            "padding": null,
            "grid_auto_rows": null,
            "grid_gap": null,
            "max_width": null,
            "order": null,
            "_view_module_version": "1.2.0",
            "grid_template_areas": null,
            "object_position": null,
            "object_fit": null,
            "grid_auto_columns": null,
            "margin": null,
            "display": null,
            "left": null
          }
        },
        "0c945dafbb374430a6b4e74110500f81": {
          "model_module": "@jupyter-widgets/controls",
          "model_name": "LabelModel",
          "state": {
            "_view_name": "LabelView",
            "style": "IPY_MODEL_830787c2bef74d709bb30dd0159f5d34",
            "_dom_classes": [],
            "description": "",
            "_model_name": "LabelModel",
            "placeholder": "​",
            "_view_module": "@jupyter-widgets/controls",
            "_model_module_version": "1.5.0",
            "value": "Prediction: covid; Probability: 0.9862",
            "_view_count": null,
            "_view_module_version": "1.5.0",
            "description_tooltip": null,
            "_model_module": "@jupyter-widgets/controls",
            "layout": "IPY_MODEL_697107ef20384a51a167697e4d7e9a7d"
          }
        },
        "830787c2bef74d709bb30dd0159f5d34": {
          "model_module": "@jupyter-widgets/controls",
          "model_name": "DescriptionStyleModel",
          "state": {
            "_view_name": "StyleView",
            "_model_name": "DescriptionStyleModel",
            "description_width": "",
            "_view_module": "@jupyter-widgets/base",
            "_model_module_version": "1.5.0",
            "_view_count": null,
            "_view_module_version": "1.2.0",
            "_model_module": "@jupyter-widgets/controls"
          }
        },
        "697107ef20384a51a167697e4d7e9a7d": {
          "model_module": "@jupyter-widgets/base",
          "model_name": "LayoutModel",
          "state": {
            "_view_name": "LayoutView",
            "grid_template_rows": null,
            "right": null,
            "justify_content": null,
            "_view_module": "@jupyter-widgets/base",
            "overflow": null,
            "_model_module_version": "1.2.0",
            "_view_count": null,
            "flex_flow": null,
            "width": null,
            "min_width": null,
            "border": null,
            "align_items": null,
            "bottom": null,
            "_model_module": "@jupyter-widgets/base",
            "top": null,
            "grid_column": null,
            "overflow_y": null,
            "overflow_x": null,
            "grid_auto_flow": null,
            "grid_area": null,
            "grid_template_columns": null,
            "flex": null,
            "_model_name": "LayoutModel",
            "justify_items": null,
            "grid_row": null,
            "max_height": null,
            "align_content": null,
            "visibility": null,
            "align_self": null,
            "height": null,
            "min_height": null,
            "padding": null,
            "grid_auto_rows": null,
            "grid_gap": null,
            "max_width": null,
            "order": null,
            "_view_module_version": "1.2.0",
            "grid_template_areas": null,
            "object_position": null,
            "object_fit": null,
            "grid_auto_columns": null,
            "margin": null,
            "display": null,
            "left": null
          }
        },
        "4af557ca56904c78b5bd84aef575cdaa": {
          "model_module": "@jupyter-widgets/controls",
          "model_name": "ButtonModel",
          "state": {
            "_view_name": "ButtonView",
            "style": "IPY_MODEL_cc080dc7c37a4c5bbbad5bed4d3db919",
            "_dom_classes": [],
            "description": "Classify Covid",
            "_model_name": "ButtonModel",
            "button_style": "",
            "_view_module": "@jupyter-widgets/controls",
            "_model_module_version": "1.5.0",
            "tooltip": "",
            "_view_count": null,
            "disabled": false,
            "_view_module_version": "1.5.0",
            "layout": "IPY_MODEL_1455ca98ff1a47a2857e1dca56d5ce30",
            "_model_module": "@jupyter-widgets/controls",
            "icon": ""
          }
        },
        "cc080dc7c37a4c5bbbad5bed4d3db919": {
          "model_module": "@jupyter-widgets/controls",
          "model_name": "ButtonStyleModel",
          "state": {
            "_view_name": "StyleView",
            "_model_name": "ButtonStyleModel",
            "_view_module": "@jupyter-widgets/base",
            "_model_module_version": "1.5.0",
            "_view_count": null,
            "button_color": null,
            "font_weight": "",
            "_view_module_version": "1.2.0",
            "_model_module": "@jupyter-widgets/controls"
          }
        },
        "1455ca98ff1a47a2857e1dca56d5ce30": {
          "model_module": "@jupyter-widgets/base",
          "model_name": "LayoutModel",
          "state": {
            "_view_name": "LayoutView",
            "grid_template_rows": null,
            "right": null,
            "justify_content": null,
            "_view_module": "@jupyter-widgets/base",
            "overflow": null,
            "_model_module_version": "1.2.0",
            "_view_count": null,
            "flex_flow": null,
            "width": null,
            "min_width": null,
            "border": null,
            "align_items": null,
            "bottom": null,
            "_model_module": "@jupyter-widgets/base",
            "top": null,
            "grid_column": null,
            "overflow_y": null,
            "overflow_x": null,
            "grid_auto_flow": null,
            "grid_area": null,
            "grid_template_columns": null,
            "flex": null,
            "_model_name": "LayoutModel",
            "justify_items": null,
            "grid_row": null,
            "max_height": null,
            "align_content": null,
            "visibility": null,
            "align_self": null,
            "height": null,
            "min_height": null,
            "padding": null,
            "grid_auto_rows": null,
            "grid_gap": null,
            "max_width": null,
            "order": null,
            "_view_module_version": "1.2.0",
            "grid_template_areas": null,
            "object_position": null,
            "object_fit": null,
            "grid_auto_columns": null,
            "margin": null,
            "display": null,
            "left": null
          }
        },
        "4cd03d700506428e91d25b3e2012f6f1": {
          "model_module": "@jupyter-widgets/controls",
          "model_name": "VBoxModel",
          "state": {
            "_view_name": "VBoxView",
            "_dom_classes": [],
            "_model_name": "VBoxModel",
            "_view_module": "@jupyter-widgets/controls",
            "_model_module_version": "1.5.0",
            "_view_count": null,
            "_view_module_version": "1.5.0",
            "box_style": "",
            "layout": "IPY_MODEL_6b548fd0d5c74be4aba63fff65ea23d2",
            "_model_module": "@jupyter-widgets/controls",
            "children": [
              "IPY_MODEL_5b0b31219e584a909337742b929e0375",
              "IPY_MODEL_aadeae410fb541e696babda15b1a20cd",
              "IPY_MODEL_4af557ca56904c78b5bd84aef575cdaa",
              "IPY_MODEL_8651ec921c0a4fd993bc7a57426780e1",
              "IPY_MODEL_0c945dafbb374430a6b4e74110500f81"
            ]
          }
        },
        "6b548fd0d5c74be4aba63fff65ea23d2": {
          "model_module": "@jupyter-widgets/base",
          "model_name": "LayoutModel",
          "state": {
            "_view_name": "LayoutView",
            "grid_template_rows": null,
            "right": null,
            "justify_content": null,
            "_view_module": "@jupyter-widgets/base",
            "overflow": null,
            "_model_module_version": "1.2.0",
            "_view_count": null,
            "flex_flow": null,
            "width": null,
            "min_width": null,
            "border": null,
            "align_items": null,
            "bottom": null,
            "_model_module": "@jupyter-widgets/base",
            "top": null,
            "grid_column": null,
            "overflow_y": null,
            "overflow_x": null,
            "grid_auto_flow": null,
            "grid_area": null,
            "grid_template_columns": null,
            "flex": null,
            "_model_name": "LayoutModel",
            "justify_items": null,
            "grid_row": null,
            "max_height": null,
            "align_content": null,
            "visibility": null,
            "align_self": null,
            "height": null,
            "min_height": null,
            "padding": null,
            "grid_auto_rows": null,
            "grid_gap": null,
            "max_width": null,
            "order": null,
            "_view_module_version": "1.2.0",
            "grid_template_areas": null,
            "object_position": null,
            "object_fit": null,
            "grid_auto_columns": null,
            "margin": null,
            "display": null,
            "left": null
          }
        },
        "5b0b31219e584a909337742b929e0375": {
          "model_module": "@jupyter-widgets/controls",
          "model_name": "LabelModel",
          "state": {
            "_view_name": "LabelView",
            "style": "IPY_MODEL_1afba454b6744bbe9ad5e332d37b1082",
            "_dom_classes": [],
            "description": "",
            "_model_name": "LabelModel",
            "placeholder": "​",
            "_view_module": "@jupyter-widgets/controls",
            "_model_module_version": "1.5.0",
            "value": "Select lung CT:",
            "_view_count": null,
            "_view_module_version": "1.5.0",
            "description_tooltip": null,
            "_model_module": "@jupyter-widgets/controls",
            "layout": "IPY_MODEL_7f089b07aa9c4aae8f8b58d176aa89e6"
          }
        },
        "aadeae410fb541e696babda15b1a20cd": {
          "model_module": "@jupyter-widgets/controls",
          "model_name": "FileUploadModel",
          "state": {
            "_view_name": "FileUploadView",
            "_counter": 5,
            "style": "IPY_MODEL_2d0d0f46b4b04bf08a19b28a9e2c556b",
            "_dom_classes": [],
            "description": "Upload",
            "multiple": false,
            "_model_name": "FileUploadModel",
            "data": [
              null
            ],
            "button_style": "",
            "_view_module": "@jupyter-widgets/controls",
            "_model_module_version": "1.5.0",
            "accept": "",
            "_view_count": null,
            "disabled": false,
            "_view_module_version": "1.5.0",
            "error": "",
            "description_tooltip": null,
            "metadata": [
              {
                "name": "Testbild.jpeg",
                "type": "image/jpeg",
                "size": 21779,
                "lastModified": 1617175672436
              }
            ],
            "_model_module": "@jupyter-widgets/controls",
            "layout": "IPY_MODEL_2783c91d13814b06968f7bb5d67f26cc",
            "icon": "upload"
          }
        },
        "1afba454b6744bbe9ad5e332d37b1082": {
          "model_module": "@jupyter-widgets/controls",
          "model_name": "DescriptionStyleModel",
          "state": {
            "_view_name": "StyleView",
            "_model_name": "DescriptionStyleModel",
            "description_width": "",
            "_view_module": "@jupyter-widgets/base",
            "_model_module_version": "1.5.0",
            "_view_count": null,
            "_view_module_version": "1.2.0",
            "_model_module": "@jupyter-widgets/controls"
          }
        },
        "7f089b07aa9c4aae8f8b58d176aa89e6": {
          "model_module": "@jupyter-widgets/base",
          "model_name": "LayoutModel",
          "state": {
            "_view_name": "LayoutView",
            "grid_template_rows": null,
            "right": null,
            "justify_content": null,
            "_view_module": "@jupyter-widgets/base",
            "overflow": null,
            "_model_module_version": "1.2.0",
            "_view_count": null,
            "flex_flow": null,
            "width": null,
            "min_width": null,
            "border": null,
            "align_items": null,
            "bottom": null,
            "_model_module": "@jupyter-widgets/base",
            "top": null,
            "grid_column": null,
            "overflow_y": null,
            "overflow_x": null,
            "grid_auto_flow": null,
            "grid_area": null,
            "grid_template_columns": null,
            "flex": null,
            "_model_name": "LayoutModel",
            "justify_items": null,
            "grid_row": null,
            "max_height": null,
            "align_content": null,
            "visibility": null,
            "align_self": null,
            "height": null,
            "min_height": null,
            "padding": null,
            "grid_auto_rows": null,
            "grid_gap": null,
            "max_width": null,
            "order": null,
            "_view_module_version": "1.2.0",
            "grid_template_areas": null,
            "object_position": null,
            "object_fit": null,
            "grid_auto_columns": null,
            "margin": null,
            "display": null,
            "left": null
          }
        },
        "2d0d0f46b4b04bf08a19b28a9e2c556b": {
          "model_module": "@jupyter-widgets/controls",
          "model_name": "ButtonStyleModel",
          "state": {
            "_view_name": "StyleView",
            "_model_name": "ButtonStyleModel",
            "_view_module": "@jupyter-widgets/base",
            "_model_module_version": "1.5.0",
            "_view_count": null,
            "button_color": null,
            "font_weight": "",
            "_view_module_version": "1.2.0",
            "_model_module": "@jupyter-widgets/controls"
          }
        },
        "2783c91d13814b06968f7bb5d67f26cc": {
          "model_module": "@jupyter-widgets/base",
          "model_name": "LayoutModel",
          "state": {
            "_view_name": "LayoutView",
            "grid_template_rows": null,
            "right": null,
            "justify_content": null,
            "_view_module": "@jupyter-widgets/base",
            "overflow": null,
            "_model_module_version": "1.2.0",
            "_view_count": null,
            "flex_flow": null,
            "width": null,
            "min_width": null,
            "border": null,
            "align_items": null,
            "bottom": null,
            "_model_module": "@jupyter-widgets/base",
            "top": null,
            "grid_column": null,
            "overflow_y": null,
            "overflow_x": null,
            "grid_auto_flow": null,
            "grid_area": null,
            "grid_template_columns": null,
            "flex": null,
            "_model_name": "LayoutModel",
            "justify_items": null,
            "grid_row": null,
            "max_height": null,
            "align_content": null,
            "visibility": null,
            "align_self": null,
            "height": null,
            "min_height": null,
            "padding": null,
            "grid_auto_rows": null,
            "grid_gap": null,
            "max_width": null,
            "order": null,
            "_view_module_version": "1.2.0",
            "grid_template_areas": null,
            "object_position": null,
            "object_fit": null,
            "grid_auto_columns": null,
            "margin": null,
            "display": null,
            "left": null
          }
        }
      }
    }
  },
  "cells": [
    {
      "cell_type": "markdown",
      "metadata": {
        "id": "view-in-github",
        "colab_type": "text"
      },
      "source": [
        "<a href=\"https://colab.research.google.com/github/winkler-eva/CovidClassifierBIOINF/blob/main/CovidClassifier.ipynb\" target=\"_parent\"><img src=\"https://colab.research.google.com/assets/colab-badge.svg\" alt=\"Open In Colab\"/></a>"
      ]
    },
    {
      "cell_type": "markdown",
      "metadata": {
        "id": "PP_JAqBkz2Uy"
      },
      "source": [
        "<h1><strong>Covid-Classifier</strong></h1>"
      ]
    },
    {
      "cell_type": "code",
      "metadata": {
        "colab": {
          "base_uri": "https://localhost:8080/"
        },
        "id": "z9q_Qqv_zq1o",
        "outputId": "d460f356-09ae-4e73-8b5b-8309138faf32"
      },
      "source": [
        "!pip install fastai --upgrade -q"
      ],
      "execution_count": 1,
      "outputs": [
        {
          "output_type": "stream",
          "text": [
            "\u001b[K     |████████████████████████████████| 194kB 10.6MB/s \n",
            "\u001b[K     |████████████████████████████████| 776.8MB 25kB/s \n",
            "\u001b[K     |████████████████████████████████| 61kB 6.3MB/s \n",
            "\u001b[K     |████████████████████████████████| 12.8MB 249kB/s \n",
            "\u001b[31mERROR: torchtext 0.9.1 has requirement torch==1.8.1, but you'll have torch 1.7.1 which is incompatible.\u001b[0m\n",
            "\u001b[?25h"
          ],
          "name": "stdout"
        }
      ]
    },
    {
      "cell_type": "code",
      "metadata": {
        "colab": {
          "base_uri": "https://localhost:8080/"
        },
        "id": "UhLeeuKp0Hum",
        "outputId": "62c615bc-8754-4705-f9d5-f71f48e6b65a"
      },
      "source": [
        "import fastai\n",
        "print(fastai.__version__)"
      ],
      "execution_count": 2,
      "outputs": [
        {
          "output_type": "stream",
          "text": [
            "2.3.0\n"
          ],
          "name": "stdout"
        }
      ]
    },
    {
      "cell_type": "code",
      "metadata": {
        "id": "yQ9k_Avm0qzW"
      },
      "source": [
        "import os\n",
        "from fastai.vision.all import *"
      ],
      "execution_count": 3,
      "outputs": []
    },
    {
      "cell_type": "markdown",
      "metadata": {
        "id": "2xV7rWhL00An"
      },
      "source": [
        "<h2>Save images permanently in google drive</h2>"
      ]
    },
    {
      "cell_type": "code",
      "metadata": {
        "colab": {
          "base_uri": "https://localhost:8080/"
        },
        "id": "w5HypWVa0vKg",
        "outputId": "a5c3cd36-c596-4fea-e371-493003a425f2"
      },
      "source": [
        "# data was downloaded from the website kaggle.com\n",
        "!tar -czvf covid_images.tar.gz covid_data"
      ],
      "execution_count": null,
      "outputs": [
        {
          "output_type": "stream",
          "text": [
            "covid_data/\n",
            "covid_data/.ipynb_checkpoints/\n",
            "covid_data/covid/\n",
            "covid_data/covid/Talaromyces-marneffei-infection-relapse-presenting-as-ost_2020_International-p1-12%3.png\n",
            "covid_data/covid/2020.03.25.20037721-p27-173.png\n",
            "covid_data/covid/2020.03.04.20031039-p23-97_2%1.png\n",
            "covid_data/covid/PIIS0140673620303603%8.png\n",
            "covid_data/covid/2020.03.12.20034686-p17-91-1.png\n",
            "covid_data/covid/2020.02.25.20021568-p24-111%5.png\n",
            "covid_data/covid/2020.03.30.20047985-p9-56%2.png\n",
            "covid_data/covid/2020.03.20.20037325-p23-121.png\n",
            "covid_data/covid/2020.02.23.20026856-p17-115%2.png\n",
            "covid_data/covid/2020.03.18.20038125-p15-54-2.png\n",
            "covid_data/covid/2020.02.17.20024018-p17-61%0.png\n",
            "covid_data/covid/2020.02.11.20022053-p12-67%3.png\n",
            "covid_data/covid/2020.03.04.20031047-p13-84%2.png\n",
            "covid_data/covid/bmj.m606.full-p4-22%4.png\n",
            "covid_data/covid/2020.02.10.20021584-p6-52%6.png\n",
            "covid_data/covid/2020.02.22.20024927-p20-70%3.png\n",
            "covid_data/covid/2020.03.12.20034686-p17-91-5.png\n",
            "covid_data/covid/2020.02.22.20024927-p19-68%3.png\n",
            "covid_data/covid/2020.03.26.20041426-p11-120.png\n",
            "covid_data/covid/2020.02.25.20021568-p24-111%2.png\n",
            "covid_data/covid/2020.02.25.20021568-p23-108%2.png\n",
            "covid_data/covid/2020.02.25.20021568-p23-108%0.png\n",
            "covid_data/covid/2020.03.10.20032136-p34-118_2%0.png\n",
            "covid_data/covid/2020.03.22.20040782-p25-1545.png\n",
            "covid_data/covid/2020.03.26.20041426-p11-121.png\n",
            "covid_data/covid/kjr-21-e25-p1-8.png\n",
            "covid_data/covid/Comparison-of-different-samples-for-2019-novel-cor_2020_International-Journa-p2-21%7.png\n",
            "covid_data/covid/2020.03.04.20030395-p27-108%3.png\n",
            "covid_data/covid/2020.03.12.20034686-p17-91-2.png\n",
            "covid_data/covid/2020.03.13.20035212-p23-154.png\n",
            "covid_data/covid/impact_of_covid19_infection_on_pregnancy_outcomes_and_the_risk_of_maternaltoneonatal_intrapartum_transmission_of_covid19_during_natural_birth-p8-41%1.png\n",
            "covid_data/covid/2020.03.10.20032136-p34-118_1%1.png\n",
            "covid_data/covid/2020.03.26.20041426-p11-127.png\n",
            "covid_data/covid/2020.03.21.20040691-p18-67-8.png\n",
            "covid_data/covid/bmj.m606.full-p4-22%2.png\n",
            "covid_data/covid/2020.02.10.20021584-p6-52%8.png\n",
            "covid_data/covid/2020.03.08.20031658-p15-106.png\n",
            "covid_data/covid/2020.03.01.20029769-p21-73_4.png\n",
            "covid_data/covid/2020.02.25.20021568-p23-108%15.png\n",
            "covid_data/covid/2020.03.22.20034041-p18-92-2.png\n",
            "covid_data/covid/2020.02.22.20024927-p20-70%0.png\n",
            "covid_data/covid/2020.03.04.20026005-p12-1946%2.png\n",
            "covid_data/covid/2020.03.25.20037721-p27-172.png\n",
            "covid_data/covid/2020.02.28.20029025-p23-183.png\n",
            "covid_data/covid/2020.03.22.20034041-p18-92-3.png\n",
            "covid_data/covid/bmj.m606.full-p4-22%0.png\n",
            "covid_data/covid/2020.02.22.20024927-p18-66%1.png\n",
            "covid_data/covid/2020.03.04.20031047-p12-81%3.png\n",
            "covid_data/covid/2020.03.26.20041426-p11-125.png\n",
            "covid_data/covid/2020.03.04.20031039-p23-97_2%0.png\n",
            "covid_data/covid/2020.02.22.20024927-p19-68%2.png\n",
            "covid_data/covid/2020.02.24.20027052-p8-73%2.png\n",
            "covid_data/covid/bmj.m606.full-p4-22%1.png\n",
            "covid_data/covid/2020.03.16.20035105-p6-64-1.png\n",
            "covid_data/covid/PIIS0140673620303603%6.png\n",
            "covid_data/covid/2020.03.30.20047985-p9-56%3.png\n",
            "covid_data/covid/2020.02.10.20021584-p6-52%11.png\n",
            "covid_data/covid/Ni2020_Article_CombinationOfWesternMedicineAn-p3-10%0.png\n",
            "covid_data/covid/2020.03.03.20030775-p10-88%0.png\n",
            "covid_data/covid/2020.03.04.20026005-p12-1946%3.png\n",
            "covid_data/covid/2020.02.25.20021568-p23-108%9.png\n",
            "covid_data/covid/2020.02.10.20021584-p6-52%14.png\n",
            "covid_data/covid/2020.03.22.20040782-p25-1544.png\n",
            "covid_data/covid/2020.03.10.20032136-p34-118_2%1.png\n",
            "covid_data/covid/2020.02.26.20027938-p6-80_1%0.png\n",
            "covid_data/covid/2020.03.01.20029769-p21-73_1%1.png\n",
            "covid_data/covid/2020.03.12.20034686-p17-91-4.png\n",
            "covid_data/covid/2020.03.19.20038539-p10-61.png\n",
            "covid_data/covid/2020.03.04.20031047-p13-84%3.png\n",
            "covid_data/covid/2020.03.22.20034041-p17-80-1.png\n",
            "covid_data/covid/2020.02.13.20022673-p13-77%0.png\n",
            "covid_data/covid/impact_of_covid19_infection_on_pregnancy_outcomes_and_the_risk_of_maternaltoneonatal_intrapartum_transmission_of_covid19_during_natural_birth-p8-41%3.png\n",
            "covid_data/covid/2020.02.10.20021584-p6-52%4.png\n",
            "covid_data/covid/Talaromyces-marneffei-infection-relapse-presenting-as-ost_2020_International-p1-12%2.png\n",
            "covid_data/covid/2020.03.01.20029769-p21-73_2%0.png\n",
            "covid_data/covid/2020.03.22.20040782-p25-1543.png\n",
            "covid_data/covid/2020.03.11.20033159-p12-45%1.png\n",
            "covid_data/covid/2020.03.25.20043166-p17-78.png\n",
            "covid_data/covid/PIIS0140673620303603%5.png\n",
            "covid_data/covid/2020.02.27.20027557-p25-137%1.png\n",
            "covid_data/covid/2020.02.10.20021584-p6-52%0.png\n",
            "covid_data/covid/2020.02.22.20024927-p19-68%1.png\n",
            "covid_data/covid/2020.02.22.20024927-p20-70%1.png\n",
            "covid_data/covid/2020.02.17.20024018-p17-61%4.png\n",
            "covid_data/covid/2020.02.10.20021584-p6-52%5.png\n",
            "covid_data/covid/2020.02.10.20021584-p6-52%1.png\n",
            "covid_data/covid/2020.02.25.20021568-p23-108%6.png\n",
            "covid_data/covid/2020.03.16.20035105-p6-64-4.png\n",
            "covid_data/covid/2020.03.04.20030395-p27-108%6.png\n",
            "covid_data/covid/kjr-21-e24-p2-8.png\n",
            "covid_data/covid/2020.02.26.20027938-p6-80_2%1.png\n",
            "covid_data/covid/2020.02.17.20024018-p17-61%1.png\n",
            "covid_data/covid/2020.02.25.20021568-p23-108%8.png\n",
            "covid_data/covid/2020.03.04.20026005-p12-1946%1.png\n",
            "covid_data/covid/2020.03.21.20040691-p18-67-2.png\n",
            "covid_data/covid/2020.03.16.20036145-p19-128-1.png\n",
            "covid_data/covid/2020.03.13.20035212-p23-159.png\n",
            "covid_data/covid/2020.03.12.20027185-p8-217.png\n",
            "covid_data/covid/2020.03.13.20035212-p23-160.png\n",
            "covid_data/covid/2020.02.10.20021584-p6-52%13.png\n",
            "covid_data/covid/2020.02.10.20021584-p6-52%7.png\n",
            "covid_data/covid/2020.03.01.20029769-p21-73_3.png\n",
            "covid_data/covid/2020.03.16.20035105-p6-64-3.png\n",
            "covid_data/covid/2020.01.24.919183-p27-133.png\n",
            "covid_data/covid/2019-novel-Coronavirus-severe-adult-respiratory-dist_2020_International-Jour-p3-91.png\n",
            "covid_data/covid/2020.02.24.20027052-p8-73%3.png\n",
            "covid_data/covid/Comparison-of-different-samples-for-2019-novel-cor_2020_International-Journa-p2-21%2.png\n",
            "covid_data/covid/2020.03.22.20040782-p24-1533-1.png\n",
            "covid_data/covid/Comparison-of-different-samples-for-2019-novel-cor_2020_International-Journa-p2-21%9.png\n",
            "covid_data/covid/PIIS0140673620303603%0.png\n",
            "covid_data/covid/2020.03.01.20029769-p21-73_2%2.png\n",
            "covid_data/covid/kjr-21-e25-p1-6.png\n",
            "covid_data/covid/impact_of_covid19_infection_on_pregnancy_outcomes_and_the_risk_of_maternaltoneonatal_intrapartum_transmission_of_covid19_during_natural_birth-p8-41%5.png\n",
            "covid_data/covid/2020.03.04.20031039-p23-97_1%0.png\n",
            "covid_data/covid/2020.03.04.20031047-p12-81%2.png\n",
            "covid_data/covid/kjr-21-e25-p1-10.png\n",
            "covid_data/covid/2020.03.20.20037325-p23-123.png\n",
            "covid_data/covid/2020.02.27.20027557-p25-137%0.png\n",
            "covid_data/covid/2020.03.20.20037325-p23-124.png\n",
            "covid_data/covid/2020.02.25.20021568-p24-111%8.png\n",
            "covid_data/covid/ehaa254-p0-63%3.png\n",
            "covid_data/covid/2020.03.12.20027185-p8-216.png\n",
            "covid_data/covid/2020.03.22.20040782-p24-1533-6.png\n",
            "covid_data/covid/kjr-21-e24-p3-16.png\n",
            "covid_data/covid/2020.02.24.20027052-p8-73%0.png\n",
            "covid_data/covid/2020.03.01.20029769-p21-73_2%1.png\n",
            "covid_data/covid/2020.03.03.20030775-p11-91.png\n",
            "covid_data/covid/2020.03.04.20026005-p12-1946%0.png\n",
            "covid_data/covid/2020.03.04.20026005-p12-1946%4.png\n",
            "covid_data/covid/2020.03.04.20031047-p14-87%0.png\n",
            "covid_data/covid/2020.03.04.20031039-p23-97_2%2.png\n",
            "covid_data/covid/2020.03.21.20040691-p18-67-5.png\n",
            "covid_data/covid/2020.03.22.20034041-p17-80-2.png\n",
            "covid_data/covid/PIIS0140673620303603%2.png\n",
            "covid_data/covid/2020.03.26.20041426-p11-130.png\n",
            "covid_data/covid/PIIS0140673620303603%1.png\n",
            "covid_data/covid/Recurrence-of-positive-SARS-CoV-2-RNA-in-C_2020_International-Journal-of-Inf-p1-21%1.png\n",
            "covid_data/covid/2020.02.10.20021584-p6-52%12.png\n",
            "covid_data/covid/PIIS0140673620303603%4.png\n",
            "covid_data/covid/2020.02.23.20026856-p17-115%5.png\n",
            "covid_data/covid/2020.03.13.20035212-p23-156.png\n",
            "covid_data/covid/2020.03.16.20036145-p19-128-2.png\n",
            "covid_data/covid/2020.02.25.20021568-p23-108%11.png\n",
            "covid_data/covid/PIIS0140673620302117_2.png\n",
            "covid_data/covid/2020.03.22.20040782-p24-1533-8.png\n",
            "covid_data/covid/2020.03.03.20030775-p12-93%1.png\n",
            "covid_data/covid/2020.03.22.20040782-p25-1541.png\n",
            "covid_data/covid/Ni2020_Article_CombinationOfWesternMedicineAn-p4-13%0.png\n",
            "covid_data/covid/PIIS0140673620301549_2.png\n",
            "covid_data/covid/2020.03.04.20030395-p27-108%7.png\n",
            "covid_data/covid/2020.03.26.20041426-p11-131.png\n",
            "covid_data/covid/2020.03.04.20030395-p27-108%4.png\n",
            "covid_data/covid/2020.03.18.20038125-p16-56-6.png\n",
            "covid_data/covid/2020.02.25.20021568-p24-111%4.png\n",
            "covid_data/covid/2020.02.26.20026989-p34-114_1%1.png\n",
            "covid_data/covid/2020.02.11.20022053-p12-67%2.png\n",
            "covid_data/covid/2020.02.24.20027052-p8-73%1.png\n",
            "covid_data/covid/2020.03.03.20030353-p17-106%2.png\n",
            "covid_data/covid/2020.03.19.20038539-p10-58.png\n",
            "covid_data/covid/2020.03.04.20030395-p27-108%0.png\n",
            "covid_data/covid/2020.03.04.20031039-p23-97_1%2.png\n",
            "covid_data/covid/2020.02.11.20021493-p16-109%0.png\n",
            "covid_data/covid/2020.03.25.20037721-p27-181.png\n",
            "covid_data/covid/PIIS0140673620301549_0%1.png\n",
            "covid_data/covid/2020.02.25.20021568-p23-108%10.png\n",
            "covid_data/covid/2020.02.13.20022673-p13-77%2.png\n",
            "covid_data/covid/2020.03.30.20047985-p9-56%0.png\n",
            "covid_data/covid/2020.02.26.20026989-p34-114_2%1.png\n",
            "covid_data/covid/2020.02.25.20021568-p24-111%0.png\n",
            "covid_data/covid/2020.03.12.20027185-p8-218.png\n",
            "covid_data/covid/2020.02.22.20024927-p19-68%4.png\n",
            "covid_data/covid/2020.02.11.20022053-p12-67%0.png\n",
            "covid_data/covid/2020.03.07.20031393-p7-50%1.png\n",
            "covid_data/covid/2020.02.19.20025023-p20-93%2.png\n",
            "covid_data/covid/2020.03.07.20031393-p7-50%2.png\n",
            "covid_data/covid/2020.02.10.20021584-p6-52%3.png\n",
            "covid_data/covid/2020.03.26.20041426-p11-124.png\n",
            "covid_data/covid/2020.02.22.20024927-p19-68%5.png\n",
            "covid_data/covid/Comparison-of-different-samples-for-2019-novel-cor_2020_International-Journa-p2-21%8.png\n",
            "covid_data/covid/2020.02.24.20027201-p19-670.png\n",
            "covid_data/covid/2020.03.08.20031658-p15-103.png\n",
            "covid_data/covid/2020.03.03.20030353-p17-106%1.png\n",
            "covid_data/covid/Recurrence-of-positive-SARS-CoV-2-RNA-in-C_2020_International-Journal-of-Inf-p1-21%0.png\n",
            "covid_data/covid/2020.03.21.20040691-p18-6-6.png\n",
            "covid_data/covid/kjr-21-e24-p5-29.png\n",
            "covid_data/covid/2020.03.01.20029769-p21-73_1%2.png\n",
            "covid_data/covid/2020.03.04.20031039-p23-97_1%1.png\n",
            "covid_data/covid/2020.03.03.20030775-p12-93%0.png\n",
            "covid_data/covid/2020.02.25.20021568-p23-108%3.png\n",
            "covid_data/covid/2020.03.16.20035105-p6-64-2.png\n",
            "covid_data/covid/2020.02.25.20021568-p24-111%7.png\n",
            "covid_data/covid/2020.03.04.20031047-p13-84%5.png\n",
            "covid_data/covid/2020.02.25.20027763-p15-53%1.png\n",
            "covid_data/covid/2020.02.26.20027938-p6-80_2%0.png\n",
            "covid_data/covid/2020.02.22.20024927-p19-68%0.png\n",
            "covid_data/covid/Comparison-of-different-samples-for-2019-novel-cor_2020_International-Journa-p2-21%4.png\n",
            "covid_data/covid/Comparison-of-different-samples-for-2019-novel-cor_2020_International-Journa-p2-21%0.png\n",
            "covid_data/covid/Comparison-of-different-samples-for-2019-novel-cor_2020_International-Journa-p2-21%11.png\n",
            "covid_data/covid/Talaromyces-marneffei-infection-relapse-presenting-as-ost_2020_International-p1-12%1.png\n",
            "covid_data/covid/2020.02.26.20026989-p34-114_1%0.png\n",
            "covid_data/covid/2020.03.19.20038539-p10-62.png\n",
            "covid_data/covid/2020.02.25.20021568-p23-108%14.png\n",
            "covid_data/covid/2020.03.08.20031658-p15-104.png\n",
            "covid_data/covid/PIIS0140673620303603%3.png\n",
            "covid_data/covid/2020.02.27.20027557-p25-137%4.png\n",
            "covid_data/covid/2020.03.20.20037325-p23-122.png\n",
            "covid_data/covid/2020.03.21.20040691-p18-67-1.png\n",
            "covid_data/covid/kjr-21-e25-p1-12.png\n",
            "covid_data/covid/2020.03.12.20034686-p17-91-3.png\n",
            "covid_data/covid/2020.03.01.20029769-p21-73_1%0.png\n",
            "covid_data/covid/2020.03.04.20031047-p14-87%1.png\n",
            "covid_data/covid/2020.03.22.20040782-p24-1533-7.png\n",
            "covid_data/covid/2020.02.10.20021584-p6-52%9.png\n",
            "covid_data/covid/2020.03.22.20034041-p18-92-1.png\n",
            "covid_data/covid/PIIS0140673620301549_0%0.png\n",
            "covid_data/covid/2020.03.18.20038125-p15-54-4.png\n",
            "covid_data/covid/2020.02.11.20022053-p12-67%1.png\n",
            "covid_data/covid/2020.01.24.919183-p27-134.png\n",
            "covid_data/covid/PIIS0140673620302117_1.png\n",
            "covid_data/covid/Talaromyces-marneffei-infection-relapse-presenting-as-ost_2020_International-p1-12%0.png\n",
            "covid_data/covid/2020.03.13.20035212-p23-152.png\n",
            "covid_data/covid/Comparison-of-different-samples-for-2019-novel-cor_2020_International-Journa-p2-21%3.png\n",
            "covid_data/covid/2020.02.28.20029025-p23-182.png\n",
            "covid_data/covid/2020.03.13.20035212-p23-161.png\n",
            "covid_data/covid/2020.03.13.20035212-p23-153.png\n",
            "covid_data/covid/bmj.m606.full-p4-22%3.png\n",
            "covid_data/covid/2020.03.04.20031047-p13-84%0.png\n",
            "covid_data/covid/2020.03.03.20030353-p17-106%0.png\n",
            "covid_data/covid/2020.02.24.20027201-p19-669.png\n",
            "covid_data/covid/2020.02.11.20021493-p16-109%1.png\n",
            "covid_data/covid/2020.02.25.20021568-p23-108%13.png\n",
            "covid_data/covid/Comparison-of-different-samples-for-2019-novel-cor_2020_International-Journa-p2-21%5.png\n",
            "covid_data/covid/2020.02.22.20024927-p18-66%0.png\n",
            "covid_data/covid/2020.03.26.20041426-p11-123.png\n",
            "covid_data/covid/2020.02.25.20021568-p24-111%6.png\n",
            "covid_data/covid/2020.02.23.20026856-p17-115%1.png\n",
            "covid_data/covid/2020.03.11.20033159-p12-45%2.png\n",
            "covid_data/covid/2020.02.22.20024927-p18-66%2.png\n",
            "covid_data/covid/bmj.m606.full-p4-22%7.png\n",
            "covid_data/covid/2020.03.10.20032136-p34-118_1%0.png\n",
            "covid_data/covid/2020.03.12.20034686-p17-91-6.png\n",
            "covid_data/covid/2019-novel-Coronavirus-severe-adult-respiratory-dist_2020_International-Jour-p3-89%1.png\n",
            "covid_data/covid/2020.03.11.20033159-p12-45%3.png\n",
            "covid_data/covid/2020.03.13.20035212-p23-163.png\n",
            "covid_data/covid/2020.03.04.20031047-p13-84%4.png\n",
            "covid_data/covid/2020.03.04.20030395-p27-108%1.png\n",
            "covid_data/covid/2020.03.25.20037721-p27-182.png\n",
            "covid_data/covid/2020.03.18.20038125-p16-56-1.png\n",
            "covid_data/covid/2020.02.11.20021493-p16-109%2.png\n",
            "covid_data/covid/2020.03.21.20040691-p18-67-7.png\n",
            "covid_data/covid/2020.02.25.20021568-p23-108%4.png\n",
            "covid_data/covid/2020.03.18.20038125-p16-56-4.png\n",
            "covid_data/covid/2020.03.18.20038125-p15-54-6.png\n",
            "covid_data/covid/bmj.m606.full-p4-22%5.png\n",
            "covid_data/covid/2020.03.22.20040782-p25-1546.png\n",
            "covid_data/covid/2020.03.22.20040782-p24-1533-3.png\n",
            "covid_data/covid/2020.02.19.20025023-p20-93%1.png\n",
            "covid_data/covid/ehaa254-p0-63%2.png\n",
            "covid_data/covid/2020.03.09.20033118-p20-93%3.png\n",
            "covid_data/covid/2020.03.30.20047985-p9-56%1.png\n",
            "covid_data/covid/2020.02.25.20021568-p23-108%5.png\n",
            "covid_data/covid/2020.03.25.20037721-p27-165.png\n",
            "covid_data/covid/2020.03.09.20033118-p20-93%1.png\n",
            "covid_data/covid/2020.03.04.20031047-p12-81%0.png\n",
            "covid_data/covid/2020.03.07.20031393-p7-50%0.png\n",
            "covid_data/covid/2020.03.25.20043166-p17-79.png\n",
            "covid_data/covid/2020.03.21.20040691-p18-67-4.png\n",
            "covid_data/covid/2020.03.19.20038539-p10-60.png\n",
            "covid_data/covid/kjr-21-e25-p1-14.png\n",
            "covid_data/covid/2020.03.22.20040782-p24-1533-4.png\n",
            "covid_data/covid/2020.03.13.20035212-p23-158.png\n",
            "covid_data/covid/2020.02.27.20027557-p25-137%3.png\n",
            "covid_data/covid/2020.02.25.20021568-p24-111%9.png\n",
            "covid_data/covid/2020.03.25.20043166-p17-81.png\n",
            "covid_data/covid/2020.03.26.20041426-p11-122.png\n",
            "covid_data/covid/2020.02.25.20021568-p23-108%7.png\n",
            "covid_data/covid/2020.02.25.20021568-p24-111%3.png\n",
            "covid_data/covid/2020.03.25.20043166-p17-80.png\n",
            "covid_data/covid/2020.03.07.20031393-p7-50%3.png\n",
            "covid_data/covid/2020.03.04.20030395-p27-108%8.png\n",
            "covid_data/covid/2020.02.17.20024018-p17-61%3.png\n",
            "covid_data/covid/2020.03.22.20040782-p24-1533-2.png\n",
            "covid_data/covid/2020.02.23.20026856-p17-115%3.png\n",
            "covid_data/covid/2020.03.26.20041426-p11-128.png\n",
            "covid_data/covid/2020.03.16.20036145-p19-128-3.png\n",
            "covid_data/covid/2020.03.22.20040782-p25-1542.png\n",
            "covid_data/covid/2020.02.10.20021584-p6-52%10.png\n",
            "covid_data/covid/Ni2020_Article_CombinationOfWesternMedicineAn-p3-10%1.png\n",
            "covid_data/covid/2020.03.09.20033118-p20-93%0.png\n",
            "covid_data/covid/2020.02.25.20021568-p23-108%1.png\n",
            "covid_data/covid/2020.03.03.20030775-p10-88%1.png\n",
            "covid_data/covid/2020.03.25.20037721-p27-174.png\n",
            "covid_data/covid/2019-novel-Coronavirus-severe-adult-respiratory-dist_2020_International-Jour-p3-89%0.png\n",
            "covid_data/covid/2020.03.26.20041426-p11-119.png\n",
            "covid_data/covid/2020.03.18.20038125-p16-56-3.png\n",
            "covid_data/covid/2020.02.17.20024018-p17-61%2.png\n",
            "covid_data/covid/2020.03.18.20038125-p15-54-5.png\n",
            "covid_data/covid/2020.02.25.20027763-p15-53%0.png\n",
            "covid_data/covid/2020.02.19.20025023-p20-93%0.png\n",
            "covid_data/covid/2020.03.22.20040782-p24-1533-5.png\n",
            "covid_data/covid/2020.03.11.20033159-p12-45%5.png\n",
            "covid_data/covid/2020.03.13.20035212-p23-162.png\n",
            "covid_data/covid/2020.02.26.20026989-p34-114_2%0.png\n",
            "covid_data/covid/2020.02.26.20027938-p6-80_3%1.png\n",
            "covid_data/covid/Ni2020_Article_CombinationOfWesternMedicineAn-p4-13%1.png\n",
            "covid_data/covid/2020.02.26.20027938-p6-80_1%1.png\n",
            "covid_data/covid/2020.02.22.20024927-p20-70%2.png\n",
            "covid_data/covid/2020.02.23.20026856-p17-115%0.png\n",
            "covid_data/covid/2020.02.25.20021568-p23-108%12.png\n",
            "covid_data/covid/2020.03.18.20038125-p16-56-5.png\n",
            "covid_data/covid/2020.02.27.20027557-p25-137%2.png\n",
            "covid_data/covid/Comparison-of-different-samples-for-2019-novel-cor_2020_International-Journa-p2-21%1.png\n",
            "covid_data/covid/2020.03.04.20031047-p12-81%1.png\n",
            "covid_data/covid/2020.03.04.20030395-p27-108%2.png\n",
            "covid_data/covid/2020.03.04.20030395-p27-108%5.png\n",
            "covid_data/covid/2020.02.26.20027938-p6-80_3%0.png\n",
            "covid_data/covid/2020.02.25.20021568-p24-111%1.png\n",
            "covid_data/covid/2020.02.19.20025023-p20-93%3.png\n",
            "covid_data/covid/2020.03.11.20033159-p12-45%4.png\n",
            "covid_data/covid/2020.02.10.20021584-p6-52%15.png\n",
            "covid_data/covid/bmj.m606.full-p4-22%6.png\n",
            "covid_data/covid/2020.03.22.20034041-p16-66.png\n",
            "covid_data/covid/2020.03.16.20036145-p19-128-4.png\n",
            "covid_data/covid/2020.03.26.20041426-p11-133.png\n",
            "covid_data/covid/2020.03.08.20031658-p15-105.png\n",
            "covid_data/covid/2020.03.19.20038539-p10-59.png\n",
            "covid_data/covid/2020.03.18.20038125-p16-56-2.png\n",
            "covid_data/covid/2020.03.13.20035212-p23-157.png\n",
            "covid_data/covid/med-9780198814924-chapter-17-p10-515.png\n",
            "covid_data/covid/2020.02.10.20021584-p6-52%2.png\n",
            "covid_data/covid/2020.03.21.20040691-p18-67-3.png\n",
            "covid_data/covid/2020.03.12.20027185-p8-221.png\n",
            "covid_data/covid/2020.02.23.20026856-p17-115%4.png\n",
            "covid_data/covid/2020.02.13.20022673-p13-77%1.png\n",
            "covid_data/covid/2020.03.04.20026005-p12-1946%5.png\n",
            "covid_data/covid/Comparison-of-different-samples-for-2019-novel-cor_2020_International-Journa-p2-21%10.png\n",
            "covid_data/covid/2020.03.09.20033118-p20-93%2.png\n",
            "covid_data/covid/2020.03.19.20038539-p10-57.png\n",
            "covid_data/covid/2020.01.24.919183-p27-135.png\n",
            "covid_data/covid/Comparison-of-different-samples-for-2019-novel-cor_2020_International-Journa-p2-21%6.png\n",
            "covid_data/covid/2020.03.11.20033159-p12-45%0.png\n",
            "covid_data/covid/2020.03.13.20035212-p23-155.png\n",
            "covid_data/covid/PIIS0140673620303603%7.png\n",
            "covid_data/covid/2020.03.26.20041426-p11-126.png\n",
            "covid_data/covid/PIIS0140673620301549_1.png\n",
            "covid_data/covid/2020.03.26.20041426-p11-132.png\n",
            "covid_data/covid/2020.03.04.20031047-p13-84%1.png\n",
            "covid_data/covid/kjr-21-e24-p5-31.png\n",
            "covid_data/non_covid/\n",
            "covid_data/non_covid/29%0.jpg\n",
            "covid_data/non_covid/32%0.jpg\n",
            "covid_data/non_covid/13.jpg\n",
            "covid_data/non_covid/1%2.jpg\n",
            "covid_data/non_covid/6%2.jpg\n",
            "covid_data/non_covid/8.jpg\n",
            "covid_data/non_covid/37%3.jpg\n",
            "covid_data/non_covid/29%2.jpg\n",
            "covid_data/non_covid/36%0.jpg\n",
            "covid_data/non_covid/25%0.jpg\n",
            "covid_data/non_covid/39%7.jpg\n",
            "covid_data/non_covid/40%0.jpg\n",
            "covid_data/non_covid/1%1.jpg\n",
            "covid_data/non_covid/39%8.jpg\n",
            "covid_data/non_covid/41.jpg\n",
            "covid_data/non_covid/36%1.jpg\n",
            "covid_data/non_covid/6%1.jpg\n",
            "covid_data/non_covid/22%1.jpg\n",
            "covid_data/non_covid/20.jpg\n",
            "covid_data/non_covid/10%0.jpg\n",
            "covid_data/non_covid/23.png\n",
            "covid_data/non_covid/22%0.jpg\n",
            "covid_data/non_covid/5%3.jpg\n",
            "covid_data/non_covid/7.jpg\n",
            "covid_data/non_covid/10%2.jpg\n",
            "covid_data/non_covid/38%2.jpg\n",
            "covid_data/non_covid/5%6.jpg\n",
            "covid_data/non_covid/39%0.jpg\n",
            "covid_data/non_covid/15%0.jpg\n",
            "covid_data/non_covid/35%0.jpg\n",
            "covid_data/non_covid/5%0.jpg\n",
            "covid_data/non_covid/37%4.jpg\n",
            "covid_data/non_covid/10%1.jpg\n",
            "covid_data/non_covid/4%7.jpg\n",
            "covid_data/non_covid/2%2.jpg\n",
            "covid_data/non_covid/26%2.jpg\n",
            "covid_data/non_covid/38%1.jpg\n",
            "covid_data/non_covid/39%5.jpg\n",
            "covid_data/non_covid/25.png\n",
            "covid_data/non_covid/26.png\n",
            "covid_data/non_covid/33%1.jpg\n",
            "covid_data/non_covid/30%5.jpg\n",
            "covid_data/non_covid/4%3.jpg\n",
            "covid_data/non_covid/19%1.jpg\n",
            "covid_data/non_covid/29%1.jpg\n",
            "covid_data/non_covid/18%3.jpg\n",
            "covid_data/non_covid/25%1.jpg\n",
            "covid_data/non_covid/39%3.jpg\n",
            "covid_data/non_covid/40%1.jpg\n",
            "covid_data/non_covid/15.png\n",
            "covid_data/non_covid/17%1.jpg\n",
            "covid_data/non_covid/6%3.jpg\n",
            "covid_data/non_covid/30%1.jpg\n",
            "covid_data/non_covid/14%3.jpg\n",
            "covid_data/non_covid/29%3.jpg\n",
            "covid_data/non_covid/5%2.jpg\n",
            "covid_data/non_covid/12.jpg\n",
            "covid_data/non_covid/34.jpg\n",
            "covid_data/non_covid/2%0.jpg\n",
            "covid_data/non_covid/14%1.jpg\n",
            "covid_data/non_covid/4%5.jpg\n",
            "covid_data/non_covid/37%0.jpg\n",
            "covid_data/non_covid/35%2.jpg\n",
            "covid_data/non_covid/38%0.jpg\n",
            "covid_data/non_covid/31.jpg\n",
            "covid_data/non_covid/15%2.jpg\n",
            "covid_data/non_covid/16.jpg\n",
            "covid_data/non_covid/43.png\n",
            "covid_data/non_covid/27.jpg\n",
            "covid_data/non_covid/18%1.jpg\n",
            "covid_data/non_covid/18%0.jpg\n",
            "covid_data/non_covid/30%0.jpg\n",
            "covid_data/non_covid/15%3.jpg\n",
            "covid_data/non_covid/11%1.jpg\n",
            "covid_data/non_covid/21%1.jpg\n",
            "covid_data/non_covid/30%4.jpg\n",
            "covid_data/non_covid/17%0.jpg\n",
            "covid_data/non_covid/14.png\n",
            "covid_data/non_covid/30%2.jpg\n",
            "covid_data/non_covid/33.png\n",
            "covid_data/non_covid/42.jpg\n",
            "covid_data/non_covid/25%3.jpg\n",
            "covid_data/non_covid/33%0.jpg\n",
            "covid_data/non_covid/5%1.jpg\n",
            "covid_data/non_covid/14%0.jpg\n",
            "covid_data/non_covid/2%1.jpg\n",
            "covid_data/non_covid/4%1.jpg\n",
            "covid_data/non_covid/26%1.jpg\n",
            "covid_data/non_covid/0.jpg\n",
            "covid_data/non_covid/5%5.jpg\n",
            "covid_data/non_covid/25%2.jpg\n",
            "covid_data/non_covid/18%2.jpg\n",
            "covid_data/non_covid/6%0.jpg\n",
            "covid_data/non_covid/37%2.jpg\n",
            "covid_data/non_covid/15%1.jpg\n",
            "covid_data/non_covid/21%0.jpg\n",
            "covid_data/non_covid/26%0.jpg\n",
            "covid_data/non_covid/19%0.jpg\n",
            "covid_data/non_covid/14%2.jpg\n",
            "covid_data/non_covid/39%1.jpg\n",
            "covid_data/non_covid/24.png\n",
            "covid_data/non_covid/35%1.jpg\n",
            "covid_data/non_covid/11%0.jpg\n",
            "covid_data/non_covid/39%4.jpg\n",
            "covid_data/non_covid/1%0.jpg\n",
            "covid_data/non_covid/28.jpg\n",
            "covid_data/non_covid/37%1.jpg\n",
            "covid_data/non_covid/39%6.jpg\n",
            "covid_data/non_covid/30%3.jpg\n",
            "covid_data/non_covid/26%3.jpg\n",
            "covid_data/non_covid/39%2.jpg\n",
            "covid_data/non_covid/2%3.jpg\n",
            "covid_data/non_covid/9.jpg\n",
            "covid_data/non_covid/3.jpg\n",
            "covid_data/non_covid/11%2.jpg\n",
            "covid_data/non_covid/32%1.jpg\n",
            "covid_data/non_covid/5%7.jpg\n",
            "covid_data/non_covid/5%4.jpg\n"
          ],
          "name": "stdout"
        }
      ]
    },
    {
      "cell_type": "code",
      "metadata": {
        "colab": {
          "base_uri": "https://localhost:8080/"
        },
        "id": "AFErloo411Pm",
        "outputId": "4ce0a318-f4ed-4eac-db25-30203ffcd28a"
      },
      "source": [
        "!cp -av covid_images.tar.gz /content/drive/My\\ Drive/BIOINF"
      ],
      "execution_count": null,
      "outputs": [
        {
          "output_type": "stream",
          "text": [
            "'covid_images.tar.gz' -> '/content/drive/My Drive/BIOINF/covid_images.tar.gz'\n"
          ],
          "name": "stdout"
        }
      ]
    },
    {
      "cell_type": "code",
      "metadata": {
        "id": "fHc9Z-8k4ITM"
      },
      "source": [
        "!cp /content/drive/My\\ Drive/BIOINF/covid_images.tar.gz covid_project/ # replace 'test' with real folder name "
      ],
      "execution_count": 4,
      "outputs": []
    },
    {
      "cell_type": "code",
      "metadata": {
        "id": "p40Fx8Np4eO-"
      },
      "source": [
        "!tar -xf covid_project/covid_images.tar.gz -C covid_project/ # replace 'test' with real folder name "
      ],
      "execution_count": 7,
      "outputs": []
    },
    {
      "cell_type": "markdown",
      "metadata": {
        "id": "xvh2sHXx5gS2"
      },
      "source": [
        "<h2>Dataloader</h2>"
      ]
    },
    {
      "cell_type": "code",
      "metadata": {
        "id": "8D2tFM-f7sP-"
      },
      "source": [
        "path = Path('covid_project')\n",
        "failed = verify_images(get_image_files(path))\n",
        "failed.map(Path.unlink);"
      ],
      "execution_count": 16,
      "outputs": []
    },
    {
      "cell_type": "code",
      "metadata": {
        "id": "ijgZziQGBNu8"
      },
      "source": [
        "covid = DataBlock(\n",
        "    blocks = (ImageBlock, CategoryBlock),\n",
        "    get_items = get_image_files,\n",
        "    splitter = RandomSplitter(valid_pct=0.2, seed=42),\n",
        "    get_y = parent_label,\n",
        "    item_tfms = Resize(128)\n",
        ")"
      ],
      "execution_count": 17,
      "outputs": []
    },
    {
      "cell_type": "code",
      "metadata": {
        "id": "4oQ3_B1KDakx"
      },
      "source": [
        "dls = covid.dataloaders(path)"
      ],
      "execution_count": 18,
      "outputs": []
    },
    {
      "cell_type": "code",
      "metadata": {
        "colab": {
          "base_uri": "https://localhost:8080/",
          "height": 370
        },
        "id": "GFms0JQ4EUF-",
        "outputId": "66796a69-f0ea-4116-f23f-b444478b20c2"
      },
      "source": [
        "dls.show_batch(max_n=8, nrows=2)"
      ],
      "execution_count": 22,
      "outputs": [
        {
          "output_type": "display_data",
          "data": {
            "image/png": "[encoded data removed]",
            "text/plain": [
              "<Figure size 864x432 with 8 Axes>"
            ]
          },
          "metadata": {
            "tags": [],
            "needs_background": "light"
          }
        }
      ]
    },
    {
      "cell_type": "markdown",
      "metadata": {
        "id": "hyxRRiLJGQ-9"
      },
      "source": [
        "<h2>Train learner</h2>"
      ]
    },
    {
      "cell_type": "code",
      "metadata": {
        "colab": {
          "base_uri": "https://localhost:8080/",
          "height": 422
        },
        "id": "TO5Ym2kZGYB_",
        "outputId": "d6aaf21b-3936-4662-a766-23834b118554"
      },
      "source": [
        "learn = cnn_learner(dls, resnet18, metrics=error_rate)\n",
        "learn.fine_tune(10)"
      ],
      "execution_count": 25,
      "outputs": [
        {
          "output_type": "display_data",
          "data": {
            "text/html": [
              "<table border=\"1\" class=\"dataframe\">\n",
              "  <thead>\n",
              "    <tr style=\"text-align: left;\">\n",
              "      <th>epoch</th>\n",
              "      <th>train_loss</th>\n",
              "      <th>valid_loss</th>\n",
              "      <th>error_rate</th>\n",
              "      <th>time</th>\n",
              "    </tr>\n",
              "  </thead>\n",
              "  <tbody>\n",
              "    <tr>\n",
              "      <td>0</td>\n",
              "      <td>1.199231</td>\n",
              "      <td>0.556838</td>\n",
              "      <td>0.279570</td>\n",
              "      <td>00:03</td>\n",
              "    </tr>\n",
              "  </tbody>\n",
              "</table>"
            ],
            "text/plain": [
              "<IPython.core.display.HTML object>"
            ]
          },
          "metadata": {
            "tags": []
          }
        },
        {
          "output_type": "display_data",
          "data": {
            "text/html": [
              "<table border=\"1\" class=\"dataframe\">\n",
              "  <thead>\n",
              "    <tr style=\"text-align: left;\">\n",
              "      <th>epoch</th>\n",
              "      <th>train_loss</th>\n",
              "      <th>valid_loss</th>\n",
              "      <th>error_rate</th>\n",
              "      <th>time</th>\n",
              "    </tr>\n",
              "  </thead>\n",
              "  <tbody>\n",
              "    <tr>\n",
              "      <td>0</td>\n",
              "      <td>0.996169</td>\n",
              "      <td>0.604116</td>\n",
              "      <td>0.333333</td>\n",
              "      <td>00:03</td>\n",
              "    </tr>\n",
              "    <tr>\n",
              "      <td>1</td>\n",
              "      <td>0.918153</td>\n",
              "      <td>0.623800</td>\n",
              "      <td>0.279570</td>\n",
              "      <td>00:03</td>\n",
              "    </tr>\n",
              "    <tr>\n",
              "      <td>2</td>\n",
              "      <td>0.824411</td>\n",
              "      <td>0.642639</td>\n",
              "      <td>0.311828</td>\n",
              "      <td>00:03</td>\n",
              "    </tr>\n",
              "    <tr>\n",
              "      <td>3</td>\n",
              "      <td>0.774684</td>\n",
              "      <td>0.656693</td>\n",
              "      <td>0.322581</td>\n",
              "      <td>00:03</td>\n",
              "    </tr>\n",
              "    <tr>\n",
              "      <td>4</td>\n",
              "      <td>0.724013</td>\n",
              "      <td>0.729420</td>\n",
              "      <td>0.311828</td>\n",
              "      <td>00:03</td>\n",
              "    </tr>\n",
              "    <tr>\n",
              "      <td>5</td>\n",
              "      <td>0.654131</td>\n",
              "      <td>0.690679</td>\n",
              "      <td>0.301075</td>\n",
              "      <td>00:03</td>\n",
              "    </tr>\n",
              "    <tr>\n",
              "      <td>6</td>\n",
              "      <td>0.590809</td>\n",
              "      <td>0.677414</td>\n",
              "      <td>0.301075</td>\n",
              "      <td>00:03</td>\n",
              "    </tr>\n",
              "    <tr>\n",
              "      <td>7</td>\n",
              "      <td>0.548714</td>\n",
              "      <td>0.648854</td>\n",
              "      <td>0.290323</td>\n",
              "      <td>00:03</td>\n",
              "    </tr>\n",
              "    <tr>\n",
              "      <td>8</td>\n",
              "      <td>0.508170</td>\n",
              "      <td>0.633292</td>\n",
              "      <td>0.290323</td>\n",
              "      <td>00:03</td>\n",
              "    </tr>\n",
              "    <tr>\n",
              "      <td>9</td>\n",
              "      <td>0.471510</td>\n",
              "      <td>0.648919</td>\n",
              "      <td>0.290323</td>\n",
              "      <td>00:03</td>\n",
              "    </tr>\n",
              "  </tbody>\n",
              "</table>"
            ],
            "text/plain": [
              "<IPython.core.display.HTML object>"
            ]
          },
          "metadata": {
            "tags": []
          }
        }
      ]
    },
    {
      "cell_type": "markdown",
      "metadata": {
        "id": "uneggKhQIgfK"
      },
      "source": [
        "<h2>Export learner</h2>"
      ]
    },
    {
      "cell_type": "code",
      "metadata": {
        "id": "bMuTkxyOIgDN"
      },
      "source": [
        "learn.export('covid_classifier.pkl')"
      ],
      "execution_count": 26,
      "outputs": []
    },
    {
      "cell_type": "code",
      "metadata": {
        "colab": {
          "base_uri": "https://localhost:8080/"
        },
        "id": "OZZbT2Z8JJ_4",
        "outputId": "6eec35d4-e926-4a29-f7bb-b4ca4932803c"
      },
      "source": [
        "# Check if path exists\n",
        "path = Path()\n",
        "path.ls(file_exts='.pkl')"
      ],
      "execution_count": 27,
      "outputs": [
        {
          "output_type": "execute_result",
          "data": {
            "text/plain": [
              "(#1) [Path('covid_classifier.pkl')]"
            ]
          },
          "metadata": {
            "tags": []
          },
          "execution_count": 27
        }
      ]
    },
    {
      "cell_type": "code",
      "metadata": {
        "id": "u8bvhWsSJUFV"
      },
      "source": [
        "# Save covid_classifier.pkl on google drive\n",
        "# !cp /content/covid_classifier.pkl /content/drive/My\\ Drive/BIOINF/covid_classifier.pkl"
      ],
      "execution_count": 28,
      "outputs": []
    },
    {
      "cell_type": "markdown",
      "metadata": {
        "id": "11fFabQTJ9om"
      },
      "source": [
        "<h2>Import learner + inference</h2>"
      ]
    },
    {
      "cell_type": "code",
      "metadata": {
        "id": "6aZ9NbMjJw5M"
      },
      "source": [
        "# Uncomment line to copy learner from google drive\n",
        "# !cp /content/drive/My\\ Drive/BIOINF/covid_classifier.pkl ./ "
      ],
      "execution_count": 29,
      "outputs": []
    },
    {
      "cell_type": "code",
      "metadata": {
        "id": "gnrggmX9KW8M"
      },
      "source": [
        "inference = load_learner(path/'covid_classifier.pkl')"
      ],
      "execution_count": 30,
      "outputs": []
    },
    {
      "cell_type": "code",
      "metadata": {
        "id": "CSq4kYe6K9ii"
      },
      "source": [
        "# Save test image on google drive\n",
        "# !cp /content/Testbild.jpeg /content/drive/My\\ Drive/BIOINF/\n",
        "!cp /content/drive/My\\ Drive/BIOINF/Testbild.jpeg ./"
      ],
      "execution_count": 33,
      "outputs": []
    },
    {
      "cell_type": "code",
      "metadata": {
        "colab": {
          "base_uri": "https://localhost:8080/",
          "height": 113
        },
        "id": "rMvsJ5s2MOnq",
        "outputId": "58492b90-873c-40fb-b744-a89cd530ff47"
      },
      "source": [
        "img = Image.open('Testbild.jpeg')\n",
        "img.to_thumb(128,128)"
      ],
      "execution_count": 34,
      "outputs": [
        {
          "output_type": "execute_result",
          "data": {
            "image/png": "[encoded data removed]",
            "text/plain": [
              "<PIL.Image.Image image mode=L size=128x96 at 0x7F58D2291D90>"
            ]
          },
          "metadata": {
            "tags": []
          },
          "execution_count": 34
        }
      ]
    },
    {
      "cell_type": "code",
      "metadata": {
        "colab": {
          "base_uri": "https://localhost:8080/",
          "height": 34
        },
        "id": "UKCdTuB9MyRp",
        "outputId": "07588367-3fde-4ed2-edc7-8156b98478e4"
      },
      "source": [
        "# inference.predict('Testbild.jpeg')\n",
        "inference.predict('Testbild_gesund.jpg')"
      ],
      "execution_count": 38,
      "outputs": [
        {
          "output_type": "display_data",
          "data": {
            "text/html": [
              ""
            ],
            "text/plain": [
              "<IPython.core.display.HTML object>"
            ]
          },
          "metadata": {
            "tags": []
          }
        },
        {
          "output_type": "execute_result",
          "data": {
            "text/plain": [
              "('non_covid', tensor(1), tensor([0.0839, 0.9161]))"
            ]
          },
          "metadata": {
            "tags": []
          },
          "execution_count": 38
        }
      ]
    },
    {
      "cell_type": "code",
      "metadata": {
        "colab": {
          "base_uri": "https://localhost:8080/"
        },
        "id": "H4mPa0U0M7Xa",
        "outputId": "b63405d5-13f1-44ff-dccf-19279f4095ab"
      },
      "source": [
        "inference.dls.vocab"
      ],
      "execution_count": 37,
      "outputs": [
        {
          "output_type": "execute_result",
          "data": {
            "text/plain": [
              "['covid', 'non_covid']"
            ]
          },
          "metadata": {
            "tags": []
          },
          "execution_count": 37
        }
      ]
    },
    {
      "cell_type": "markdown",
      "metadata": {
        "id": "J7Wg48oLPFbr"
      },
      "source": [
        "<h2>User Interface</h2>"
      ]
    },
    {
      "cell_type": "code",
      "metadata": {
        "id": "OgtIfJoDNhix"
      },
      "source": [
        "import ipywidgets as widgets"
      ],
      "execution_count": 39,
      "outputs": []
    },
    {
      "cell_type": "code",
      "metadata": {
        "colab": {
          "base_uri": "https://localhost:8080/",
          "height": 49,
          "referenced_widgets": [
            "e3fb6dfd8bae4ae495402f76950a0767",
            "42704506015b49abaa870a7f1d647615",
            "20a77a72176f476285c93426e2f899c0"
          ]
        },
        "id": "MCmm25BPPQA6",
        "outputId": "6456588a-7437-4ece-823e-35588f62b71b"
      },
      "source": [
        "btn_upload = widgets.FileUpload()\n",
        "btn_upload"
      ],
      "execution_count": 41,
      "outputs": [
        {
          "output_type": "display_data",
          "data": {
            "application/vnd.jupyter.widget-view+json": {
              "model_id": "e3fb6dfd8bae4ae495402f76950a0767",
              "version_minor": 0,
              "version_major": 2
            },
            "text/plain": [
              "FileUpload(value={}, description='Upload')"
            ]
          },
          "metadata": {
            "tags": []
          }
        }
      ]
    },
    {
      "cell_type": "code",
      "metadata": {
        "colab": {
          "base_uri": "https://localhost:8080/",
          "height": 113,
          "referenced_widgets": [
            "8651ec921c0a4fd993bc7a57426780e1",
            "cc50ca01df8b461fa7b9d8dd3f0c5019"
          ]
        },
        "id": "3NNH6xC1PVJb",
        "outputId": "47f3659b-d38c-4b12-cee8-bb1d18e8e3e3"
      },
      "source": [
        "out_pl = widgets.Output()\n",
        "out_pl.clear_output()\n",
        "with out_pl: display(img.to_thumb(128,128))\n",
        "out_pl"
      ],
      "execution_count": 44,
      "outputs": [
        {
          "output_type": "display_data",
          "data": {
            "application/vnd.jupyter.widget-view+json": {
              "model_id": "8651ec921c0a4fd993bc7a57426780e1",
              "version_minor": 0,
              "version_major": 2
            },
            "text/plain": [
              "Output()"
            ]
          },
          "metadata": {
            "tags": []
          }
        }
      ]
    },
    {
      "cell_type": "code",
      "metadata": {
        "id": "B9u7cwMCPofg"
      },
      "source": [
        "img = PILImage.create(btn_upload.data[-1])"
      ],
      "execution_count": 45,
      "outputs": []
    },
    {
      "cell_type": "code",
      "metadata": {
        "colab": {
          "base_uri": "https://localhost:8080/",
          "height": 17
        },
        "id": "H_IH5vxnPxPx",
        "outputId": "76ac4238-7766-442b-c127-1535933f28b3"
      },
      "source": [
        "pred, pred_idx, probs = inference.predict(img)"
      ],
      "execution_count": 46,
      "outputs": [
        {
          "output_type": "display_data",
          "data": {
            "text/html": [
              ""
            ],
            "text/plain": [
              "<IPython.core.display.HTML object>"
            ]
          },
          "metadata": {
            "tags": []
          }
        }
      ]
    },
    {
      "cell_type": "code",
      "metadata": {
        "colab": {
          "base_uri": "https://localhost:8080/",
          "height": 49,
          "referenced_widgets": [
            "0c945dafbb374430a6b4e74110500f81",
            "830787c2bef74d709bb30dd0159f5d34",
            "697107ef20384a51a167697e4d7e9a7d"
          ]
        },
        "id": "_NJdkCTbQGNz",
        "outputId": "f4138a1a-ce53-476c-8da1-bde89c5c584c"
      },
      "source": [
        "lbl_pred = widgets.Label()\n",
        "lbl_pred.value = f'Prediction: {pred}; Probability: {probs[pred_idx]:.04f}'\n",
        "lbl_pred"
      ],
      "execution_count": 47,
      "outputs": [
        {
          "output_type": "display_data",
          "data": {
            "application/vnd.jupyter.widget-view+json": {
              "model_id": "0c945dafbb374430a6b4e74110500f81",
              "version_minor": 0,
              "version_major": 2
            },
            "text/plain": [
              "Label(value='Prediction: covid; Probability: 0.9862')"
            ]
          },
          "metadata": {
            "tags": []
          }
        }
      ]
    },
    {
      "cell_type": "code",
      "metadata": {
        "colab": {
          "base_uri": "https://localhost:8080/",
          "height": 49,
          "referenced_widgets": [
            "4af557ca56904c78b5bd84aef575cdaa",
            "cc080dc7c37a4c5bbbad5bed4d3db919",
            "1455ca98ff1a47a2857e1dca56d5ce30"
          ]
        },
        "id": "Eu4IYEJ3QbD6",
        "outputId": "9bf96bbd-05a6-4201-9969-32e57b83e032"
      },
      "source": [
        "btn_run = widgets.Button(description='Classify Covid')\n",
        "btn_run"
      ],
      "execution_count": 48,
      "outputs": [
        {
          "output_type": "display_data",
          "data": {
            "application/vnd.jupyter.widget-view+json": {
              "model_id": "4af557ca56904c78b5bd84aef575cdaa",
              "version_minor": 0,
              "version_major": 2
            },
            "text/plain": [
              "Button(description='Classify Covid', style=ButtonStyle())"
            ]
          },
          "metadata": {
            "tags": []
          }
        }
      ]
    },
    {
      "cell_type": "code",
      "metadata": {
        "id": "fvVXgqZuQ1Mi"
      },
      "source": [
        "def on_click_classify(change):\n",
        "  img = PILImage.create(btn_upload.data[-1])\n",
        "  out_pl.clear_output()\n",
        "  with out_pl: display(img.to_thumb(128,128))\n",
        "  pred, pred_idx, probs = inference.predict(img)\n",
        "  lbl_pred.value = f'Prediction: {pred}; Probability: {probs[pred_idx]:.04f}'\n",
        "\n",
        "btn_run.on_click(on_click_classify)"
      ],
      "execution_count": 49,
      "outputs": []
    },
    {
      "cell_type": "code",
      "metadata": {
        "colab": {
          "base_uri": "https://localhost:8080/",
          "height": 241,
          "referenced_widgets": [
            "4cd03d700506428e91d25b3e2012f6f1",
            "6b548fd0d5c74be4aba63fff65ea23d2",
            "5b0b31219e584a909337742b929e0375",
            "aadeae410fb541e696babda15b1a20cd",
            "4af557ca56904c78b5bd84aef575cdaa",
            "8651ec921c0a4fd993bc7a57426780e1",
            "0c945dafbb374430a6b4e74110500f81",
            "1afba454b6744bbe9ad5e332d37b1082",
            "7f089b07aa9c4aae8f8b58d176aa89e6",
            "2d0d0f46b4b04bf08a19b28a9e2c556b",
            "2783c91d13814b06968f7bb5d67f26cc",
            "cc080dc7c37a4c5bbbad5bed4d3db919",
            "1455ca98ff1a47a2857e1dca56d5ce30",
            "830787c2bef74d709bb30dd0159f5d34",
            "697107ef20384a51a167697e4d7e9a7d",
            "cc50ca01df8b461fa7b9d8dd3f0c5019"
          ]
        },
        "id": "_TCxMjV3RXbq",
        "outputId": "3989aea0-32e4-499c-9351-2c5f682c56e8"
      },
      "source": [
        "btn_upload = widgets.FileUpload()\n",
        "widgets.VBox([widgets.Label(\"Select lung CT:\"),\n",
        "             btn_upload, btn_run, out_pl, lbl_pred])"
      ],
      "execution_count": 50,
      "outputs": [
        {
          "output_type": "display_data",
          "data": {
            "application/vnd.jupyter.widget-view+json": {
              "model_id": "4cd03d700506428e91d25b3e2012f6f1",
              "version_minor": 0,
              "version_major": 2
            },
            "text/plain": [
              "VBox(children=(Label(value='Select lung CT:'), FileUpload(value={}, description='Upload'), Button(description=…"
            ]
          },
          "metadata": {
            "tags": []
          }
        },
        {
          "output_type": "display_data",
          "data": {
            "text/html": [
              ""
            ],
            "text/plain": [
              "<IPython.core.display.HTML object>"
            ]
          },
          "metadata": {
            "tags": []
          }
        },
        {
          "output_type": "display_data",
          "data": {
            "text/html": [
              ""
            ],
            "text/plain": [
              "<IPython.core.display.HTML object>"
            ]
          },
          "metadata": {
            "tags": []
          }
        },
        {
          "output_type": "display_data",
          "data": {
            "text/html": [
              ""
            ],
            "text/plain": [
              "<IPython.core.display.HTML object>"
            ]
          },
          "metadata": {
            "tags": []
          }
        },
        {
          "output_type": "display_data",
          "data": {
            "text/html": [
              ""
            ],
            "text/plain": [
              "<IPython.core.display.HTML object>"
            ]
          },
          "metadata": {
            "tags": []
          }
        },
        {
          "output_type": "display_data",
          "data": {
            "text/html": [
              ""
            ],
            "text/plain": [
              "<IPython.core.display.HTML object>"
            ]
          },
          "metadata": {
            "tags": []
          }
        },
        {
          "output_type": "display_data",
          "data": {
            "text/html": [
              ""
            ],
            "text/plain": [
              "<IPython.core.display.HTML object>"
            ]
          },
          "metadata": {
            "tags": []
          }
        }
      ]
    }
  ]
}